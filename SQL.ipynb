{
 "cells": [
  {
   "cell_type": "code",
   "execution_count": 1,
   "id": "3832d04e-1ddc-4475-aac7-e44990886bd6",
   "metadata": {},
   "outputs": [
    {
     "name": "stdout",
     "output_type": "stream",
     "text": [
      "Requirement already satisfied: mysql-connector-python in c:\\users\\ghimi\\anaconda3\\lib\\site-packages (8.4.0)\n"
     ]
    }
   ],
   "source": [
    "!pip install mysql-connector-python"
   ]
  },
  {
   "cell_type": "code",
   "execution_count": 1,
   "id": "a47a1cfb-d8e7-40d1-80ae-79a33db652fb",
   "metadata": {},
   "outputs": [],
   "source": [
    "import mysql.connector\n",
    "database = mysql.connector.connect(\n",
    "   host=\"localhost\",\n",
    "   user=\"root\",\n",
    "   password=\"\",\n",
    "   database = \"python_class_8_am\")\n",
    "db = database.cursor()\n"
   ]
  },
  {
   "cell_type": "code",
   "execution_count": 2,
   "id": "6d4d7c10-7f74-4d3d-899a-e756ecdd62ff",
   "metadata": {},
   "outputs": [
    {
     "name": "stdout",
     "output_type": "stream",
     "text": [
      "(100, 'Ram', 100, 100, 100, 100, 100, 100, 100.0, 'A+')\n",
      "(200, 'Shyam', 99, 99, 99, 99, 99, 493, 99.98, 'A+')\n",
      "(300, 'Hari', 98, 98, 98, 98, 98, 496, 98.0, 'A+')\n"
     ]
    }
   ],
   "source": [
    "db.execute(\"SELECT * FROM student\")\n",
    "result =db.fetchall()\n",
    "for x in result:\n",
    "     print(x)"
   ]
  },
  {
   "cell_type": "code",
   "execution_count": 3,
   "id": "d2d14644-b858-4d04-a8c7-3b3f59edf3bf",
   "metadata": {},
   "outputs": [
    {
     "name": "stdout",
     "output_type": "stream",
     "text": [
      "1 record inserted.\n"
     ]
    }
   ],
   "source": [
    "sql = '''INSERT INTO student (`sn`,`name`, `physics`, `chemistry`, `math`, `english`,`nepali`, `total`, `per`, `grade`) \n",
    "VALUES ('22', 'Ifran Hizab', '98', '68', '94', '89', '78', '416', '83.45', 'A');'''\n",
    "\n",
    "db.execute(sql)\n",
    "\n",
    "database.commit()\n",
    "\n",
    "print(db.rowcount, \"record inserted.\")"
   ]
  },
  {
   "cell_type": "code",
   "execution_count": 26,
   "id": "0a961747-917e-4c86-b499-71f20dba58c0",
   "metadata": {},
   "outputs": [
    {
     "name": "stdin",
     "output_type": "stream",
     "text": [
      "enter your name =  Zyana\n",
      "enter the marks obtained in physics =  100\n",
      "enter the marks obtained in chemistry =  100\n",
      "enter the marks obtained in maths =  100\n",
      "enter the marks obtained in english =  99\n",
      "enter the marks obtained in nepali =  88\n"
     ]
    },
    {
     "name": "stdout",
     "output_type": "stream",
     "text": [
      "1 record inserted.\n"
     ]
    }
   ],
   "source": [
    "name = input(\"enter your name = \")\n",
    "physics = int(input(\"enter the marks obtained in physics = \"))\n",
    "chemistry = int(input(\"enter the marks obtained in chemistry = \"))\n",
    "math = int(input(\"enter the marks obtained in maths = \"))\n",
    "english = int(input(\"enter the marks obtained in english = \"))\n",
    "nepali = int(input(\"enter the marks obtained in nepali = \"))\n",
    "\n",
    "total = physics + chemistry + math + english + nepali\n",
    "per = total/5\n",
    "\n",
    "if per >= 80:\n",
    "   grade = \"A\"\n",
    "elif per >= 60:\n",
    "   grade = \"B\"\n",
    "elif per >= 40:\n",
    "   grade = \"C\"\n",
    "else:\n",
    "   grade = \"NG\"\n",
    "\n",
    "\n",
    "\n",
    "\n",
    "\n",
    "sql = f'''INSERT INTO student (name, physics, chemistry, math, english,nepali, total, per, grade)\n",
    "         VALUES ('{name}', {physics}, {chemistry}, {math}, {english}, {nepali}, {total}, {per}, '{grade}');'''\n",
    "\n",
    "db.execute(sql)\n",
    "\n",
    "database.commit()\n",
    "\n",
    "print(db.rowcount, \"record inserted.\")"
   ]
  },
  {
   "cell_type": "code",
   "execution_count": 3,
   "id": "2faf9070-23cf-4edb-8f5f-9f8464c19ac2",
   "metadata": {},
   "outputs": [],
   "source": [
    "# update sql"
   ]
  },
  {
   "cell_type": "code",
   "execution_count": 5,
   "id": "292c979f-cb8d-40ce-84a3-95d93ad109c1",
   "metadata": {},
   "outputs": [
    {
     "name": "stdout",
     "output_type": "stream",
     "text": [
      "1 record(s) affected\n"
     ]
    }
   ],
   "source": [
    "sql = \"UPDATE student SET name = 'Asmita Dhungana' WHERE sn = 22\"\n",
    "\n",
    "db.execute(sql)\n",
    "\n",
    "database.commit()\n",
    "\n",
    "print(db.rowcount, \"record(s) affected\")"
   ]
  },
  {
   "cell_type": "code",
   "execution_count": 6,
   "id": "9cba71c9-495c-4ec3-8754-1e6f90b25304",
   "metadata": {},
   "outputs": [
    {
     "name": "stdout",
     "output_type": "stream",
     "text": [
      "1 record(s) affected\n"
     ]
    }
   ],
   "source": [
    "sql = \"UPDATE student SET name = 'Ankita Dhital' WHERE sn = 22\"\n",
    "\n",
    "db.execute(sql)\n",
    "\n",
    "database.commit()\n",
    "\n",
    "print(db.rowcount, \"record(s) affected\")"
   ]
  },
  {
   "cell_type": "code",
   "execution_count": 6,
   "id": "af3da527-3d3f-4cef-af75-6501545f65fc",
   "metadata": {},
   "outputs": [],
   "source": [
    "# delete in sql"
   ]
  },
  {
   "cell_type": "code",
   "execution_count": 7,
   "id": "bf1541ed-c371-4a3f-9461-c0048f3e9aa8",
   "metadata": {},
   "outputs": [
    {
     "name": "stdout",
     "output_type": "stream",
     "text": [
      "1 record(s) deleted\n"
     ]
    }
   ],
   "source": [
    "sql = \"DELETE FROM student WHERE sn = 22\"\n",
    "db.execute(sql)\n",
    "database.commit()\n",
    "print(db.rowcount, \"record(s) deleted\")"
   ]
  },
  {
   "cell_type": "code",
   "execution_count": 8,
   "id": "f9215416-b72a-4fa3-8a9d-e929a5fe44a4",
   "metadata": {},
   "outputs": [],
   "source": [
    "# select\n"
   ]
  },
  {
   "cell_type": "code",
   "execution_count": 8,
   "id": "72631ac2-8943-4684-a810-1c275d77bd31",
   "metadata": {},
   "outputs": [
    {
     "name": "stdout",
     "output_type": "stream",
     "text": [
      "(100, 'Ram', 100, 100, 100, 100, 100, 100, 100.0, 'A+')\n",
      "(200, 'Shyam', 99, 99, 99, 99, 99, 493, 99.98, 'A+')\n",
      "(300, 'Hari', 98, 98, 98, 98, 98, 496, 98.0, 'A+')\n",
      "(301, 'Emran Khan', 97, 97, 97, 97, 97, 485, 97.0, 'A')\n"
     ]
    }
   ],
   "source": [
    "db.execute(\"SELECT * FROM student WHERE physics > 95\")\n",
    "result =db.fetchall()\n",
    "for x in result:\n",
    "    print(x)"
   ]
  },
  {
   "cell_type": "code",
   "execution_count": 9,
   "id": "33cdceb3-5afd-40f4-bf9d-dc969d75e0ba",
   "metadata": {},
   "outputs": [],
   "source": [
    "db.execute(\"SELECT * FROM student WHERE physics < 95\")\n",
    "result =db.fetchall()\n",
    "for x in result:\n",
    "    print(x)"
   ]
  },
  {
   "cell_type": "code",
   "execution_count": 13,
   "id": "abae9e14-7270-4c26-a405-e7fcdcaa12c2",
   "metadata": {},
   "outputs": [
    {
     "name": "stdout",
     "output_type": "stream",
     "text": [
      "(100, 'Ram', 100, 100, 100, 100, 100, 100, 100.0, 'A+')\n"
     ]
    }
   ],
   "source": [
    "db.execute(\"SELECT * FROM student WHERE name LIKE '%Ram%'\")\n",
    "result =db.fetchall()\n",
    "for x in result:\n",
    "     print(x)"
   ]
  },
  {
   "cell_type": "code",
   "execution_count": 14,
   "id": "9024854e-996f-465d-8391-b6fa35b6a788",
   "metadata": {},
   "outputs": [
    {
     "name": "stdout",
     "output_type": "stream",
     "text": [
      "(100, 'Ram', 100, 100, 100, 100, 100, 100, 100.0, 'A+')\n"
     ]
    }
   ],
   "source": [
    "db.execute(\"SELECT * FROM student WHERE name LIKE '%Ram%'\")\n",
    "result =db.fetchall()\n",
    "for x in result:\n",
    "     print(x)"
   ]
  },
  {
   "cell_type": "code",
   "execution_count": 15,
   "id": "b0312c4e-1a3e-457e-9870-b3951fbae853",
   "metadata": {},
   "outputs": [
    {
     "name": "stdout",
     "output_type": "stream",
     "text": [
      "(300, 'Hari', 98, 98, 98, 98, 98, 496, 98.0, 'A+')\n",
      "(301, 'Emran Khan', 97, 97, 97, 97, 97, 485, 97.0, 'A')\n"
     ]
    }
   ],
   "source": [
    "db.execute(\"SELECT * FROM student WHERE physics < 99 and math > 59\")\n",
    "result =db.fetchall()\n",
    "for x in result:\n",
    "    print(x)"
   ]
  },
  {
   "cell_type": "code",
   "execution_count": 16,
   "id": "26fca124-d8f2-4f5f-88ea-d4f1588cf536",
   "metadata": {},
   "outputs": [
    {
     "name": "stdout",
     "output_type": "stream",
     "text": [
      "('Ram', 100, 100.0, 'A+')\n",
      "('Shyam', 493, 99.98, 'A+')\n",
      "('Hari', 496, 98.0, 'A+')\n",
      "('Emran Khan', 485, 97.0, 'A')\n"
     ]
    }
   ],
   "source": [
    "db.execute(\"SELECT name,total,per, grade FROM student\")\n",
    "result =db.fetchall()\n",
    "for x in result:\n",
    "    print(x)"
   ]
  },
  {
   "cell_type": "code",
   "execution_count": 17,
   "id": "5b4d4131-8cf0-421d-8b1a-37cd85045608",
   "metadata": {},
   "outputs": [
    {
     "name": "stdout",
     "output_type": "stream",
     "text": [
      "(100, 'Ram', 100, 100, 100, 100, 100, 100, 100.0, 'A+')\n",
      "(301, 'Emran Khan', 97, 97, 97, 97, 97, 485, 97.0, 'A')\n",
      "(200, 'Shyam', 99, 99, 99, 99, 99, 493, 99.98, 'A+')\n",
      "(300, 'Hari', 98, 98, 98, 98, 98, 496, 98.0, 'A+')\n"
     ]
    }
   ],
   "source": [
    "db.execute(\"SELECT * FROM student ORDER BY total\")\n",
    "result =db.fetchall()\n",
    "for x in result:\n",
    "    print(x)"
   ]
  },
  {
   "cell_type": "code",
   "execution_count": 18,
   "id": "05aad5ee-131b-4a75-9cde-925b3bff2bb1",
   "metadata": {},
   "outputs": [
    {
     "name": "stdout",
     "output_type": "stream",
     "text": [
      "(300, 'Hari', 98, 98, 98, 98, 98, 496, 98.0, 'A+')\n",
      "(200, 'Shyam', 99, 99, 99, 99, 99, 493, 99.98, 'A+')\n",
      "(301, 'Emran Khan', 97, 97, 97, 97, 97, 485, 97.0, 'A')\n",
      "(100, 'Ram', 100, 100, 100, 100, 100, 100, 100.0, 'A+')\n"
     ]
    }
   ],
   "source": [
    "db.execute(\"SELECT * FROM student ORDER BY total DESC\")\n",
    "result =db.fetchall()\n",
    "for x in result:\n",
    "    print(x)"
   ]
  },
  {
   "cell_type": "code",
   "execution_count": 2,
   "id": "7a31e40c-a543-4c49-bb29-8fd97b348a02",
   "metadata": {},
   "outputs": [
    {
     "name": "stdout",
     "output_type": "stream",
     "text": [
      "(305, 'Ankita Dhital', 98, 99, 100, 96, 93, 486, 97.2, 'A')\n",
      "(301, 'Emran Khan', 97, 97, 97, 97, 97, 485, 97.0, 'A')\n",
      "(307, 'Zyan Malik', 90, 99, 100, 88, 70, 447, 89.4, 'A')\n",
      "(303, 'Arambhav Paudel', 100, 76, 98, 88, 65, 427, 85.4, 'A')\n",
      "(302, 'Amish Dhungana', 56, 89, 77, 87, 100, 409, 81.8, 'A')\n",
      "(304, 'Sumit Bagdas', 0, 0, 33, 87, 34, 154, 30.8, 'NG')\n",
      "(50, 'Pujya Ghimire', 101, 101, 101, 101, 101, 101, 100.0, 'A++')\n",
      "(100, 'Ram Khatiwada', 100, 100, 100, 100, 100, 100, 100.0, 'A+')\n"
     ]
    }
   ],
   "source": [
    "db.execute(\"SELECT * FROM student ORDER BY total DESC\")\n",
    "result =db.fetchall()\n",
    "for x in result[3:11]:\n",
    "    print(x)"
   ]
  },
  {
   "cell_type": "code",
   "execution_count": null,
   "id": "d7a589ad-5964-4adb-ac7c-3bb66ddd8fcd",
   "metadata": {},
   "outputs": [],
   "source": []
  }
 ],
 "metadata": {
  "kernelspec": {
   "display_name": "Python 3 (ipykernel)",
   "language": "python",
   "name": "python3"
  },
  "language_info": {
   "codemirror_mode": {
    "name": "ipython",
    "version": 3
   },
   "file_extension": ".py",
   "mimetype": "text/x-python",
   "name": "python",
   "nbconvert_exporter": "python",
   "pygments_lexer": "ipython3",
   "version": "3.11.7"
  }
 },
 "nbformat": 4,
 "nbformat_minor": 5
}
