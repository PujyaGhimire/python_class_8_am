{
 "cells": [
  {
   "cell_type": "code",
   "execution_count": 1,
   "id": "79e53ce1-7d7d-438e-a5c5-669a43a69173",
   "metadata": {},
   "outputs": [],
   "source": [
    "# functions\n"
   ]
  },
  {
   "cell_type": "code",
   "execution_count": 2,
   "id": "b985c2a5-29c3-44a8-b9a3-2d92ffef72c3",
   "metadata": {},
   "outputs": [],
   "source": [
    "# Pre - defined Function\n",
    "# print() int() float() str() list() tuple() dict() set()\n"
   ]
  },
  {
   "cell_type": "code",
   "execution_count": 3,
   "id": "5c2bcafa-e7e6-41a2-884e-360c9e7e0afd",
   "metadata": {},
   "outputs": [],
   "source": [
    "# #  user defined function\n",
    "# def<function_name>:\n",
    "#     <operations>\n",
    "\n",
    "# <function_name>()"
   ]
  },
  {
   "cell_type": "code",
   "execution_count": 4,
   "id": "57169dcc-f254-41bf-8ad9-1747734dcb1a",
   "metadata": {},
   "outputs": [
    {
     "name": "stdout",
     "output_type": "stream",
     "text": [
      "hello world\n"
     ]
    }
   ],
   "source": [
    "def hello():    # function define\n",
    "    print(\"hello world\")\n",
    "hello()        # function call"
   ]
  },
  {
   "cell_type": "code",
   "execution_count": 5,
   "id": "9875e40c-b6a6-462e-be9f-ef890c862dab",
   "metadata": {},
   "outputs": [],
   "source": [
    "a = 10"
   ]
  },
  {
   "cell_type": "code",
   "execution_count": 6,
   "id": "577e2f26-2486-4341-8f87-bf85ef65cbe6",
   "metadata": {},
   "outputs": [
    {
     "name": "stdout",
     "output_type": "stream",
     "text": [
      "hello world\n"
     ]
    }
   ],
   "source": [
    "def a():\n",
    "    print(\"hello world\")\n",
    "a()"
   ]
  },
  {
   "cell_type": "code",
   "execution_count": 7,
   "id": "c92a3dc0-685d-4fad-aee3-2ebde40a8671",
   "metadata": {},
   "outputs": [
    {
     "name": "stdin",
     "output_type": "stream",
     "text": [
      "enter value of l = 20\n",
      "enter the value of b = 30\n"
     ]
    },
    {
     "name": "stdout",
     "output_type": "stream",
     "text": [
      "600\n"
     ]
    }
   ],
   "source": [
    "def cal():                                                \n",
    "    l = int(input(\"enter value of l  =\"))       # local variable\n",
    "    b = int(input(\"enter the value of b =\"))    #local variable\n",
    "    a = l*b\n",
    "    print(a)\n",
    "cal()"
   ]
  },
  {
   "cell_type": "code",
   "execution_count": 9,
   "id": "bf9cab7e-585d-438d-92c6-c0bba5d7ff98",
   "metadata": {},
   "outputs": [
    {
     "name": "stdin",
     "output_type": "stream",
     "text": [
      "enter value of l  = 11\n",
      "enter the value of b = 22\n"
     ]
    },
    {
     "name": "stdout",
     "output_type": "stream",
     "text": [
      "242\n",
      "11 22\n"
     ]
    }
   ],
   "source": [
    "l = int(input(\"enter value of l  =\"))       # global variable\n",
    "b = int(input(\"enter the value of b =\"))    #global  variable\n",
    "def cal():\n",
    "    a = l*b\n",
    "    print(a)\n",
    "cal()\n",
    "print(l,b)"
   ]
  },
  {
   "cell_type": "code",
   "execution_count": 10,
   "id": "1c9e4018-3ffb-4b22-8364-87628fc1f9df",
   "metadata": {},
   "outputs": [],
   "source": [
    "#  arguments\n",
    "# parameter\n",
    "# return type\n"
   ]
  },
  {
   "cell_type": "code",
   "execution_count": 15,
   "id": "6e73dd10-17e1-4344-99f8-5240aa1baef4",
   "metadata": {},
   "outputs": [
    {
     "name": "stdin",
     "output_type": "stream",
     "text": [
      "enter value of l  = 23\n",
      "enter the value of b = 32\n"
     ]
    },
    {
     "name": "stdout",
     "output_type": "stream",
     "text": [
      "736\n"
     ]
    }
   ],
   "source": [
    "def cal(l,b):                                                                  \n",
    "  \n",
    "    a = l*b\n",
    "    print(a)\n",
    "l = int(input(\"enter value of l  =\"))       \n",
    "b = int(input(\"enter the value of b =\"))\n",
    "cal(l,b)"
   ]
  },
  {
   "cell_type": "code",
   "execution_count": 14,
   "id": "8b21a9ef-60b1-423a-a152-23a489114f47",
   "metadata": {},
   "outputs": [
    {
     "name": "stdin",
     "output_type": "stream",
     "text": [
      "enter value of l  = 23\n",
      "enter the value of b = 32\n"
     ]
    },
    {
     "name": "stdout",
     "output_type": "stream",
     "text": [
      "736\n"
     ]
    }
   ],
   "source": [
    "def cal(x,y):                             # x , y are parameters                                      \n",
    "  \n",
    "    a = x*y\n",
    "    print(a)\n",
    "l = int(input(\"enter value of l  =\"))       # l,b are arguments\n",
    "b = int(input(\"enter the value of b =\"))\n",
    "cal(l,b)"
   ]
  },
  {
   "cell_type": "code",
   "execution_count": 16,
   "id": "14e6b4b7-f47d-4dae-a436-1d6b381246ca",
   "metadata": {},
   "outputs": [
    {
     "name": "stdin",
     "output_type": "stream",
     "text": [
      "enter value of l  = 23\n",
      "enter the value of b = 12\n"
     ]
    },
    {
     "name": "stdout",
     "output_type": "stream",
     "text": [
      "276\n"
     ]
    }
   ],
   "source": [
    "def cal(z):                             # x , y are parameters                                      \n",
    "    x,y = z\n",
    "    a = x*y\n",
    "    print(a)\n",
    "l = int(input(\"enter value of l  =\"))       # l,b are arguments\n",
    "b = int(input(\"enter the value of b =\"))\n",
    "z = [l,b]\n",
    "cal(z)"
   ]
  },
  {
   "cell_type": "code",
   "execution_count": 17,
   "id": "a00f12d6-13a3-4117-a136-890316e885eb",
   "metadata": {},
   "outputs": [
    {
     "data": {
      "text/plain": [
       "(10, 20)"
      ]
     },
     "execution_count": 17,
     "metadata": {},
     "output_type": "execute_result"
    }
   ],
   "source": [
    "a = 10,20\n",
    "a"
   ]
  },
  {
   "cell_type": "code",
   "execution_count": 19,
   "id": "4150b6be-6990-4e5e-b215-510cafc3c314",
   "metadata": {},
   "outputs": [
    {
     "name": "stdout",
     "output_type": "stream",
     "text": [
      "10\n",
      "20\n"
     ]
    }
   ],
   "source": [
    "a = [10,20]\n",
    "x,y = a\n",
    "print(x)\n",
    "print(y)"
   ]
  },
  {
   "cell_type": "code",
   "execution_count": 25,
   "id": "e9a8f4ec-f408-4709-84c6-2441b4ff36fa",
   "metadata": {},
   "outputs": [
    {
     "name": "stdin",
     "output_type": "stream",
     "text": [
      "enter the value of a = 23\n",
      "enter the value of b = 32\n",
      "enter + for add,- for diff,*for product and / for divison  = *\n"
     ]
    },
    {
     "name": "stdout",
     "output_type": "stream",
     "text": [
      "the result of product =  736\n"
     ]
    }
   ],
   "source": [
    "def cal(a,b,operator):\n",
    "  if operator == \"+\":\n",
    "     z= int(a+b)\n",
    "     print(\"the result of sum =\",z)\n",
    "  elif operator == \"-\":\n",
    "     z= int(a-b)\n",
    "     print(\"the result of difference =\",z)\n",
    "  elif operator == \"*\":\n",
    "     z= int(a*b)\n",
    "     print(\"the result of product = \",z)\n",
    "  elif operator == \"/\":\n",
    "     z= float(a/b)\n",
    "     print(\"the result of divison =\",z)\n",
    "  else:\n",
    "    print(\"INVALID OPERATION TRY AGAIN\")\n",
    "a = int(input(\"enter the value of a =\"))\n",
    "b = int(input(\"enter the value of b =\"))\n",
    "operator = input(\"enter + for add,- for diff,*for product and / for divison  =\")\n",
    "cal(a,b,operator)"
   ]
  },
  {
   "cell_type": "code",
   "execution_count": 26,
   "id": "8ab56ad7-021a-4972-a8e7-84f05e5444d9",
   "metadata": {},
   "outputs": [
    {
     "name": "stdout",
     "output_type": "stream",
     "text": [
      "c\n",
      "c++\n",
      "c#\n",
      "JS\n",
      "python\n"
     ]
    }
   ],
   "source": [
    "def language(lan=\"python\"):\n",
    "    print(lan)\n",
    "language(\"c\")\n",
    "language(\"c++\")\n",
    "language(\"c#\")\n",
    "language(\"JS\")\n",
    "language()"
   ]
  },
  {
   "cell_type": "code",
   "execution_count": 2,
   "id": "a1a77a14-7cdc-491d-b1fe-745dde1458e0",
   "metadata": {},
   "outputs": [
    {
     "name": "stdout",
     "output_type": "stream",
     "text": [
      "hello world\n"
     ]
    }
   ],
   "source": [
    "# return type function\n",
    "def hello():\n",
    "    x = \"hello world\"\n",
    "    return x\n",
    "print(hello())\n"
   ]
  },
  {
   "cell_type": "code",
   "execution_count": 30,
   "id": "9313223e-e4ba-49f1-9658-27246b8d6f42",
   "metadata": {},
   "outputs": [
    {
     "name": "stdout",
     "output_type": "stream",
     "text": [
      "hello world\n"
     ]
    }
   ],
   "source": [
    "def hello():\n",
    "    x = \"hello world\"\n",
    "    return x\n",
    "y = hello()\n",
    "print(y)"
   ]
  },
  {
   "cell_type": "code",
   "execution_count": 32,
   "id": "54d07f6a-264d-4ac9-a904-b2cbc67406fd",
   "metadata": {},
   "outputs": [
    {
     "name": "stdout",
     "output_type": "stream",
     "text": [
      "hello world  i am python\n"
     ]
    }
   ],
   "source": [
    "def hello():\n",
    "    x = \"hello world\"\n",
    "    return x\n",
    "y = hello()\n",
    "print(y + \"  i am python\")"
   ]
  },
  {
   "cell_type": "code",
   "execution_count": 35,
   "id": "b918c59f-cb78-4711-a467-24cd6fcc33ef",
   "metadata": {},
   "outputs": [
    {
     "name": "stdin",
     "output_type": "stream",
     "text": [
      "enter the value of l =  33\n",
      "enter the value of b =  33\n"
     ]
    },
    {
     "name": "stdout",
     "output_type": "stream",
     "text": [
      "1089\n"
     ]
    }
   ],
   "source": [
    "def cal(l,b):\n",
    "    a = l*b\n",
    "    return a\n",
    "l = int(input(\"enter the value of l = \"))\n",
    "b = int(input(\"enter the value of b = \"))\n",
    "area = cal(l,b)\n",
    "print(area)\n"
   ]
  },
  {
   "cell_type": "code",
   "execution_count": 36,
   "id": "15d60ada-9de6-4885-bbe6-15945692a03f",
   "metadata": {},
   "outputs": [
    {
     "name": "stdin",
     "output_type": "stream",
     "text": [
      "enter the value of l =  23\n",
      "enter the value of b =  32\n",
      "enter h =  66\n"
     ]
    },
    {
     "name": "stdout",
     "output_type": "stream",
     "text": [
      "736\n",
      "48576\n"
     ]
    }
   ],
   "source": [
    "def cal(l,b):\n",
    "    a = l*b\n",
    "    return a\n",
    "l = int(input(\"enter the value of l = \"))\n",
    "b = int(input(\"enter the value of b = \"))\n",
    "h = int(input(\"enter h = \"))\n",
    "area = cal(l,b)\n",
    "volume = area*h\n",
    "print(area)\n",
    "print(volume)"
   ]
  },
  {
   "cell_type": "code",
   "execution_count": 21,
   "id": "327f1260-648f-40a6-a2b2-b0026aed8882",
   "metadata": {},
   "outputs": [
    {
     "ename": "NameError",
     "evalue": "name 'g' is not defined",
     "output_type": "error",
     "traceback": [
      "\u001b[1;31m---------------------------------------------------------------------------\u001b[0m",
      "\u001b[1;31mNameError\u001b[0m                                 Traceback (most recent call last)",
      "Cell \u001b[1;32mIn[21], line 19\u001b[0m\n\u001b[0;32m     17\u001b[0m          g \u001b[38;5;241m=\u001b[39m \u001b[38;5;124m\"\u001b[39m\u001b[38;5;124mng\u001b[39m\u001b[38;5;124m\"\u001b[39m \n\u001b[0;32m     18\u001b[0m       \u001b[38;5;28;01mreturn\u001b[39;00m tm,p,g\n\u001b[1;32m---> 19\u001b[0m xyz \u001b[38;5;241m=\u001b[39m result(tm,p,g)\n\u001b[0;32m     20\u001b[0m physics \u001b[38;5;241m=\u001b[39m \u001b[38;5;28mint\u001b[39m(\u001b[38;5;28minput\u001b[39m(\u001b[38;5;124m\"\u001b[39m\u001b[38;5;124menter physics marks = \u001b[39m\u001b[38;5;124m\"\u001b[39m))\n\u001b[0;32m     21\u001b[0m chemistry \u001b[38;5;241m=\u001b[39m \u001b[38;5;28mint\u001b[39m(\u001b[38;5;28minput\u001b[39m(\u001b[38;5;124m\"\u001b[39m\u001b[38;5;124menter chemistry marks = \u001b[39m\u001b[38;5;124m\"\u001b[39m)) \n",
      "\u001b[1;31mNameError\u001b[0m: name 'g' is not defined"
     ]
    }
   ],
   "source": [
    "def result(tm,p,g):\n",
    "    \n",
    "      if p>=90:\n",
    "          g=\"A+\"\n",
    "      elif p>=80: \n",
    "          g=\"A\"\n",
    "      elif p>=70:\n",
    "          g=\"B+\"\n",
    "      elif p>=60: \n",
    "          g=\"B\"\n",
    "      elif p>=50:\n",
    "          g = \"C+\"\n",
    "      elif p>=40: \n",
    "          g = \"C\"\n",
    "\n",
    "      else:\n",
    "         g = \"ng\" \n",
    "      return tm,p,g\n",
    "xyz = result(tm,p,g)\n",
    "physics = int(input(\"enter physics marks = \"))\n",
    "chemistry = int(input(\"enter chemistry marks = \")) \n",
    "maths = int(input(\"enter maths marks = \"))\n",
    "english = int(input(\"enter english marks = \"))\n",
    "nepali = int(input(\"enter  nepali = \"))\n",
    "tm = (physics+chemistry+maths+english+nepali)\n",
    "p = (tm/5)\n",
    "print(\"percentage=\",p)\n",
    "print(\"total marks = \",tm)\n",
    "print(\"grade=\",g)"
   ]
  },
  {
   "cell_type": "code",
   "execution_count": 50,
   "id": "65ed6e5e-6a8f-4989-b367-3249ece1e5b2",
   "metadata": {},
   "outputs": [
    {
     "name": "stdin",
     "output_type": "stream",
     "text": [
      "enter the value of a = 45\n",
      "enter the value of b = 54\n",
      "enter + for add,- for diff,*for product and / for divison  = *\n"
     ]
    },
    {
     "name": "stdout",
     "output_type": "stream",
     "text": [
      "the result of product =  2430\n"
     ]
    }
   ],
   "source": [
    "def cal(a,b,operator):\n",
    "\n",
    "  if operator == \"+\":\n",
    "      z= int(a+b)\n",
    "      print(\"the result of sum =\",z)\n",
    "  elif operator == \"-\":\n",
    "      z= int(a-b)\n",
    "      print(\"the result of difference =\",z)\n",
    "  elif operator == \"*\":\n",
    "      z= int(a*b)\n",
    "      print(\"the result of product = \",z)\n",
    "  elif operator == \"/\":\n",
    "      z= float(a/b)\n",
    "      print(\"the result of divison =\",z)\n",
    "  else:\n",
    "      print(\"INVALID OPERATION TRY AGAIN\")\n",
    "a = int(input(\"enter the value of a =\"))\n",
    "b = int(input(\"enter the value of b =\"))\n",
    "operator = input(\"enter + for add,- for diff,*for product and / for divison  =\")\n",
    "cal(a,b,operator)\n"
   ]
  },
  {
   "cell_type": "code",
   "execution_count": 55,
   "id": "770c935d-de03-40ca-87bb-8a3ed20d9ae3",
   "metadata": {},
   "outputs": [
    {
     "name": "stdin",
     "output_type": "stream",
     "text": [
      "enter a = 45\n",
      "enter b =  5\n",
      "enter + , - , * , / +\n"
     ]
    },
    {
     "name": "stdout",
     "output_type": "stream",
     "text": [
      "50\n"
     ]
    }
   ],
   "source": [
    "def add(a,b):\n",
    "    return a+b\n",
    "def sub(a,b):\n",
    "    return a-b\n",
    "def mul(a,b):\n",
    "    return a*b\n",
    "def div(a,b):\n",
    "    return a/b\n",
    "\n",
    "def cal(a,b,o):\n",
    "    if o == \"+\":\n",
    "      print(add(a,b))\n",
    "    elif o == \"-\":\n",
    "      print(sub(a,b))\n",
    "    elif o == \"*\":\n",
    "      print(mul(a,b))\n",
    "    elif o == \"/\" and b!=0:\n",
    "      print(div(a,b))\n",
    "    elif o == '/' and b == 0:\n",
    "      print(\"The value of b can't be zero\")\n",
    "    else:\n",
    "      print(\"invalid\")\n",
    "\n",
    "a = int(input(\"enter a =\"))\n",
    "b = int(input(\"enter b = \"))\n",
    "o = input(\"enter + , - , * , /\")\n",
    "\n",
    "cal(a,b,o)"
   ]
  },
  {
   "cell_type": "code",
   "execution_count": 1,
   "id": "fc8bab2d-c3bd-4075-b419-000a6db907aa",
   "metadata": {},
   "outputs": [],
   "source": [
    "# recursive function"
   ]
  },
  {
   "cell_type": "code",
   "execution_count": 5,
   "id": "c76243c0-dd12-42e5-8b38-7907726c7e42",
   "metadata": {},
   "outputs": [
    {
     "ename": "IndentationError",
     "evalue": "unindent does not match any outer indentation level (<tokenize>, line 3)",
     "output_type": "error",
     "traceback": [
      "\u001b[1;36m  File \u001b[1;32m<tokenize>:3\u001b[1;36m\u001b[0m\n\u001b[1;33m    hello()\u001b[0m\n\u001b[1;37m    ^\u001b[0m\n\u001b[1;31mIndentationError\u001b[0m\u001b[1;31m:\u001b[0m unindent does not match any outer indentation level\n"
     ]
    }
   ],
   "source": [
    "def hello():\n",
    "    print(\"hello world\")\n",
    "    hello() #infinite hunxa\n",
    "hello()"
   ]
  },
  {
   "cell_type": "code",
   "execution_count": 4,
   "id": "7c862eac-c739-4a71-992a-82698cba1a09",
   "metadata": {},
   "outputs": [
    {
     "name": "stdout",
     "output_type": "stream",
     "text": [
      "hello world\n"
     ]
    },
    {
     "name": "stdin",
     "output_type": "stream",
     "text": [
      "enter y for more print= y\n"
     ]
    },
    {
     "name": "stdout",
     "output_type": "stream",
     "text": [
      "hello world\n"
     ]
    },
    {
     "name": "stdin",
     "output_type": "stream",
     "text": [
      "enter y for more print= z\n"
     ]
    }
   ],
   "source": [
    "def hello():\n",
    "    print(\"hello world\")\n",
    "    x = input(\"enter y for more print=\")\n",
    "    if x == 'y':\n",
    "      hello() \n",
    "hello()"
   ]
  },
  {
   "cell_type": "code",
   "execution_count": 5,
   "id": "b0813acf-3bb8-4f40-8b79-e8fb5ce9dce5",
   "metadata": {},
   "outputs": [],
   "source": [
    "# math function\n"
   ]
  },
  {
   "cell_type": "code",
   "execution_count": 9,
   "id": "86199ccc-3eb7-4dcc-8704-9bb7776ad2d9",
   "metadata": {},
   "outputs": [
    {
     "name": "stdout",
     "output_type": "stream",
     "text": [
      "0.8939966636005579\n"
     ]
    }
   ],
   "source": [
    "import math as m\n",
    "print(m.sin(90))"
   ]
  },
  {
   "cell_type": "raw",
   "id": "9231057d-a31e-4b16-b571-9fa8c251d2be",
   "metadata": {},
   "source": [
    "import math as m\n",
    "print(m.sin(m.pi/2))"
   ]
  },
  {
   "cell_type": "code",
   "execution_count": 10,
   "id": "7f8ec7ae-be65-4db8-9a94-d622d8ddcfa8",
   "metadata": {},
   "outputs": [
    {
     "data": {
      "text/plain": [
       "3.141592653589793"
      ]
     },
     "execution_count": 10,
     "metadata": {},
     "output_type": "execute_result"
    }
   ],
   "source": [
    "m.pi"
   ]
  },
  {
   "cell_type": "code",
   "execution_count": 11,
   "id": "510fcd26-437c-4e67-af03-7c653651c7a6",
   "metadata": {},
   "outputs": [
    {
     "data": {
      "text/plain": [
       "2.718281828459045"
      ]
     },
     "execution_count": 11,
     "metadata": {},
     "output_type": "execute_result"
    }
   ],
   "source": [
    "m.e"
   ]
  },
  {
   "cell_type": "code",
   "execution_count": 12,
   "id": "98002068-64ad-4bdc-a188-7ee2a772170b",
   "metadata": {},
   "outputs": [
    {
     "name": "stdout",
     "output_type": "stream",
     "text": [
      "1.633123935319537e+16\n"
     ]
    }
   ],
   "source": [
    "print(m.tan(m.pi/2))"
   ]
  },
  {
   "cell_type": "code",
   "execution_count": 13,
   "id": "16d29af2-a5ce-4d51-84e0-8d27b11f2582",
   "metadata": {},
   "outputs": [
    {
     "name": "stdout",
     "output_type": "stream",
     "text": [
      "1.0\n"
     ]
    }
   ],
   "source": [
    "print(m.sin(m.pi/2))"
   ]
  },
  {
   "cell_type": "code",
   "execution_count": 14,
   "id": "cc376a97-8a9a-44f2-9299-84a2622eb77b",
   "metadata": {},
   "outputs": [
    {
     "name": "stdout",
     "output_type": "stream",
     "text": [
      "6.123233995736766e-17\n"
     ]
    }
   ],
   "source": [
    "print(m.cos(m.pi/2))"
   ]
  },
  {
   "cell_type": "code",
   "execution_count": 15,
   "id": "c76a608c-9333-41db-8dff-5bbd75f3fa9f",
   "metadata": {},
   "outputs": [
    {
     "data": {
      "text/plain": [
       "120"
      ]
     },
     "execution_count": 15,
     "metadata": {},
     "output_type": "execute_result"
    }
   ],
   "source": [
    "m.factorial(5)"
   ]
  },
  {
   "cell_type": "code",
   "execution_count": 17,
   "id": "03ef0200-6525-4a7d-bcf2-dcea176398a3",
   "metadata": {},
   "outputs": [
    {
     "name": "stdin",
     "output_type": "stream",
     "text": [
      "enter value of x= 5\n"
     ]
    },
    {
     "data": {
      "text/plain": [
       "120"
      ]
     },
     "execution_count": 17,
     "metadata": {},
     "output_type": "execute_result"
    }
   ],
   "source": [
    "import math as m\n",
    "x = int(input(\"enter value of x=\"))\n",
    "m.factorial(x)"
   ]
  },
  {
   "cell_type": "code",
   "execution_count": 19,
   "id": "6814ed9b-d0b6-4931-9e6c-72245122425f",
   "metadata": {},
   "outputs": [],
   "source": [
    "# lambda function"
   ]
  },
  {
   "cell_type": "code",
   "execution_count": 24,
   "id": "84afa0bb-3ee4-4d58-99e1-b158efd99b81",
   "metadata": {},
   "outputs": [],
   "source": [
    "# lambda<arguments>:<operation>"
   ]
  },
  {
   "cell_type": "code",
   "execution_count": 23,
   "id": "3111525b-5599-4e33-9626-fc3227c66e8c",
   "metadata": {},
   "outputs": [
    {
     "name": "stdout",
     "output_type": "stream",
     "text": [
      "9\n"
     ]
    }
   ],
   "source": [
    "a = lambda x:x**2\n",
    "print(a(3))"
   ]
  },
  {
   "cell_type": "code",
   "execution_count": 25,
   "id": "e3079549-dba6-4a53-959a-6fa00b960806",
   "metadata": {},
   "outputs": [
    {
     "data": {
      "text/plain": [
       "6"
      ]
     },
     "execution_count": 25,
     "metadata": {},
     "output_type": "execute_result"
    }
   ],
   "source": [
    "a = lambda x,y:x*y\n",
    "a(2,3)\n"
   ]
  },
  {
   "cell_type": "code",
   "execution_count": 26,
   "id": "164bd0df-8370-4d72-80c3-bc7340d93e7b",
   "metadata": {},
   "outputs": [],
   "source": [
    "# filter function\n",
    "# map function"
   ]
  },
  {
   "cell_type": "code",
   "execution_count": 27,
   "id": "6fdfd761-91cb-427a-ac13-ce8f590815c5",
   "metadata": {},
   "outputs": [],
   "source": [
    "# filter\n",
    "# filter((lambda <arguments>:<condition>),array)\n",
    "\n"
   ]
  },
  {
   "cell_type": "code",
   "execution_count": 31,
   "id": "d1ae7b57-5acd-435e-862e-21c67de4e515",
   "metadata": {},
   "outputs": [
    {
     "data": {
      "text/plain": [
       "[2, 4, 6, 8, 10]"
      ]
     },
     "execution_count": 31,
     "metadata": {},
     "output_type": "execute_result"
    }
   ],
   "source": [
    "a = [1,2,3,4,5,6,7,8,9,10]\n",
    "list(filter((lambda x:x%2==0),a))"
   ]
  },
  {
   "cell_type": "code",
   "execution_count": 32,
   "id": "731ff602-b7e3-443d-9153-23a509305b08",
   "metadata": {},
   "outputs": [
    {
     "data": {
      "text/plain": [
       "['cat', 'fish']"
      ]
     },
     "execution_count": 32,
     "metadata": {},
     "output_type": "execute_result"
    }
   ],
   "source": [
    "a = [\"Apple\",\"Ball\",\"cat\",\"Dog\",\"fish\",\"bAt\"]\n",
    "list(filter((lambda x:x.islower()),a))"
   ]
  },
  {
   "cell_type": "code",
   "execution_count": 33,
   "id": "f3efaf07-6ee7-4f56-bb57-0ccca56c9ce8",
   "metadata": {},
   "outputs": [],
   "source": [
    "# map function"
   ]
  },
  {
   "cell_type": "code",
   "execution_count": 34,
   "id": "91ed96ce-a384-4e5f-bd1d-8d645ec3a53c",
   "metadata": {},
   "outputs": [],
   "source": [
    "# map((lambda<arguments>:<operation>),list)"
   ]
  },
  {
   "cell_type": "code",
   "execution_count": 39,
   "id": "5a4f7ce8-c017-46c8-9352-75fd718df744",
   "metadata": {},
   "outputs": [
    {
     "name": "stdout",
     "output_type": "stream",
     "text": [
      "['apple', 'ball', 'cat', 'dog', 'fish', 'bat']\n"
     ]
    }
   ],
   "source": [
    "a = [\"Apple\",\"Ball\",\"cat\",\"Dog\",\"fish\",\"bAt\"]\n",
    "b = list(map(lambda x:x.lower(),a))\n",
    "print(b)"
   ]
  },
  {
   "cell_type": "code",
   "execution_count": 40,
   "id": "8a6dee9b-d79a-471d-b046-cc4aac744e8c",
   "metadata": {},
   "outputs": [
    {
     "data": {
      "text/plain": [
       "[1, 4, 9, 16, 25, 36, 49, 64, 81, 100]"
      ]
     },
     "execution_count": 40,
     "metadata": {},
     "output_type": "execute_result"
    }
   ],
   "source": [
    "a = [1,2,3,4,5,6,7,8,9,10]\n",
    "b = list(map(lambda x:x**2,a))\n",
    "b"
   ]
  },
  {
   "cell_type": "code",
   "execution_count": 43,
   "id": "12964ff4-4b3e-4f5e-9412-f2ad586be8fb",
   "metadata": {},
   "outputs": [
    {
     "data": {
      "text/plain": [
       "[24000.0, 36000.0, 48000.0, 60000.0, 72000.0, 92400.0, 119999998.8]"
      ]
     },
     "execution_count": 43,
     "metadata": {},
     "output_type": "execute_result"
    }
   ],
   "source": [
    "a = [20000,30000,40000,50000,60000,77000,99999999]\n",
    "b = list(map(lambda x:x*1.2,a))\n",
    "b"
   ]
  },
  {
   "cell_type": "code",
   "execution_count": 44,
   "id": "d5c1d8d7-44cd-46ba-b295-7a62a07b2739",
   "metadata": {},
   "outputs": [],
   "source": [
    "# list and dict\n"
   ]
  },
  {
   "cell_type": "code",
   "execution_count": 49,
   "id": "a6b5ea64-c8fc-4610-9b74-80de12a31efb",
   "metadata": {},
   "outputs": [
    {
     "data": {
      "text/plain": [
       "[0, 1, 2, 3, 4, 5, 6, 7, 8, 9]"
      ]
     },
     "execution_count": 49,
     "metadata": {},
     "output_type": "execute_result"
    }
   ],
   "source": [
    "a = [i for i in range(10)]\n",
    "a"
   ]
  },
  {
   "cell_type": "code",
   "execution_count": 48,
   "id": "dfe46fa2-54d9-4016-a0df-073821fbffc7",
   "metadata": {},
   "outputs": [
    {
     "name": "stdin",
     "output_type": "stream",
     "text": [
      "enter the value of x= 55\n",
      "enter the value of x= 44\n",
      "enter the value of x= 33\n",
      "enter the value of x= 66\n",
      "enter the value of x= 24\n"
     ]
    },
    {
     "data": {
      "text/plain": [
       "[55, 44, 33, 66, 24]"
      ]
     },
     "execution_count": 48,
     "metadata": {},
     "output_type": "execute_result"
    }
   ],
   "source": [
    "a = [int(input(\"enter the value of x=\")) for i in range(5)]\n",
    "a"
   ]
  },
  {
   "cell_type": "code",
   "execution_count": 51,
   "id": "c07f040b-380c-4516-bb0f-204547aaa441",
   "metadata": {},
   "outputs": [
    {
     "name": "stdin",
     "output_type": "stream",
     "text": [
      "enter the value of x= 70\n",
      "enter the value of x= 73\n",
      "enter the value of x= 79\n",
      "enter the value of x= 83\n",
      "enter the value of x= 87\n"
     ]
    },
    {
     "data": {
      "text/plain": [
       "392"
      ]
     },
     "execution_count": 51,
     "metadata": {},
     "output_type": "execute_result"
    }
   ],
   "source": [
    "a = sum([int(input(\"enter the value of x=\")) for i in range(5)])\n",
    "a"
   ]
  },
  {
   "cell_type": "code",
   "execution_count": 53,
   "id": "a5e09695-8585-49b3-af2a-538688727aaf",
   "metadata": {},
   "outputs": [
    {
     "name": "stdin",
     "output_type": "stream",
     "text": [
      "enter the name ram\n",
      "enter phone 98765432\n",
      "enter the name shyam\n",
      "enter phone 23456789\n",
      "enter the name hari\n",
      "enter phone 123456789\n",
      "enter the name gopal\n",
      "enter phone 12345678\n",
      "enter the name gopal_mishra\n",
      "enter phone 12345676543\n"
     ]
    },
    {
     "name": "stdout",
     "output_type": "stream",
     "text": [
      "{'ram': '98765432', 'shyam': '23456789', 'hari': '123456789', 'gopal': '12345678', 'gopal_mishra': '12345676543'}\n"
     ]
    }
   ],
   "source": [
    "a = {input(\"enter the name\"):input(\"enter phone\") for i in range(5)}\n",
    "print(a)"
   ]
  },
  {
   "cell_type": "code",
   "execution_count": 56,
   "id": "9d2c21c5-6265-40ae-9e2f-a1b4f09d82ef",
   "metadata": {},
   "outputs": [
    {
     "data": {
      "text/plain": [
       "{1: 1, 2: 4, 3: 9, 4: 16, 5: 25, 6: 36, 7: 49, 8: 64, 9: 81}"
      ]
     },
     "execution_count": 56,
     "metadata": {},
     "output_type": "execute_result"
    }
   ],
   "source": [
    "x = [1,2,3,4,5,6,7,8,9]\n",
    "a = {i:i**2 for i in x}\n",
    "a"
   ]
  },
  {
   "cell_type": "code",
   "execution_count": 2,
   "id": "bcea8897-6ecc-4467-9f32-f4c94aee3380",
   "metadata": {},
   "outputs": [
    {
     "name": "stdout",
     "output_type": "stream",
     "text": [
      "hello world i am python..!\n"
     ]
    }
   ],
   "source": [
    "print(\"hello world i am python..!\")"
   ]
  },
  {
   "cell_type": "code",
   "execution_count": null,
   "id": "4c702868-5140-4ec6-bbf6-caa05492070a",
   "metadata": {},
   "outputs": [],
   "source": []
  }
 ],
 "metadata": {
  "kernelspec": {
   "display_name": "Python 3 (ipykernel)",
   "language": "python",
   "name": "python3"
  },
  "language_info": {
   "codemirror_mode": {
    "name": "ipython",
    "version": 3
   },
   "file_extension": ".py",
   "mimetype": "text/x-python",
   "name": "python",
   "nbconvert_exporter": "python",
   "pygments_lexer": "ipython3",
   "version": "3.11.7"
  }
 },
 "nbformat": 4,
 "nbformat_minor": 5
}
