{
 "cells": [
  {
   "cell_type": "code",
   "execution_count": 2,
   "id": "1539b12d-840b-4aad-bc4b-af74a3e5b9d3",
   "metadata": {},
   "outputs": [],
   "source": [
    "# tuple\n",
    "# indexing\n",
    "# multiple and duplicate values \n",
    "# ordered\n",
    "# imutable\n"
   ]
  },
  {
   "cell_type": "code",
   "execution_count": 4,
   "id": "8ccfd3c8-be9c-4837-acc9-2c3802131836",
   "metadata": {},
   "outputs": [
    {
     "name": "stdout",
     "output_type": "stream",
     "text": [
      "<class 'tuple'>\n",
      "<class 'tuple'>\n"
     ]
    }
   ],
   "source": [
    "t = tuple()\n",
    "a = (1,2,3,4,5,6,7)\n",
    "b = (\"appp\",\"ball\",\"cat\")\n",
    "print(type(a))\n",
    "print(type(b))"
   ]
  },
  {
   "cell_type": "code",
   "execution_count": 5,
   "id": "92bd2f25-c2af-4f90-b421-bd214d6a07e0",
   "metadata": {},
   "outputs": [
    {
     "name": "stdout",
     "output_type": "stream",
     "text": [
      "<class 'str'>\n"
     ]
    }
   ],
   "source": [
    "t = (\"apple\")\n",
    "print(type(t))"
   ]
  },
  {
   "cell_type": "code",
   "execution_count": 6,
   "id": "ef4115d8-5026-4f29-b367-7c231f0af4a5",
   "metadata": {},
   "outputs": [
    {
     "name": "stdout",
     "output_type": "stream",
     "text": [
      "<class 'tuple'>\n"
     ]
    }
   ],
   "source": [
    "t = (\"apple\",)\n",
    "print(type(t))"
   ]
  },
  {
   "cell_type": "code",
   "execution_count": 7,
   "id": "94123113-729c-4f9e-996d-30e6c43a3215",
   "metadata": {},
   "outputs": [
    {
     "name": "stdout",
     "output_type": "stream",
     "text": [
      "<class 'tuple'>\n"
     ]
    }
   ],
   "source": [
    "t = (\"apple\",1,2)\n",
    "print(type(t))"
   ]
  },
  {
   "cell_type": "code",
   "execution_count": 8,
   "id": "a1af5585-5898-452d-bc3f-9ec802e7a91f",
   "metadata": {},
   "outputs": [
    {
     "name": "stdout",
     "output_type": "stream",
     "text": [
      "appp\n",
      "('appp', 'ball')\n",
      "('appp', 'cat')\n"
     ]
    }
   ],
   "source": [
    "b = (\"appp\",\"ball\",\"cat\")\n",
    "print(b[0])\n",
    "print(b[0:2])\n",
    "print(b[0:3:2])"
   ]
  },
  {
   "cell_type": "code",
   "execution_count": 9,
   "id": "f369f69d-b6de-4810-a532-1f1eee497a1e",
   "metadata": {},
   "outputs": [
    {
     "name": "stdout",
     "output_type": "stream",
     "text": [
      "('appp', 'ball', 'cat')\n"
     ]
    }
   ],
   "source": [
    "b = (\"appp\",\"ball\",\"cat\")\n",
    "print(b)"
   ]
  },
  {
   "cell_type": "code",
   "execution_count": 11,
   "id": "7d1a0921-af07-434d-aaf1-a9cde265eac5",
   "metadata": {},
   "outputs": [],
   "source": [
    "# no append\n",
    "# no insert\n",
    "# no extend , update , no delete , no sort"
   ]
  },
  {
   "cell_type": "code",
   "execution_count": 12,
   "id": "4daa6f97-2ee0-40df-ac14-663a29a8ae9c",
   "metadata": {},
   "outputs": [
    {
     "name": "stdout",
     "output_type": "stream",
     "text": [
      "(1, 2, 3, 4, 5, 5, 22, 33, 4453, 2, 5, 4)\n"
     ]
    }
   ],
   "source": [
    "a = (1,2,3,4,5,5)\n",
    "b = (22,33,4453,2,5,4)\n",
    "c = a+b\n",
    "print(c)"
   ]
  },
  {
   "cell_type": "code",
   "execution_count": 13,
   "id": "f0716b3b-9fe2-4e24-b61e-acf78de8ba27",
   "metadata": {},
   "outputs": [
    {
     "name": "stdout",
     "output_type": "stream",
     "text": [
      "(1, 2, 3, 4, 5, 5, 1, 2, 3, 4, 5, 5)\n"
     ]
    }
   ],
   "source": [
    "a = (1,2,3,4,5,5)\n",
    "print(a*2)"
   ]
  },
  {
   "cell_type": "code",
   "execution_count": 21,
   "id": "3386b9e1-8625-4883-9445-ca1abf91c0d1",
   "metadata": {},
   "outputs": [
    {
     "name": "stdin",
     "output_type": "stream",
     "text": [
      " n = 3\n",
      "x =  12\n",
      "x =  32\n",
      "x =  12\n"
     ]
    },
    {
     "name": "stdout",
     "output_type": "stream",
     "text": [
      "(12, 32, 12)\n"
     ]
    }
   ],
   "source": [
    "t = ()\n",
    "n = int(input(\" n =\"))\n",
    "for i in range(n):\n",
    "    x = int(input(\"x = \"))\n",
    "    t = t + (x,)\n",
    "print(t)"
   ]
  },
  {
   "cell_type": "code",
   "execution_count": 18,
   "id": "6f0c2cb8-01f4-46a3-acbf-a2ab898bbbba",
   "metadata": {},
   "outputs": [
    {
     "name": "stdout",
     "output_type": "stream",
     "text": [
      "1\n",
      "43\n",
      "63\n"
     ]
    },
    {
     "data": {
      "text/plain": [
       "[1, 2, 3, 4, 5, 5, 43]"
      ]
     },
     "execution_count": 18,
     "metadata": {},
     "output_type": "execute_result"
    }
   ],
   "source": [
    " a = (1,2,3,4,5,5,43)\n",
    "print(min(a))\n",
    "print(max(a))\n",
    "print(sum(a))\n",
    "sorted(a) # list ma aauxa value "
   ]
  },
  {
   "cell_type": "code",
   "execution_count": 19,
   "id": "14afa720-92d7-46ab-956c-9a8918677ce6",
   "metadata": {},
   "outputs": [
    {
     "name": "stdout",
     "output_type": "stream",
     "text": [
      "['appp', 'ball', 'cat']\n",
      "('ball', 'cat')\n"
     ]
    }
   ],
   "source": [
    "# tuple to list\n",
    "b = (\"appp\",\"ball\",\"cat\")\n",
    "c = list(b)\n",
    "print(c)\n",
    "del c[0]\n",
    "b = tuple(c)\n",
    "print(b)"
   ]
  },
  {
   "cell_type": "code",
   "execution_count": 22,
   "id": "447a4304-0848-4af3-a142-d9bd687cb926",
   "metadata": {},
   "outputs": [],
   "source": [
    "#  tuple inside tuple"
   ]
  },
  {
   "cell_type": "code",
   "execution_count": 26,
   "id": "b1d083c1-ccaf-4277-8b84-508a9f56821a",
   "metadata": {},
   "outputs": [
    {
     "name": "stdin",
     "output_type": "stream",
     "text": [
      "enter the value of n = 3\n",
      "name =  Shyam Thapa\n",
      "enter age =  2\n",
      "address =  Kathmandu\n",
      "name =  Hari gopal shrestha\n",
      "enter age =  23\n",
      "address =  bkt\n",
      "name =  pujya ghimire\n",
      "enter age =  17\n",
      "address =  bkt\n"
     ]
    },
    {
     "name": "stdout",
     "output_type": "stream",
     "text": [
      "(('Shyam Thapa', 2, 'Kathmandu'), ('Hari gopal shrestha', 23, 'bkt'), ('pujya ghimire', 17, 'bkt'))\n"
     ]
    }
   ],
   "source": [
    "info = ()\n",
    "n = int(input(\"enter the value of n =\"))\n",
    "for i in range(1,n+1):\n",
    "    name = input(\"name = \")\n",
    "    age = int(input(\"enter age = \"))\n",
    "    add = input(\"address = \")\n",
    "    info = info +((name,age,add),)\n",
    "    \n",
    "print(info)"
   ]
  },
  {
   "cell_type": "code",
   "execution_count": 27,
   "id": "fc4cecef-6b58-473c-ba10-a8ccd09e9d7a",
   "metadata": {},
   "outputs": [],
   "source": [
    "# set\n",
    "\n"
   ]
  },
  {
   "cell_type": "code",
   "execution_count": 28,
   "id": "a920411b-8b4a-4312-b370-dee597cb802c",
   "metadata": {},
   "outputs": [],
   "source": [
    "# no indexing\n",
    "# multiple but no duplicate data\n",
    "# unordered\n",
    "# mutable"
   ]
  },
  {
   "cell_type": "code",
   "execution_count": 29,
   "id": "96b45482-6da1-4b34-81e7-bc4d72011b17",
   "metadata": {},
   "outputs": [],
   "source": [
    "# s = set()\n",
    "# s = {1,2,3,4,5}"
   ]
  },
  {
   "cell_type": "code",
   "execution_count": 31,
   "id": "331857a4-50b3-4611-8e31-01d71b541b74",
   "metadata": {},
   "outputs": [
    {
     "name": "stdout",
     "output_type": "stream",
     "text": [
      "<class 'set'>\n"
     ]
    }
   ],
   "source": [
    " s = {1,2,3,4,5} \n",
    "print(type(s))"
   ]
  },
  {
   "cell_type": "code",
   "execution_count": 34,
   "id": "784a1a73-8a65-42f9-b3bf-0e25dc0eb110",
   "metadata": {},
   "outputs": [
    {
     "name": "stdout",
     "output_type": "stream",
     "text": [
      "{'cat', 'ball', 'dog', 'apple'}\n"
     ]
    }
   ],
   "source": [
    "a = {\"apple\",\"ball\",\"cat\",\"dog\",\"apple\"}\n",
    "print(a)"
   ]
  },
  {
   "cell_type": "code",
   "execution_count": 35,
   "id": "67752013-b395-45ad-8790-6a7b765dcc31",
   "metadata": {},
   "outputs": [],
   "source": [
    "#  set maintains the uniqueness of data "
   ]
  },
  {
   "cell_type": "code",
   "execution_count": 36,
   "id": "bd2890a6-1dd2-4380-abfa-a24530e0a6aa",
   "metadata": {},
   "outputs": [
    {
     "data": {
      "text/plain": [
       "{0, 1, 2, 3, 6, 9}"
      ]
     },
     "execution_count": 36,
     "metadata": {},
     "output_type": "execute_result"
    }
   ],
   "source": [
    "s = {1,2,3,3,2,6,3,9,1,0}\n",
    "s"
   ]
  },
  {
   "cell_type": "code",
   "execution_count": 37,
   "id": "fcd3950d-757e-4e4e-adc0-a0dd5cfee67e",
   "metadata": {},
   "outputs": [],
   "source": [
    "# sort garya jasto hunx"
   ]
  },
  {
   "cell_type": "code",
   "execution_count": 38,
   "id": "987773e5-2fd3-42af-bb02-2c6f227df834",
   "metadata": {},
   "outputs": [
    {
     "name": "stdout",
     "output_type": "stream",
     "text": [
      "{0, 1, 2, 3, 6, 9, 'apple', 'ball'}\n"
     ]
    }
   ],
   "source": [
    "s = {1,2,3,3,2,6,3,9,1,0,\"apple\",\"ball\"}\n",
    "print(s)"
   ]
  },
  {
   "cell_type": "code",
   "execution_count": 41,
   "id": "c849f6dd-a782-4645-8007-2c074518539a",
   "metadata": {},
   "outputs": [
    {
     "name": "stdout",
     "output_type": "stream",
     "text": [
      "{'ewe', 2, 'hgghgf'}\n"
     ]
    }
   ],
   "source": [
    "s = set()\n",
    "s.add(\"ewe\")\n",
    "s.add(2)\n",
    "s.add(\"hgghgf\")\n",
    "print(s)"
   ]
  },
  {
   "cell_type": "code",
   "execution_count": 43,
   "id": "fb08b04c-3fef-43b0-8f5c-bc01bc32ea50",
   "metadata": {},
   "outputs": [
    {
     "data": {
      "text/plain": [
       "{0, 1, 2, 3, 6, 9, 'ball'}"
      ]
     },
     "execution_count": 43,
     "metadata": {},
     "output_type": "execute_result"
    }
   ],
   "source": [
    "s = {1,2,3,3,2,6,3,9,1,0,\"apple\",\"ball\"}\n",
    "s.remove(\"apple\")\n",
    "s"
   ]
  },
  {
   "cell_type": "code",
   "execution_count": 44,
   "id": "6cc12443-050f-4dd5-9d3e-b3e646d26d23",
   "metadata": {},
   "outputs": [],
   "source": [
    " # no count function"
   ]
  },
  {
   "cell_type": "code",
   "execution_count": 46,
   "id": "8b1a3cd4-4936-4829-bfe7-9f038b66850e",
   "metadata": {},
   "outputs": [
    {
     "name": "stdout",
     "output_type": "stream",
     "text": [
      "0\n",
      "1\n",
      "2\n",
      "3\n",
      "6\n",
      "9\n",
      "apple\n",
      "ball\n"
     ]
    }
   ],
   "source": [
    "s = {1,2,3,3,2,6,3,9,1,0,\"apple\",\"ball\"}\n",
    "for i in s:\n",
    "    print(i)"
   ]
  },
  {
   "cell_type": "code",
   "execution_count": 60,
   "id": "4eeb33ee-2a93-4d10-9ccd-2ac628057e4d",
   "metadata": {},
   "outputs": [
    {
     "name": "stdout",
     "output_type": "stream",
     "text": [
      "both in apple and ms =  {'ram', 'kane'}\n",
      "complement =  {'xyz', 'abc'}\n"
     ]
    }
   ],
   "source": [
    "#  set for maths \n",
    "U = {'harry', 'steave', 'bill', 'ram', 'kane', 'hari', 'kamal', 'jack', 'jone', 'sita', 'satya','xyz','abc'}\n",
    "apple = {\"ram\",\"hari\",\"steave\",\"jack\",\"jone\",\"kane\"}\n",
    "ms = {\"ram\",\"bill\",\"satya\",\"kamal\",\"sita\",\"harry\",\"kane\"}\n",
    "print(\"both in apple and ms = \",apple.intersection(ms))\n",
    "print(\"complement = \",U - apple.union(ms))\n"
   ]
  },
  {
   "cell_type": "code",
   "execution_count": 58,
   "id": "da9f9fac-5e57-4663-aa57-9fea700f8570",
   "metadata": {},
   "outputs": [
    {
     "name": "stdout",
     "output_type": "stream",
     "text": [
      "combined value =  {'harry', 'steave', 'bill', 'ram', 'kane', 'hari', 'kamal', 'jack', 'jone', 'sita', 'satya'}\n"
     ]
    }
   ],
   "source": [
    "print(\"combined value = \",apple.union(ms))"
   ]
  },
  {
   "cell_type": "code",
   "execution_count": 53,
   "id": "c1c2e103-6500-45af-9a91-ab19fd56a614",
   "metadata": {},
   "outputs": [
    {
     "name": "stdout",
     "output_type": "stream",
     "text": [
      "only apple value =  {'jack', 'jone', 'hari', 'steave'}\n"
     ]
    }
   ],
   "source": [
    "print(\"only apple value = \",apple - ms)"
   ]
  },
  {
   "cell_type": "code",
   "execution_count": 54,
   "id": "1bd9aed7-04f1-41ca-a79e-36ea42ab44c9",
   "metadata": {},
   "outputs": [
    {
     "name": "stdout",
     "output_type": "stream",
     "text": [
      "only ms value =  {'harry', 'kamal', 'bill', 'sita', 'satya'}\n"
     ]
    }
   ],
   "source": [
    "print(\"only ms value = \",ms - apple)"
   ]
  },
  {
   "cell_type": "code",
   "execution_count": null,
   "id": "54de33be-8be1-4824-864e-c865a55a5dd7",
   "metadata": {},
   "outputs": [],
   "source": []
  }
 ],
 "metadata": {
  "kernelspec": {
   "display_name": "Python 3 (ipykernel)",
   "language": "python",
   "name": "python3"
  },
  "language_info": {
   "codemirror_mode": {
    "name": "ipython",
    "version": 3
   },
   "file_extension": ".py",
   "mimetype": "text/x-python",
   "name": "python",
   "nbconvert_exporter": "python",
   "pygments_lexer": "ipython3",
   "version": "3.11.7"
  }
 },
 "nbformat": 4,
 "nbformat_minor": 5
}
