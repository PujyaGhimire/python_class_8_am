{
 "cells": [
  {
   "cell_type": "code",
   "execution_count": 1,
   "id": "aadc567f-6c8c-4f8b-8a67-836fcf28474f",
   "metadata": {},
   "outputs": [],
   "source": [
    "# > <  <= => == != "
   ]
  },
  {
   "cell_type": "code",
   "execution_count": 4,
   "id": "38ea89c2-2b21-42c8-8290-70a35a05317a",
   "metadata": {},
   "outputs": [],
   "source": [
    "#if <conditon>:\n",
    "#<opertions>\n",
    "# elif <conditon>:\n",
    "# <operations>\n",
    "# else:\n",
    "# <operation>"
   ]
  },
  {
   "cell_type": "code",
   "execution_count": 23,
   "id": "f3eba21b-e7bc-4447-adf3-37c0ee4cd739",
   "metadata": {},
   "outputs": [
    {
     "name": "stdin",
     "output_type": "stream",
     "text": [
      "enter a =  2\n"
     ]
    },
    {
     "name": "stdout",
     "output_type": "stream",
     "text": [
      "undergae\n"
     ]
    }
   ],
   "source": [
    "age = int(input('enter a = '))\n",
    "if age > 10:\n",
    "    print(\"greater than 10\")\n",
    "else:\n",
    "    print(\"undergae\")\n",
    "    "
   ]
  },
  {
   "cell_type": "code",
   "execution_count": 1,
   "id": "b28c5f9b-d6d2-4053-a49f-157cc7ee7d64",
   "metadata": {},
   "outputs": [
    {
     "name": "stdin",
     "output_type": "stream",
     "text": [
      "enter value of n =  6\n"
     ]
    },
    {
     "name": "stdout",
     "output_type": "stream",
     "text": [
      "the number is even\n"
     ]
    }
   ],
   "source": [
    "n = int(input(\"enter value of n = \"))\n",
    "if n % 2 == 0:\n",
    "   print(\"the number is even\")\n",
    "else:\n",
    "    print(\"odd \")\n"
   ]
  },
  {
   "cell_type": "code",
   "execution_count": 19,
   "id": "84a1ade6-eabd-411b-a742-e965b6122f6b",
   "metadata": {},
   "outputs": [
    {
     "name": "stdin",
     "output_type": "stream",
     "text": [
      " input value of a =  33\n",
      " input value of b =  23\n"
     ]
    },
    {
     "name": "stdout",
     "output_type": "stream",
     "text": [
      "greater = 33\n"
     ]
    }
   ],
   "source": [
    "a = int(input(\" input value of a = \"))\n",
    "b = int(input( \" input value of b = \"))\n",
    "if a>b:\n",
    "    print(\"greater =\",a)\n",
    "elif b>a:\n",
    "    print(\"greater = \",b)\n",
    "else:\n",
    "    print(\"equal\")\n",
    "    "
   ]
  },
  {
   "cell_type": "code",
   "execution_count": 34,
   "id": "ac5cf020-a74a-442f-9e0f-b1a03383de6a",
   "metadata": {},
   "outputs": [
    {
     "name": "stdout",
     "output_type": "stream",
     "text": [
      "To calculate the total marks and percentage in seven different subjects\n"
     ]
    },
    {
     "name": "stdin",
     "output_type": "stream",
     "text": [
      "enter the marks in english = 1\n",
      "enter the marks in nepali = 1\n",
      "enter the marks in maths = 1\n",
      "enter the marks in science = 1\n",
      "enter the marks in social = 1\n",
      "enter the marks in optional I = 1\n",
      "enter the marks in optional II = \n"
     ]
    },
    {
     "ename": "ValueError",
     "evalue": "invalid literal for int() with base 10: ''",
     "output_type": "error",
     "traceback": [
      "\u001b[1;31m---------------------------------------------------------------------------\u001b[0m",
      "\u001b[1;31mValueError\u001b[0m                                Traceback (most recent call last)",
      "Cell \u001b[1;32mIn[34], line 8\u001b[0m\n\u001b[0;32m      6\u001b[0m e \u001b[38;5;241m=\u001b[39m \u001b[38;5;28mint\u001b[39m(\u001b[38;5;28minput\u001b[39m(\u001b[38;5;124m\"\u001b[39m\u001b[38;5;124menter the marks in social =\u001b[39m\u001b[38;5;124m\"\u001b[39m))\n\u001b[0;32m      7\u001b[0m f \u001b[38;5;241m=\u001b[39m \u001b[38;5;28mint\u001b[39m(\u001b[38;5;28minput\u001b[39m(\u001b[38;5;124m\"\u001b[39m\u001b[38;5;124menter the marks in optional I =\u001b[39m\u001b[38;5;124m\"\u001b[39m))\n\u001b[1;32m----> 8\u001b[0m g \u001b[38;5;241m=\u001b[39m \u001b[38;5;28mint\u001b[39m(\u001b[38;5;28minput\u001b[39m(\u001b[38;5;124m\"\u001b[39m\u001b[38;5;124menter the marks in optional II =\u001b[39m\u001b[38;5;124m\"\u001b[39m))\n\u001b[0;32m      9\u001b[0m tm \u001b[38;5;241m=\u001b[39m (a\u001b[38;5;241m+\u001b[39mb\u001b[38;5;241m+\u001b[39mc\u001b[38;5;241m+\u001b[39md\u001b[38;5;241m+\u001b[39me\u001b[38;5;241m+\u001b[39mf\u001b[38;5;241m+\u001b[39mg)\n\u001b[0;32m     10\u001b[0m p \u001b[38;5;241m=\u001b[39m \u001b[38;5;28mstr\u001b[39m(tm\u001b[38;5;241m/\u001b[39m\u001b[38;5;241m7\u001b[39m)\n",
      "\u001b[1;31mValueError\u001b[0m: invalid literal for int() with base 10: ''"
     ]
    }
   ],
   "source": [
    "print(\"To calculate the total marks and percentage in seven different subjects\")\n",
    "a = int(input(\"enter the marks in english =\"))\n",
    "b = int(input(\"enter the marks in nepali =\"))\n",
    "c = int(input(\"enter the marks in maths =\"))\n",
    "d = int(input(\"enter the marks in science =\"))\n",
    "e = int(input(\"enter the marks in social =\"))\n",
    "f = int(input(\"enter the marks in optional I =\"))\n",
    "g = int(input(\"enter the marks in optional II =\"))\n",
    "tm = (a+b+c+d+e+f+g)\n",
    "p = int(tm/7)\n",
    "if p>=90:\n",
    "  print(\"A+\")\n",
    "elif p>=80 & p<90:\n",
    "  print(\"A\")\n",
    "elif p>=70 & p<80:\n",
    "  print(\"B+\")\n",
    "elif p>=60 & p<70:\n",
    "  print(\"B\")\n",
    "elif p>=50 & p<60:\n",
    "  print(\"C+\")\n",
    "elif p>=40 & p<50:\n",
    "  print(\"C\")\n",
    "else:\n",
    "    print(\"NG\")\n"
   ]
  },
  {
   "cell_type": "code",
   "execution_count": 35,
   "id": "e274425a-dcd5-41b5-bf44-c867acfb3169",
   "metadata": {},
   "outputs": [
    {
     "name": "stdout",
     "output_type": "stream",
     "text": [
      "To calculate the total marks and percentage in seven different subjects\n"
     ]
    },
    {
     "name": "stdin",
     "output_type": "stream",
     "text": [
      "enter the marks in english = 7\n",
      "enter the marks in nepali = 7\n",
      "enter the marks in maths = 9\n",
      "enter the marks in science = 0\n",
      "enter the marks in social = 0\n",
      "enter the marks in optional I = 0\n",
      "enter the marks in optional II = 0\n"
     ]
    },
    {
     "name": "stdout",
     "output_type": "stream",
     "text": [
      "NG\n"
     ]
    }
   ],
   "source": [
    "print(\"To calculate the total marks and percentage in seven different subjects\")\n",
    "a = int(input(\"enter the marks in english =\"))\n",
    "b = int(input(\"enter the marks in nepali =\"))\n",
    "c = int(input(\"enter the marks in maths =\"))\n",
    "d = int(input(\"enter the marks in science =\"))\n",
    "e = int(input(\"enter the marks in social =\"))\n",
    "f = int(input(\"enter the marks in optional I =\"))\n",
    "g = int(input(\"enter the marks in optional II =\"))\n",
    "tm = (a+b+c+d+e+f+g)\n",
    "p = int(tm/7)\n",
    "if p>=90:\n",
    "  print(\"A+\")\n",
    "elif p>=80: \n",
    "  print(\"A\")\n",
    "elif p>=70:\n",
    "  print(\"B+\")\n",
    "elif p>=60: \n",
    "  print(\"B\")\n",
    "elif p>=50:\n",
    "  print(\"C+\")\n",
    "elif p>=40: \n",
    "  print(\"C\")\n",
    "else:\n",
    "    print(\"NG\")\n"
   ]
  },
  {
   "cell_type": "code",
   "execution_count": 36,
   "id": "8ae98cf3-b197-4145-8a3d-c3e0bd374360",
   "metadata": {},
   "outputs": [],
   "source": [
    "# WAP TO MAKE A BASIC CALCULATOR"
   ]
  },
  {
   "cell_type": "code",
   "execution_count": 2,
   "id": "419c9485-99c7-45fe-9bec-ea8d428c85a0",
   "metadata": {},
   "outputs": [
    {
     "name": "stdout",
     "output_type": "stream",
     "text": [
      "To perform mathematical calculation follow given instructions\n"
     ]
    },
    {
     "name": "stdin",
     "output_type": "stream",
     "text": [
      "enter the value of a = 56\n",
      "enter the value of b = 665\n",
      "enter + for add,- for diff,*for product and / for divison *\n"
     ]
    },
    {
     "name": "stdout",
     "output_type": "stream",
     "text": [
      "37240\n"
     ]
    }
   ],
   "source": [
    "print(\"To perform mathematical calculation follow given instructions\")\n",
    "a = int(input(\"enter the value of a =\"))\n",
    "b = int(input(\"enter the value of b =\"))\n",
    "operator = input(\"enter + for add,- for diff,*for product and / for divison\")\n",
    "if operator == \"+\":\n",
    "    print(a+b)\n",
    "elif operator == \"-\":\n",
    "    print(a-b)\n",
    "elif operator == \"*\":\n",
    "    print(a*b)\n",
    "elif operator == \"/\":\n",
    "    print(a/b)\n",
    "else:\n",
    "    print(\"INVALID OPERATION TRY AGAIN\")\n",
    "\n"
   ]
  },
  {
   "cell_type": "code",
   "execution_count": 1,
   "id": "72e63414-4ad5-46b3-9488-100762c3b1e2",
   "metadata": {},
   "outputs": [
    {
     "name": "stdout",
     "output_type": "stream",
     "text": [
      "To perform mathematical calculation follow given instructions\n"
     ]
    },
    {
     "name": "stdin",
     "output_type": "stream",
     "text": [
      "enter the value of a = 101\n",
      "enter the value of b = 205\n",
      "enter + for add,- for diff,*for product and / for divison  = *\n"
     ]
    },
    {
     "name": "stdout",
     "output_type": "stream",
     "text": [
      "the result of product =  20705\n"
     ]
    }
   ],
   "source": [
    "print(\"To perform mathematical calculation follow given instructions\")\n",
    "a = int(input(\"enter the value of a =\"))\n",
    "b = int(input(\"enter the value of b =\"))\n",
    "operator = input(\"enter + for add,- for diff,*for product and / for divison  =\")\n",
    "if operator == \"+\":\n",
    "    z= int(a+b)\n",
    "    print(\"the result of sum =\",z)\n",
    "elif operator == \"-\":\n",
    "    z= int(a-b)\n",
    "    print(\"the result of difference =\",z)\n",
    "elif operator == \"*\":\n",
    "    z= int(a*b)\n",
    "    print(\"the result of product = \",z)\n",
    "elif operator == \"/\":\n",
    "    z= float(a/b)\n",
    "    print(\"the result of divison =\",z)\n",
    "else:\n",
    "    print(\"INVALID OPERATION TRY AGAIN\")"
   ]
  },
  {
   "cell_type": "code",
   "execution_count": 1,
   "id": "374391b4-5c56-4b4e-91c4-ffdbd9491f32",
   "metadata": {},
   "outputs": [],
   "source": [
    "# nested if else"
   ]
  },
  {
   "cell_type": "code",
   "execution_count": 3,
   "id": "52a05841-c214-4ea2-abe8-585350bd97e9",
   "metadata": {},
   "outputs": [],
   "source": [
    "#if<conditon>:\n",
    "     #if<condition>:\n",
    "        #<operation>\n",
    "    # else:\n",
    "        # <operation>:\n",
    "#else:\n",
    "   # <operation>"
   ]
  },
  {
   "cell_type": "code",
   "execution_count": 5,
   "id": "7ab2d6ef-6999-4b39-9585-ca6c7ee908ca",
   "metadata": {},
   "outputs": [
    {
     "name": "stdin",
     "output_type": "stream",
     "text": [
      "enter value of x= 3\n"
     ]
    },
    {
     "name": "stdout",
     "output_type": "stream",
     "text": [
      "+ve and odd\n"
     ]
    }
   ],
   "source": [
    "x = int(input(\"enter value of x=\"))\n",
    "if x>0:\n",
    "    if x % 2==0:\n",
    "        print(\"+ve and even\")\n",
    "    else:\n",
    "        print(\"+ve and odd\")\n",
    "else:\n",
    "    if x % 2 ==0:\n",
    "        print(\"-ve and even\")\n",
    "    else:\n",
    "        print(\"-ve and odd\")\n"
   ]
  },
  {
   "cell_type": "code",
   "execution_count": 9,
   "id": "7f4d2e59-7c32-4a2d-a743-f3f2f94a1613",
   "metadata": {},
   "outputs": [],
   "source": [
    "# and , or , not (logical operators)"
   ]
  },
  {
   "cell_type": "code",
   "execution_count": 7,
   "id": "a6ff14dd-76cb-4d56-9faf-c3db71034bb7",
   "metadata": {},
   "outputs": [
    {
     "name": "stdout",
     "output_type": "stream",
     "text": [
      "True\n",
      "True\n",
      "False\n",
      "True\n"
     ]
    }
   ],
   "source": [
    "print(True or False)\n",
    "print(True or True)\n",
    "print(False or False)\n",
    "print(False or True)"
   ]
  },
  {
   "cell_type": "code",
   "execution_count": 8,
   "id": "a52c26f7-f67f-4b78-8a8c-146f9cac2d65",
   "metadata": {},
   "outputs": [
    {
     "name": "stdout",
     "output_type": "stream",
     "text": [
      "False\n",
      "True\n",
      "False\n",
      "False\n"
     ]
    }
   ],
   "source": [
    "print(True and False)\n",
    "print(True and True)\n",
    "print(False and False)\n",
    "print(False and True)"
   ]
  },
  {
   "cell_type": "code",
   "execution_count": 3,
   "id": "3cb99b3f-27c0-4f73-b696-5361ad4ae912",
   "metadata": {},
   "outputs": [
    {
     "name": "stdin",
     "output_type": "stream",
     "text": [
      "enter physics marks =  99\n",
      "enter chemistry marks =  99\n",
      "enter maths marks =  99\n",
      "enter english marks =  99\n",
      "enter  nepali =  99\n"
     ]
    },
    {
     "name": "stdout",
     "output_type": "stream",
     "text": [
      "A+\n"
     ]
    }
   ],
   "source": [
    "physics = int(input(\"enter physics marks = \"))\n",
    "chemistry = int(input(\"enter chemistry marks = \")) \n",
    "maths = int(input(\"enter maths marks = \"))\n",
    "english = int(input(\"enter english marks = \"))\n",
    "nepali = int(input(\"enter  nepali = \"))\n",
    "if physics>=32 and chemistry>=32 and maths>=32 and english>=32 and nepali>=32:\n",
    "    tm = (physics+chemistry+maths+english+nepali)\n",
    "    p = (tm/5)\n",
    "    if p>=90:\n",
    "         print(\"A+\")\n",
    "    elif p>=80: \n",
    "         print(\"A\")\n",
    "    elif p>=70:\n",
    "         print(\"B+\")\n",
    "    elif p>=60: \n",
    "         print(\"B\")\n",
    "    elif p>=50:\n",
    "         print(\"C+\")\n",
    "    elif p>=40: \n",
    "         print(\"C\")\n",
    "    else:\n",
    "         print(\"INVALID\")\n",
    "else:\n",
    "    print(\"NG\")\n",
    "    print(\"total marks = NA\")\n",
    "    print(\"FALIED\")\n",
    "\n",
    "          \n"
   ]
  },
  {
   "cell_type": "code",
   "execution_count": 18,
   "id": "65965f46-d7ab-4a83-a895-e1b70a71b7bd",
   "metadata": {},
   "outputs": [
    {
     "name": "stdout",
     "output_type": "stream",
     "text": [
      "To perform mathematical calculation follow given instructions\n"
     ]
    },
    {
     "name": "stdin",
     "output_type": "stream",
     "text": [
      "enter the value of a = 1\n",
      "enter the value of b = 0\n",
      "enter + for add,- for diff,*for product and / for divison  = /\n"
     ]
    },
    {
     "name": "stdout",
     "output_type": "stream",
     "text": [
      "INFINITY VALUE\n"
     ]
    }
   ],
   "source": [
    "print(\"To perform mathematical calculation follow given instructions\")\n",
    "a = int(input(\"enter the value of a =\"))\n",
    "b = int(input(\"enter the value of b =\"))\n",
    "operator = input(\"enter + for add,- for diff,*for product and / for divison  =\")\n",
    "if b!=0:\n",
    "   if operator == \"+\":\n",
    "    z= int(a+b)\n",
    "    print(\"the result of sum =\",z)\n",
    "   elif operator == \"-\":\n",
    "    z= int(a-b)\n",
    "    print(\"the result of difference =\",z)\n",
    "   elif operator == \"*\":\n",
    "    z= int(a*b)\n",
    "    print(\"the result of product = \",z)\n",
    "   elif operator == \"/\":\n",
    "    z= float(a/b)\n",
    "    print(\"the result of divison =\",z)\n",
    "   else:\n",
    "    print(\"INVALID OPERATION TRY AGAIN\")\n",
    "else:\n",
    "    print(\"INFINITY VALUE\")"
   ]
  },
  {
   "cell_type": "code",
   "execution_count": 6,
   "id": "4331b414-f7a3-4120-864d-5406f3d9d76d",
   "metadata": {},
   "outputs": [
    {
     "name": "stdout",
     "output_type": "stream",
     "text": [
      "To perform mathematical calculation follow given instructions\n"
     ]
    },
    {
     "name": "stdin",
     "output_type": "stream",
     "text": [
      "enter the value of a = 332\n",
      "enter the value of b = 0\n",
      "enter + for add,- for diff,*for product and / for divison  = /\n"
     ]
    },
    {
     "name": "stdout",
     "output_type": "stream",
     "text": [
      "INFINITY VALUE \n"
     ]
    }
   ],
   "source": [
    "print(\"To perform mathematical calculation follow given instructions\")\n",
    "a = int(input(\"enter the value of a =\"))\n",
    "b = int(input(\"enter the value of b =\"))\n",
    "operator = input(\"enter + for add,- for diff,*for product and / for divison  =\")\n",
    "if operator == \"+\":\n",
    "    z= int(a+b)\n",
    "    print(\"the result of sum =\",z)\n",
    "elif operator == \"-\":\n",
    "    z= int(a-b)\n",
    "    print(\"the result of difference =\",z)\n",
    "elif operator == \"*\":\n",
    "    z= int(a*b)\n",
    "    print(\"the result of product = \",z)\n",
    "elif operator == \"/\":\n",
    "    if b!=0:\n",
    "        z = float(a/b)\n",
    "        print(\"the result of divison =\",z)\n",
    "    else:\n",
    "        print(\"INFINITY VALUE \")\n",
    "else:\n",
    "    print(\"INVALID OPERATION TRY AGAIN\")"
   ]
  },
  {
   "cell_type": "code",
   "execution_count": 1,
   "id": "03927d2c-4d64-444e-aa98-3c1f5c3a77b5",
   "metadata": {},
   "outputs": [],
   "source": [
    "#for loop (certain)\n",
    "#while loop(infinite)\n"
   ]
  },
  {
   "cell_type": "code",
   "execution_count": 2,
   "id": "1e29fd50-8c36-46b0-a5d3-bafe717b1aaa",
   "metadata": {},
   "outputs": [],
   "source": [
    "# for loop\n",
    "# for i in range(5):\n",
    "# print(i)"
   ]
  },
  {
   "cell_type": "code",
   "execution_count": 3,
   "id": "566d6815-2b82-47df-95db-0d3048f8c5f7",
   "metadata": {},
   "outputs": [],
   "source": [
    "# range() creates no of sequence"
   ]
  },
  {
   "cell_type": "code",
   "execution_count": 4,
   "id": "e52c139b-5cc9-4a70-81e3-6a0b394fc0d1",
   "metadata": {},
   "outputs": [
    {
     "name": "stdout",
     "output_type": "stream",
     "text": [
      "0\n",
      "1\n",
      "2\n",
      "3\n",
      "4\n"
     ]
    }
   ],
   "source": [
    "for i in range(5):\n",
    "    print(i)\n",
    "    "
   ]
  },
  {
   "cell_type": "code",
   "execution_count": 5,
   "id": "3295025d-b449-4a0d-b442-b9291acd10e5",
   "metadata": {},
   "outputs": [],
   "source": [
    "#range(5) 0 to 4 (5 ota value)"
   ]
  },
  {
   "cell_type": "code",
   "execution_count": 7,
   "id": "97d1b3f9-6406-4af6-a22c-ae4e5a9dca9c",
   "metadata": {},
   "outputs": [],
   "source": [
    "#range(1,5) #1,2,3,4\n",
    "#range(1,5,2) 1,3"
   ]
  },
  {
   "cell_type": "code",
   "execution_count": 10,
   "id": "7e608466-bc27-4551-9d66-21181afcaa45",
   "metadata": {},
   "outputs": [
    {
     "name": "stdout",
     "output_type": "stream",
     "text": [
      "1\n",
      "3\n"
     ]
    }
   ],
   "source": [
    "for i in range(1,5,2):\n",
    "  print(i)"
   ]
  },
  {
   "cell_type": "code",
   "execution_count": 11,
   "id": "6053ea98-aba3-4a6f-bb93-9d7df9c4ec7d",
   "metadata": {},
   "outputs": [
    {
     "name": "stdout",
     "output_type": "stream",
     "text": [
      "1\n",
      "3\n",
      "5\n"
     ]
    }
   ],
   "source": [
    "for i in range(1,6,2):\n",
    "  print(i)"
   ]
  },
  {
   "cell_type": "code",
   "execution_count": 12,
   "id": "f3bc59a0-f33d-4763-8724-e58b56b7d636",
   "metadata": {},
   "outputs": [
    {
     "name": "stdout",
     "output_type": "stream",
     "text": [
      " hello world\n",
      " hello world\n",
      " hello world\n",
      " hello world\n",
      " hello world\n"
     ]
    }
   ],
   "source": [
    "for i in range(5):\n",
    "    print(\" hello world\")"
   ]
  },
  {
   "cell_type": "code",
   "execution_count": 15,
   "id": "9fd54a30-58c9-4980-a389-339c1dcb9736",
   "metadata": {},
   "outputs": [
    {
     "name": "stdout",
     "output_type": "stream",
     "text": [
      "0  hello world\n",
      "1  hello world\n",
      "2  hello world\n",
      "3  hello world\n",
      "4  hello world\n",
      "5  hello world\n",
      "6  hello world\n",
      "7  hello world\n",
      "8  hello world\n"
     ]
    }
   ],
   "source": [
    "for i in range(9):\n",
    "    print(i,\" hello world\")"
   ]
  },
  {
   "cell_type": "code",
   "execution_count": 16,
   "id": "ec5d27c8-1af6-4651-b8f6-0476acb7e788",
   "metadata": {},
   "outputs": [
    {
     "name": "stdout",
     "output_type": "stream",
     "text": [
      "5\n",
      "10\n",
      "15\n",
      "20\n",
      "25\n",
      "30\n",
      "35\n",
      "40\n",
      "45\n",
      "50\n"
     ]
    }
   ],
   "source": [
    "for i in range(1,11):\n",
    "    print(i*5)"
   ]
  },
  {
   "cell_type": "code",
   "execution_count": 17,
   "id": "dbf13754-008a-4f59-acfe-bfd5e032f76c",
   "metadata": {},
   "outputs": [
    {
     "name": "stdout",
     "output_type": "stream",
     "text": [
      "5\n",
      "20\n",
      "35\n",
      "50\n"
     ]
    }
   ],
   "source": [
    "for i in range(1,11,3):\n",
    "    print(i*5)"
   ]
  },
  {
   "cell_type": "code",
   "execution_count": 19,
   "id": "1a0af0d4-5290-487f-9e27-b80ab76ad411",
   "metadata": {},
   "outputs": [
    {
     "name": "stdin",
     "output_type": "stream",
     "text": [
      "enter the value of x = 4\n"
     ]
    },
    {
     "name": "stdout",
     "output_type": "stream",
     "text": [
      "4 X 1 = 4\n",
      "4 X 2 = 8\n",
      "4 X 3 = 12\n",
      "4 X 4 = 16\n",
      "4 X 5 = 20\n",
      "4 X 6 = 24\n",
      "4 X 7 = 28\n",
      "4 X 8 = 32\n",
      "4 X 9 = 36\n",
      "4 X 10 = 40\n"
     ]
    }
   ],
   "source": [
    "x = int(input(\"enter the value of x =\"))\n",
    "for i in range(1,11):\n",
    "    print(x,\"X\",i,\"=\",i*x)"
   ]
  },
  {
   "cell_type": "code",
   "execution_count": 20,
   "id": "d1fc3251-db50-401b-9ad2-86fc019bb207",
   "metadata": {},
   "outputs": [
    {
     "name": "stdin",
     "output_type": "stream",
     "text": [
      " enter the value of x =  3\n",
      " enter the value of x =  3\n",
      " enter the value of x =  3\n",
      " enter the value of x =  3\n",
      " enter the value of x =  3\n"
     ]
    }
   ],
   "source": [
    "for i in range(5):\n",
    "    x = int(input(\" enter the value of x = \"))\n",
    "    "
   ]
  },
  {
   "cell_type": "code",
   "execution_count": 21,
   "id": "94029b84-c599-4cea-843c-66b7fb79fb0f",
   "metadata": {},
   "outputs": [
    {
     "name": "stdin",
     "output_type": "stream",
     "text": [
      " enter the value of x =  1000\n",
      " enter the value of x =  10000\n",
      " enter the value of x =  1000\n",
      " enter the value of x =  2000\n",
      " enter the value of x =  1000\n"
     ]
    },
    {
     "name": "stdout",
     "output_type": "stream",
     "text": [
      "15000\n"
     ]
    }
   ],
   "source": [
    "abc = 0\n",
    "for i in range(5):\n",
    "    x = int(input(\" enter the value of x = \"))\n",
    "    abc = abc+x\n",
    "print(abc)#outside the loop"
   ]
  },
  {
   "cell_type": "code",
   "execution_count": 22,
   "id": "1c9eca75-493e-44c7-ba53-7bc3d655d15f",
   "metadata": {},
   "outputs": [
    {
     "name": "stdin",
     "output_type": "stream",
     "text": [
      " enter the value of x =  1000\n"
     ]
    },
    {
     "name": "stdout",
     "output_type": "stream",
     "text": [
      "1000\n"
     ]
    },
    {
     "name": "stdin",
     "output_type": "stream",
     "text": [
      " enter the value of x =  2000\n"
     ]
    },
    {
     "name": "stdout",
     "output_type": "stream",
     "text": [
      "3000\n"
     ]
    },
    {
     "name": "stdin",
     "output_type": "stream",
     "text": [
      " enter the value of x =  20000\n"
     ]
    },
    {
     "name": "stdout",
     "output_type": "stream",
     "text": [
      "23000\n"
     ]
    },
    {
     "name": "stdin",
     "output_type": "stream",
     "text": [
      " enter the value of x =  11000\n"
     ]
    },
    {
     "name": "stdout",
     "output_type": "stream",
     "text": [
      "34000\n"
     ]
    },
    {
     "name": "stdin",
     "output_type": "stream",
     "text": [
      " enter the value of x =  23000\n"
     ]
    },
    {
     "name": "stdout",
     "output_type": "stream",
     "text": [
      "57000\n"
     ]
    }
   ],
   "source": [
    "abc = 0\n",
    "for i in range(5):\n",
    "    x = int(input(\" enter the value of x = \"))\n",
    "    abc = abc+x\n",
    "    print(abc)"
   ]
  },
  {
   "cell_type": "code",
   "execution_count": 23,
   "id": "9b1e1f96-7aff-4967-ad1b-8113ce8eb23f",
   "metadata": {},
   "outputs": [
    {
     "name": "stdin",
     "output_type": "stream",
     "text": [
      " enter the value of x =  22\n"
     ]
    },
    {
     "name": "stdout",
     "output_type": "stream",
     "text": [
      "the current balance is =  22\n"
     ]
    },
    {
     "name": "stdin",
     "output_type": "stream",
     "text": [
      " enter the value of x =  34533\n"
     ]
    },
    {
     "name": "stdout",
     "output_type": "stream",
     "text": [
      "the current balance is =  34555\n"
     ]
    },
    {
     "name": "stdin",
     "output_type": "stream",
     "text": [
      " enter the value of x =  34433\n"
     ]
    },
    {
     "name": "stdout",
     "output_type": "stream",
     "text": [
      "the current balance is =  68988\n"
     ]
    },
    {
     "name": "stdin",
     "output_type": "stream",
     "text": [
      " enter the value of x =  23342\n"
     ]
    },
    {
     "name": "stdout",
     "output_type": "stream",
     "text": [
      "the current balance is =  92330\n"
     ]
    },
    {
     "name": "stdin",
     "output_type": "stream",
     "text": [
      " enter the value of x =  1323\n"
     ]
    },
    {
     "name": "stdout",
     "output_type": "stream",
     "text": [
      "the current balance is =  93653\n"
     ]
    }
   ],
   "source": [
    "abc = 0\n",
    "for i in range(5):\n",
    "    x = int(input(\" enter the value of x = \"))\n",
    "    abc = abc+x\n",
    "    print(\"the current balance is = \",abc) #inside the loop"
   ]
  },
  {
   "cell_type": "code",
   "execution_count": 25,
   "id": "a2edc17c-a49c-401a-9d35-1b87b77b1940",
   "metadata": {},
   "outputs": [
    {
     "name": "stdin",
     "output_type": "stream",
     "text": [
      " enter the value of x =  Ramey\n",
      " enter the value of x =  ramey\n",
      " enter the value of x =  ramey\n",
      " enter the value of x =  rr\n",
      " enter the value of x =  rrr\n"
     ]
    },
    {
     "name": "stdout",
     "output_type": "stream",
     "text": [
      "Rameyrameyrameyrrrrr\n"
     ]
    }
   ],
   "source": [
    "abc = \"\" #empty string define\n",
    "for i in range(5):\n",
    "    x = str(input(\" enter the value of x = \"))\n",
    "    abc = abc+x\n",
    "print(abc)"
   ]
  },
  {
   "cell_type": "code",
   "execution_count": 7,
   "id": "daa40d72-cc40-4d40-8a7e-0acb606cc72f",
   "metadata": {},
   "outputs": [
    {
     "name": "stdin",
     "output_type": "stream",
     "text": [
      " enter the value of x =  ram\n",
      " enter the value of x =  \n",
      " enter the value of x =  shyam\n",
      " enter the value of x =  s\n",
      " enter the value of x =  saa\n"
     ]
    },
    {
     "name": "stdout",
     "output_type": "stream",
     "text": [
      "ram  shyam s saa \n"
     ]
    }
   ],
   "source": [
    "abc = \"\"\n",
    "for i in range(5):\n",
    "    x = str(input(\" enter the value of x = \"))\n",
    "    abc = abc+x+\" \"\n",
    "print(abc)"
   ]
  },
  {
   "cell_type": "code",
   "execution_count": 18,
   "id": "2a7aa01a-bcc2-4fe5-a387-83931df77893",
   "metadata": {},
   "outputs": [
    {
     "name": "stdin",
     "output_type": "stream",
     "text": [
      "enter value of n = 5\n",
      "enter value of x = eee\n",
      "enter value of x = eeeeee\n",
      "enter value of x = eeeeeeeee\n",
      "enter value of x = eeeeeeeeeeeeeeeee\n",
      "enter value of x = eeeeeeeeeeeeeeeeeeeeeeeeee\n"
     ]
    },
    {
     "name": "stdout",
     "output_type": "stream",
     "text": [
      "eee\n",
      "eeeeee\n",
      "eeeeeeeee\n",
      "eeeeeeeeeeeeeeeee\n",
      "eeeeeeeeeeeeeeeeeeeeeeeeee\n",
      "\n"
     ]
    }
   ],
   "source": [
    "xyz = \"\"\n",
    "n = int(input(\"enter value of n =\"))\n",
    "for i in range(n):\n",
    "    x = (input(\"enter value of x =\"))\n",
    "    xyz = xyz+x+ \"\\n\"\n",
    "print(xyz)\n"
   ]
  },
  {
   "cell_type": "code",
   "execution_count": 28,
   "id": "dc1dbbe5-1597-4bd8-b9c9-19c1d1f39928",
   "metadata": {},
   "outputs": [
    {
     "name": "stdin",
     "output_type": "stream",
     "text": [
      "enter n=  2\n",
      "enter name =  www\n",
      " enter phone =  2345\n",
      "enter name =  we\n",
      " enter phone =  234567\n"
     ]
    },
    {
     "name": "stdout",
     "output_type": "stream",
     "text": [
      "www 2345\n",
      "we 234567\n",
      "\n"
     ]
    }
   ],
   "source": [
    "contact = \"\"\n",
    "n = int(input(\"enter n= \"))\n",
    "for i in range(n):\n",
    "    name = input(\"enter name = \")\n",
    "    phone = int(input(\" enter phone = \"))\n",
    "    contact = contact + name +\" \"+ str(phone) +\"\\n\"\n",
    "print(contact)"
   ]
  },
  {
   "cell_type": "code",
   "execution_count": 41,
   "id": "b564547f-b349-4bc1-8c9f-0ed323f47449",
   "metadata": {},
   "outputs": [
    {
     "name": "stdin",
     "output_type": "stream",
     "text": [
      "enter the value of n = 5\n"
     ]
    },
    {
     "name": "stdout",
     "output_type": "stream",
     "text": [
      "the factorial of the input number is = 120\n"
     ]
    }
   ],
   "source": [
    "fac = 1\n",
    "n = int(input(\"enter the value of n =\"))\n",
    "for i in range(1,n+1):\n",
    "    fac = fac*i\n",
    "print(\"the factorial of the input number is =\",fac)\n"
   ]
  },
  {
   "cell_type": "code",
   "execution_count": 2,
   "id": "b7585f05-1941-454e-85bc-fa5340cade0f",
   "metadata": {},
   "outputs": [
    {
     "name": "stdout",
     "output_type": "stream",
     "text": [
      "\n",
      "o\n",
      "oo\n",
      "ooo\n",
      "oooo\n"
     ]
    }
   ],
   "source": [
    "for i in range (5):\n",
    "    print(i*'o')\n",
    "    "
   ]
  },
  {
   "cell_type": "code",
   "execution_count": 3,
   "id": "7a6adcc0-bc58-447b-86ee-e3cef39d47b0",
   "metadata": {},
   "outputs": [
    {
     "name": "stdout",
     "output_type": "stream",
     "text": [
      " \n",
      " o\n",
      " oo\n",
      " ooo\n",
      " oooo\n",
      " ooooo\n",
      " oooooo\n",
      " ooooooo\n",
      " oooooooo\n",
      " ooooooooo\n"
     ]
    }
   ],
   "source": [
    "n = 10\n",
    "for i in range(10):\n",
    "    print((n-99) * \"\",1*(i*'o'))"
   ]
  },
  {
   "cell_type": "code",
   "execution_count": 18,
   "id": "9986d244-cd68-43de-a09c-442076d6543b",
   "metadata": {},
   "outputs": [
    {
     "name": "stdout",
     "output_type": "stream",
     "text": [
      "           \n",
      "          oo\n",
      "         oooo\n",
      "        oooooo\n",
      "       oooooooo\n",
      "      oooooooooo\n",
      "     oooooooooooo\n",
      "    oooooooooooooo\n",
      "   oooooooooooooooo\n",
      "  oooooooooooooooooo\n",
      "        ooooo\n",
      "        ooooo\n",
      "        ooooo\n",
      "        ooooo\n",
      "        ooooo\n"
     ]
    }
   ],
   "source": [
    "n = 10\n",
    "for i in range(10):\n",
    "    print((n-i)*\" \",2*(i*'o'))\n",
    "for i in range(5):\n",
    "    print(7*\" \",5*\"o\")"
   ]
  },
  {
   "cell_type": "code",
   "execution_count": 17,
   "id": "afeaee56-d9ed-4179-ac5a-78bae8f492ac",
   "metadata": {},
   "outputs": [],
   "source": [
    "# wap to make a billing system"
   ]
  },
  {
   "cell_type": "code",
   "execution_count": 19,
   "id": "bbccf1fa-5510-48f4-9fcb-81bb2daec1d3",
   "metadata": {},
   "outputs": [],
   "source": [
    "# name = ?\n",
    "# price = ?\n",
    "# quantity = ?\n",
    "# total = ?"
   ]
  },
  {
   "cell_type": "code",
   "execution_count": 21,
   "id": "ec9764c2-8a2a-40c4-8ccd-07efc64f2ad8",
   "metadata": {},
   "outputs": [],
   "source": [
    "# output\n",
    "# coke 100 3 300\n",
    "# 150 4 600"
   ]
  },
  {
   "cell_type": "code",
   "execution_count": 5,
   "id": "79964bbe-8512-48f7-b5c6-45f94d38e5ea",
   "metadata": {},
   "outputs": [
    {
     "name": "stdin",
     "output_type": "stream",
     "text": [
      "enter the number of products in integer form =  2\n",
      "enter the name of that product =  Lays\n",
      "enter the price of that product = 200\n",
      "enter the quantity in number = 3\n",
      "enter the name of that product =  Coke\n",
      "enter the price of that product = 210\n",
      "enter the quantity in number = 5\n"
     ]
    },
    {
     "name": "stdout",
     "output_type": "stream",
     "text": [
      "********************** BILLING SYSTEM ************************\n",
      "           Name-----                      Price-----              Quantity----       Total----------\n",
      "                Lays                      200.0                   3.0          600.0\n",
      "                Coke                      210.0                   5.0          1050.0\n",
      "\n",
      "************** THANK YOU VISIT AGAIN **************\n"
     ]
    }
   ],
   "source": [
    "xyz =\"\"\n",
    "n = int(input(\"enter the number of products in integer form = \"))\n",
    "for i in range(n):\n",
    "    name = input(\"enter the name of that product = \")\n",
    "    price = float(input(\"enter the price of that product =\"))\n",
    "    quantity = float(input(\"enter the quantity in number =\"))\n",
    "    total = (price*quantity)\n",
    "    xyz = xyz + \"                \" + name + \"                      \" + str(price) + \"                   \" + str(quantity) +\"          \"+ str(total) +\"\\n\"\n",
    "print(\"********************** BILLING SYSTEM ************************\")\n",
    "print(\"           Name-----                      Price-----              Quantity----       Total----------\")\n",
    "print(xyz)\n",
    "print(\"************** THANK YOU VISIT AGAIN **************\")\n"
   ]
  },
  {
   "cell_type": "code",
   "execution_count": 6,
   "id": "bad06bd8-2e0b-4211-bd12-38b0adaf5040",
   "metadata": {},
   "outputs": [
    {
     "name": "stdin",
     "output_type": "stream",
     "text": [
      "enter the number of products in integer form =  4\n",
      "enter the name of that product =  Lays\n",
      "enter the price of that product = 180\n",
      "enter the quantity in number = 3\n",
      "enter the name of that product =  Coke\n",
      "enter the price of that product = 200\n",
      "enter the quantity in number = 4\n",
      "enter the name of that product =  Rice\n",
      "enter the price of that product = 190\n",
      "enter the quantity in number = 4\n",
      "enter the name of that product =  8848\n",
      "enter the price of that product = 3000\n",
      "enter the quantity in number = 3\n"
     ]
    },
    {
     "name": "stdout",
     "output_type": "stream",
     "text": [
      "********************** BILLING SYSTEM ************************\n",
      "           Name-----                      Price-----              Quantity----       Total----------\n",
      "                Lays                      180.0                   3.0            540.0\n",
      "                Coke                      200.0                   4.0            800.0\n",
      "                Rice                      190.0                   4.0            760.0\n",
      "                8848                      3000.0                   3.0            9000.0\n",
      "\n",
      "THE TOTAL COST TO THE TRANSACTION = 11100.0\n",
      "************** THANK YOU VISIT AGAIN **************\n"
     ]
    }
   ],
   "source": [
    "xyz =\"\"\n",
    "totalcost = 0\n",
    "n = int(input(\"enter the number of products in integer form = \"))\n",
    "for i in range(n):\n",
    "    name = input(\"enter the name of that product = \")\n",
    "    price = float(input(\"enter the price of that product =\"))\n",
    "    quantity = float(input(\"enter the quantity in number =\"))\n",
    "    total = (price*quantity)\n",
    "    totalcost = totalcost + total\n",
    "    xyz = xyz + \"                \" + name + \"                      \" + str(price) + \"                   \" + str(quantity) +\"            \"+ str(total) +\"\\n\"\n",
    "print(\"********************** BILLING SYSTEM ************************\")\n",
    "print(\"           Name-----                      Price-----              Quantity----       Total----------\")\n",
    "print(xyz)\n",
    "print(\"THE TOTAL COST TO THE TRANSACTION =\",totalcost)\n",
    "print(\"************** THANK YOU VISIT AGAIN **************\")\n"
   ]
  },
  {
   "cell_type": "code",
   "execution_count": 1,
   "id": "69b4dd2c-3342-46aa-93c7-6b0a04a28675",
   "metadata": {},
   "outputs": [
    {
     "name": "stdout",
     "output_type": "stream",
     "text": [
      "h\n",
      "e\n",
      "l\n",
      "o\n",
      " \n",
      "w\n",
      "o\n",
      "r\n",
      "l\n",
      "d\n"
     ]
    }
   ],
   "source": [
    "a = \"helo world\"\n",
    "for i in (a):\n",
    "    print(i)"
   ]
  },
  {
   "cell_type": "code",
   "execution_count": 2,
   "id": "c4b2e306-33e9-494b-a7f1-0e603a78cb85",
   "metadata": {},
   "outputs": [
    {
     "name": "stdout",
     "output_type": "stream",
     "text": [
      "h hello world\n",
      "e hello world\n",
      "l hello world\n",
      "o hello world\n",
      "  hello world\n",
      "w hello world\n",
      "o hello world\n",
      "r hello world\n",
      "l hello world\n",
      "d hello world\n"
     ]
    }
   ],
   "source": [
    "a = \"helo world\"\n",
    "for i in (a):\n",
    "    print(i,\"hello world\")"
   ]
  },
  {
   "cell_type": "code",
   "execution_count": 10,
   "id": "b790600c-ba47-45e5-b7a4-47782d1193e9",
   "metadata": {},
   "outputs": [
    {
     "name": "stdout",
     "output_type": "stream",
     "text": [
      "h e l l o   w o r l d .   i a m   p y t h o n "
     ]
    }
   ],
   "source": [
    "a = \"hello world. iam python\"\n",
    "for i in (a):\n",
    "    print(i,end = \" \" )"
   ]
  },
  {
   "cell_type": "code",
   "execution_count": 13,
   "id": "a5ff9cbd-3d6c-4693-a63c-c0658292f675",
   "metadata": {},
   "outputs": [
    {
     "name": "stdout",
     "output_type": "stream",
     "text": [
      "h e l o   w o r l d .   i a m   p y t h o n "
     ]
    }
   ],
   "source": [
    "a = \"helo world. iam python\"\n",
    "for i in (a):\n",
    "    print(i,end = \" \")"
   ]
  },
  {
   "cell_type": "code",
   "execution_count": 8,
   "id": "7eb1547c-8fab-49f3-bebf-d0041178dcd2",
   "metadata": {},
   "outputs": [
    {
     "name": "stdout",
     "output_type": "stream",
     "text": [
      " hello world  i am python"
     ]
    }
   ],
   "source": [
    "a = \" hello world .. i am python\"\n",
    "for i in a:\n",
    "    if i!= \".\":\n",
    "        print(i,end = \"\")"
   ]
  },
  {
   "cell_type": "code",
   "execution_count": 14,
   "id": "c505fb6f-6fa5-48d9-b196-5b6942bccde2",
   "metadata": {},
   "outputs": [
    {
     "name": "stdout",
     "output_type": "stream",
     "text": [
      " hello world  i am pithun"
     ]
    }
   ],
   "source": [
    "a = \" hello world .. i am pithun!!!!!!!!!!!\"\n",
    "for i in a:\n",
    "    if i!= \".\" and i != \"!\":\n",
    "        print(i,end = \"\")"
   ]
  },
  {
   "cell_type": "code",
   "execution_count": 10,
   "id": "fca1a69a-fa1c-46ed-acd2-62e1e4a1a0af",
   "metadata": {},
   "outputs": [],
   "source": [
    "# control statement\n",
    "# break\n",
    "# continue\n",
    "# pass"
   ]
  },
  {
   "cell_type": "code",
   "execution_count": 11,
   "id": "562d557f-5a82-4edb-9918-fc6aba48cb05",
   "metadata": {},
   "outputs": [
    {
     "name": "stdout",
     "output_type": "stream",
     "text": [
      "0\n",
      "1\n",
      "2\n",
      "3\n",
      "4\n"
     ]
    }
   ],
   "source": [
    "# break\n",
    "for i in range(10):\n",
    "    if i == 5:\n",
    "        break\n",
    "    print(i)\n"
   ]
  },
  {
   "cell_type": "code",
   "execution_count": 12,
   "id": "6c21bd5b-494e-4c4d-b04b-743296c47065",
   "metadata": {},
   "outputs": [
    {
     "name": "stdout",
     "output_type": "stream",
     "text": [
      " hello world "
     ]
    }
   ],
   "source": [
    "a = \" hello world .. i am python\"\n",
    "for i in a:\n",
    "    if i!= \".\":\n",
    "        print(i,end = \"\")\n",
    "    else:\n",
    "        break"
   ]
  },
  {
   "cell_type": "code",
   "execution_count": 15,
   "id": "e534bbf5-75f4-4d4c-be7a-f43fa700f54f",
   "metadata": {},
   "outputs": [
    {
     "name": "stdout",
     "output_type": "stream",
     "text": [
      " hello world "
     ]
    }
   ],
   "source": [
    "a = \" hello world .. i am python\"\n",
    "for i in a:\n",
    "    if i== \".\":\n",
    "        break\n",
    "    print(i,end = \"\")"
   ]
  },
  {
   "cell_type": "code",
   "execution_count": 16,
   "id": "2377fcc0-ea11-4e97-b9a9-e3f1dd3c6a06",
   "metadata": {},
   "outputs": [],
   "source": [
    "# continue ( skip garera run)"
   ]
  },
  {
   "cell_type": "code",
   "execution_count": 18,
   "id": "fe989070-b3bf-4ee5-a203-41c3ece28855",
   "metadata": {},
   "outputs": [
    {
     "name": "stdout",
     "output_type": "stream",
     "text": [
      " hello world  i am python"
     ]
    }
   ],
   "source": [
    "a = \" hello world ...... i am python\"\n",
    "for i in a:\n",
    "    if i== \".\":\n",
    "        continue\n",
    "    print(i,end = \"\")"
   ]
  },
  {
   "cell_type": "code",
   "execution_count": 19,
   "id": "4aaa35b7-b814-4a8c-bcf1-dc81aa4623cb",
   "metadata": {},
   "outputs": [
    {
     "name": "stdout",
     "output_type": "stream",
     "text": [
      "0 1 2 3 4 6 7 8 9 "
     ]
    }
   ],
   "source": [
    "for i in range(10):\n",
    "    if i == 5:\n",
    "        continue\n",
    "    print(i, end = \" \")"
   ]
  },
  {
   "cell_type": "code",
   "execution_count": 20,
   "id": "01c51afb-fdd0-4827-b465-43baf8a7cda8",
   "metadata": {},
   "outputs": [
    {
     "name": "stdout",
     "output_type": "stream",
     "text": [
      "5\n",
      "10\n",
      "15\n",
      "20\n",
      "25\n",
      "30\n",
      "35\n",
      "40\n",
      "45\n",
      "50\n"
     ]
    }
   ],
   "source": [
    "for i in range(1,51):\n",
    "    if i %5!= 0:\n",
    "        continue\n",
    "    print(i)"
   ]
  },
  {
   "cell_type": "code",
   "execution_count": 24,
   "id": "2ddba04e-0788-4a76-9b4a-e8e26662a68b",
   "metadata": {},
   "outputs": [
    {
     "name": "stdout",
     "output_type": "stream",
     "text": [
      "5 10 15 20 25 30 35 40 45 50 "
     ]
    }
   ],
   "source": [
    "for i in range(1,51):\n",
    "    if i %5!= 0:\n",
    "        continue\n",
    "    print(i,end= \" \")"
   ]
  },
  {
   "cell_type": "code",
   "execution_count": 25,
   "id": "2d9b350f-4f52-4a25-adae-7b93ad8f0ffd",
   "metadata": {},
   "outputs": [
    {
     "name": "stdout",
     "output_type": "stream",
     "text": [
      "h e l l o   w o r l d     i   a m   p y t h o n "
     ]
    }
   ],
   "source": [
    "a = \"hello world . i am python....\"\n",
    "for i in a:\n",
    "    if i == \".\":\n",
    "        continue\n",
    "    print(i,end = \" \")"
   ]
  },
  {
   "cell_type": "code",
   "execution_count": 27,
   "id": "2e790001-8ded-4646-9d07-252a03368578",
   "metadata": {},
   "outputs": [],
   "source": [
    "# pass \n",
    "for i in range (5):\n",
    "    pass"
   ]
  },
  {
   "cell_type": "code",
   "execution_count": 29,
   "id": "485de999-719b-4886-bc06-e4c235954a85",
   "metadata": {},
   "outputs": [],
   "source": [
    "a = 10\n",
    "if a%2 ==0:\n",
    "    pass"
   ]
  },
  {
   "cell_type": "code",
   "execution_count": 30,
   "id": "574b2095-9d1c-4e0b-a24c-5ce08aa0e9a2",
   "metadata": {},
   "outputs": [],
   "source": [
    "# while loop"
   ]
  },
  {
   "cell_type": "code",
   "execution_count": 31,
   "id": "4e5b0c95-8a43-466d-ac60-15322bbf2b83",
   "metadata": {},
   "outputs": [],
   "source": [
    "# while <condition>:\n",
    "#  <operation>"
   ]
  },
  {
   "cell_type": "code",
   "execution_count": 1,
   "id": "cfe23d65-0d67-46bf-8bd4-560600473180",
   "metadata": {},
   "outputs": [
    {
     "name": "stdout",
     "output_type": "stream",
     "text": [
      "hello world\n",
      "hello world\n",
      "hello world\n",
      "hello world\n",
      "hello world\n"
     ]
    }
   ],
   "source": [
    "a = 0\n",
    "while a < 5:\n",
    "   print(\"hello world\")\n",
    "   a = a + 1"
   ]
  },
  {
   "cell_type": "code",
   "execution_count": 4,
   "id": "b9e150ab-d992-47cb-8f1b-dc2e1fd87167",
   "metadata": {},
   "outputs": [
    {
     "name": "stdout",
     "output_type": "stream",
     "text": [
      "0\n",
      "1\n",
      "2\n",
      "3\n",
      "4\n",
      "5\n"
     ]
    }
   ],
   "source": [
    "i = 0\n",
    "while i <=5:\n",
    "  print(i)\n",
    "  i = i + 1"
   ]
  },
  {
   "cell_type": "code",
   "execution_count": 5,
   "id": "3a95394c-2566-491b-a8fd-72f3f1c5314f",
   "metadata": {},
   "outputs": [
    {
     "name": "stdout",
     "output_type": "stream",
     "text": [
      "he\n",
      "he\n",
      "he\n",
      "he\n",
      "he\n"
     ]
    }
   ],
   "source": [
    "a = 0\n",
    "while a <5:\n",
    "    print(\"he\")\n",
    "    a = a+1"
   ]
  },
  {
   "cell_type": "code",
   "execution_count": 6,
   "id": "06145ed1-8051-4212-ae35-edaadd3c9bf2",
   "metadata": {},
   "outputs": [
    {
     "name": "stdout",
     "output_type": "stream",
     "text": [
      "0 he\n",
      "1 he\n",
      "2 he\n",
      "3 he\n",
      "4 he\n"
     ]
    }
   ],
   "source": [
    "a = 0\n",
    "while a <5:\n",
    "    print(a,\"he\")\n",
    "    a = a+1"
   ]
  },
  {
   "cell_type": "code",
   "execution_count": 7,
   "id": "207e403c-54c5-49b2-8c0d-835531d83b9a",
   "metadata": {},
   "outputs": [
    {
     "name": "stdout",
     "output_type": "stream",
     "text": [
      "he\n",
      "he\n",
      "he\n",
      "he\n"
     ]
    }
   ],
   "source": [
    "a = 1\n",
    "while a <5:\n",
    "    print(\"he\")\n",
    "    a = a+1"
   ]
  },
  {
   "cell_type": "code",
   "execution_count": 8,
   "id": "3cc4adbf-50d8-4eaf-b975-ea921579266a",
   "metadata": {},
   "outputs": [],
   "source": [
    "# x = int(input(\"enter the value of x =\"))\n",
    "# for i in range(1,11):\n",
    "    # print(x,\"X\",i,\"=\",i*x)"
   ]
  },
  {
   "cell_type": "code",
   "execution_count": 3,
   "id": "0ae26e2c-d7b3-4ad2-a4e0-b746822a7bf1",
   "metadata": {},
   "outputs": [
    {
     "name": "stdin",
     "output_type": "stream",
     "text": [
      "enter x =  2\n"
     ]
    },
    {
     "name": "stdout",
     "output_type": "stream",
     "text": [
      "2 X 1 = 2\n",
      "2 X 2 = 4\n",
      "2 X 3 = 6\n",
      "2 X 4 = 8\n",
      "2 X 5 = 10\n",
      "2 X 6 = 12\n",
      "2 X 7 = 14\n",
      "2 X 8 = 16\n",
      "2 X 9 = 18\n",
      "2 X 10 = 20\n"
     ]
    }
   ],
   "source": [
    "i = 1\n",
    "x = int(input(\"enter x = \"))\n",
    "while i<=10:\n",
    "    print(x,\"X\",i,\"=\",i*x)\n",
    "    i = i+1"
   ]
  },
  {
   "cell_type": "code",
   "execution_count": 4,
   "id": "8f86b587-dfd9-4542-84de-66c42629d5c9",
   "metadata": {},
   "outputs": [],
   "source": [
    "# fac = 1\n",
    "# n = int(input(\"enter the value of n =\"))\n",
    "# for i in range(1,n+1):\n",
    "#     fac = fac*i\n",
    "# print(\"the factorial of the input number is =\",fac)\n"
   ]
  },
  {
   "cell_type": "code",
   "execution_count": 11,
   "id": "95721e06-9bbc-4471-8dea-e3a93cb079b5",
   "metadata": {},
   "outputs": [
    {
     "name": "stdin",
     "output_type": "stream",
     "text": [
      "enter n =  5\n"
     ]
    },
    {
     "name": "stdout",
     "output_type": "stream",
     "text": [
      "120\n"
     ]
    }
   ],
   "source": [
    "i = 1\n",
    "fac = 1\n",
    "n = int(input(\"enter n = \"))\n",
    "while i<=n:\n",
    "    fac = fac * i\n",
    "    i = i+1\n",
    "print(fac)"
   ]
  },
  {
   "cell_type": "code",
   "execution_count": 13,
   "id": "63ef68dd-abe0-4275-9213-68448c05f7d7",
   "metadata": {},
   "outputs": [],
   "source": [
    "#  while loop\n",
    "# inisialization\n",
    "# condition\n",
    "# increment"
   ]
  },
  {
   "cell_type": "code",
   "execution_count": 14,
   "id": "bbc742b8-013a-4251-9a76-2d4d764f7ac0",
   "metadata": {},
   "outputs": [
    {
     "name": "stdin",
     "output_type": "stream",
     "text": [
      "enter the number of products in integer form =  2\n",
      "enter the name of that product =  lays\n",
      "enter the price of that product = 200\n",
      "enter the quantity in number = 3\n",
      "enter the name of that product =  coke\n",
      "enter the price of that product = 210\n",
      "enter the quantity in number = 5\n",
      "enter the name of that product =  momo\n",
      "enter the price of that product = 170\n",
      "enter the quantity in number = 2\n"
     ]
    },
    {
     "name": "stdout",
     "output_type": "stream",
     "text": [
      "********************** BILLING SYSTEM ************************\n",
      "           Name-----                      Price-----              Quantity----       Total----------\n",
      "                lays                      200.0                   3.0            600.0\n",
      "                coke                      210.0                   5.0            1050.0\n",
      "                momo                      170.0                   2.0            340.0\n",
      "\n",
      "THE TOTAL COST TO THE TRANSACTION = 1990.0\n",
      "************** THANK YOU VISIT AGAIN **************\n"
     ]
    }
   ],
   "source": [
    "i = 0\n",
    "xyz =\"\"\n",
    "totalcost = 0\n",
    "n = int(input(\"enter the number of products in integer form = \"))\n",
    "while i <=n:\n",
    "    name = input(\"enter the name of that product = \")\n",
    "    price = float(input(\"enter the price of that product =\"))\n",
    "    quantity = float(input(\"enter the quantity in number =\"))\n",
    "    total = (price*quantity)\n",
    "    totalcost = totalcost + total\n",
    "    xyz = xyz + \"                \" + name + \"                      \" + str(price) + \"                   \" + str(quantity) +\"            \"+ str(total) +\"\\n\"\n",
    "    i = i+1\n",
    "print(\"********************** BILLING SYSTEM ************************\")\n",
    "print(\"           Name-----                      Price-----              Quantity----       Total----------\")\n",
    "print(xyz)\n",
    "print(\"THE TOTAL COST TO THE TRANSACTION =\",totalcost)\n",
    "print(\"************** THANK YOU VISIT AGAIN **************\")"
   ]
  },
  {
   "cell_type": "code",
   "execution_count": 15,
   "id": "03201eb9-b23b-4a81-95e2-2ec54410c337",
   "metadata": {},
   "outputs": [],
   "source": [
    "#  break in while\n"
   ]
  },
  {
   "cell_type": "code",
   "execution_count": 16,
   "id": "4a16bae5-374d-46cb-a988-718c95257021",
   "metadata": {},
   "outputs": [
    {
     "name": "stdout",
     "output_type": "stream",
     "text": [
      "0\n",
      "1\n",
      "2\n",
      "3\n",
      "4\n"
     ]
    }
   ],
   "source": [
    "# break\n",
    "i = 0\n",
    "while i<=10:\n",
    "    if i ==5:\n",
    "        break\n",
    "    print(i)\n",
    "    i = i+1"
   ]
  },
  {
   "cell_type": "code",
   "execution_count": 2,
   "id": "52fedaf6-cbbf-425e-963a-49b4dd981592",
   "metadata": {},
   "outputs": [
    {
     "name": "stdout",
     "output_type": "stream",
     "text": [
      "0\n",
      "1\n",
      "2\n",
      "3\n",
      "4\n",
      "6\n",
      "7\n",
      "8\n",
      "9\n",
      "10\n"
     ]
    }
   ],
   "source": [
    "i = 0\n",
    "while i<=10:\n",
    "    if i ==5:\n",
    "        i = i+1\n",
    "        continue\n",
    "    print(i)\n",
    "    i = i+1\n",
    "        "
   ]
  },
  {
   "cell_type": "code",
   "execution_count": 2,
   "id": "f7827521-a65c-4487-8563-7da87a3e59d2",
   "metadata": {},
   "outputs": [],
   "source": [
    "# wap to find if the given number is prime or composite"
   ]
  },
  {
   "cell_type": "code",
   "execution_count": 19,
   "id": "64fee99b-0ac0-4284-a68c-e50248f7f8d0",
   "metadata": {},
   "outputs": [
    {
     "name": "stdin",
     "output_type": "stream",
     "text": [
      "enter num =  34\n"
     ]
    },
    {
     "name": "stdout",
     "output_type": "stream",
     "text": [
      "Composite\n"
     ]
    }
   ],
   "source": [
    "num = int(input(\"enter num = \"))\n",
    "if num ==1:\n",
    "    print(\"The given number is neither prime nor composite\")\n",
    "if num>1:\n",
    "   for i in range(2,num):\n",
    "       if num % i==0:\n",
    "          print(\"Composite\")\n",
    "          break\n",
    "   else:\n",
    "     print(\"Prime\")"
   ]
  },
  {
   "cell_type": "code",
   "execution_count": 23,
   "id": "0746fc96-3581-4c3b-95c9-f164d25c931b",
   "metadata": {},
   "outputs": [
    {
     "name": "stdin",
     "output_type": "stream",
     "text": [
      "enter num = 12\n"
     ]
    },
    {
     "name": "stdout",
     "output_type": "stream",
     "text": [
      "The given number  12 is composite number\n"
     ]
    }
   ],
   "source": [
    "i = 2\n",
    "num = int(input(\"enter num =\"))\n",
    "if num ==1:\n",
    "    print(\"The given number 1 is neither prime nor composite\")\n",
    "if num>1:\n",
    " while i<num:\n",
    "     if num%i==0:\n",
    "         print(\"The given number \",num,\"is composite number\")\n",
    "         i = i+1\n",
    "         break\n",
    " else:\n",
    "     print(\"The given number\",num,\"is prime number\")"
   ]
  },
  {
   "cell_type": "code",
   "execution_count": 1,
   "id": "52e37019-f69b-4f6c-b953-05458273ce20",
   "metadata": {},
   "outputs": [
    {
     "name": "stdin",
     "output_type": "stream",
     "text": [
      "Enter num =  32\n"
     ]
    },
    {
     "name": "stdout",
     "output_type": "stream",
     "text": [
      "The given number 32 is a composite number\n"
     ]
    }
   ],
   "source": [
    "i = 2\n",
    "num = int(input(\"Enter num = \"))\n",
    "\n",
    "if num == 1:\n",
    "    print(\"The given number 1 is neither prime nor composite\")\n",
    "\n",
    "if num > 1:\n",
    "    while i < num:\n",
    "        if num % i == 0:\n",
    "            print(\"The given number\", num, \"is a composite number\")\n",
    "            break\n",
    "        i = i + 1\n",
    "    else:\n",
    "        print(\"The given number\", num, \"is a prime number\")"
   ]
  },
  {
   "cell_type": "code",
   "execution_count": 5,
   "id": "9ac2154d-e4f7-41ea-9b5f-8c67b1bf55db",
   "metadata": {},
   "outputs": [
    {
     "name": "stdin",
     "output_type": "stream",
     "text": [
      "नम्बर टाइप गर्नुहोस् =  34\n"
     ]
    },
    {
     "name": "stdout",
     "output_type": "stream",
     "text": [
      "दिइएको नम्बर 34 एक सम्पोर्किय संख्या (Composite Number) हो।\n"
     ]
    }
   ],
   "source": [
    "num = int(input(\"नम्बर टाइप गर्नुहोस् = \"))\n",
    "\n",
    "if num == 1 or num == 0:\n",
    "    print(\"दिइएको नम्बर १ , 0 न त यो न सम्पर्किय न विषम संख्या हो।\")\n",
    "else:\n",
    "    i = 2\n",
    "    while i < num:\n",
    "        if num % i == 0:\n",
    "            print(\"दिइएको नम्बर\", num, \"एक सम्पोर्किय संख्या (Composite Number) हो।\")\n",
    "            break\n",
    "        i = i + 1\n",
    "    else:\n",
    "        print(\"दिइएको नम्बर\", num, \"एक विषम संख्या (Prime Number) हो।\")"
   ]
  },
  {
   "cell_type": "code",
   "execution_count": null,
   "id": "f6764f19-ee1b-4cd2-90f8-00242f7446b4",
   "metadata": {},
   "outputs": [],
   "source": []
  }
 ],
 "metadata": {
  "kernelspec": {
   "display_name": "Python 3 (ipykernel)",
   "language": "python",
   "name": "python3"
  },
  "language_info": {
   "codemirror_mode": {
    "name": "ipython",
    "version": 3
   },
   "file_extension": ".py",
   "mimetype": "text/x-python",
   "name": "python",
   "nbconvert_exporter": "python",
   "pygments_lexer": "ipython3",
   "version": "3.11.7"
  }
 },
 "nbformat": 4,
 "nbformat_minor": 5
}
