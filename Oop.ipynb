{
 "cells": [
  {
   "cell_type": "code",
   "execution_count": 1,
   "id": "0afc6e1f-54bd-4572-8e5b-d0140f1432a8",
   "metadata": {},
   "outputs": [],
   "source": [
    "# class <name>:\n",
    "#     <methods>\n",
    "\n",
    "\n",
    "# <name>()"
   ]
  },
  {
   "cell_type": "code",
   "execution_count": 10,
   "id": "cc1faf8f-79e5-457f-977d-5603d31ab5bf",
   "metadata": {},
   "outputs": [
    {
     "name": "stdout",
     "output_type": "stream",
     "text": [
      "Hello world..............................................!\n"
     ]
    }
   ],
   "source": [
    "class Hello:\n",
    "    def hello(self):\n",
    "        print(\"Hello world..............................................!\")\n",
    "obj = Hello()\n",
    "x.hello()"
   ]
  },
  {
   "cell_type": "code",
   "execution_count": 7,
   "id": "b9da2f44-1982-4589-a84d-0c82bfb19665",
   "metadata": {},
   "outputs": [
    {
     "name": "stdout",
     "output_type": "stream",
     "text": [
      "Hello world..............................................!\n"
     ]
    }
   ],
   "source": [
    "class Hello:\n",
    "    @staticmethod\n",
    "    def hello():\n",
    "        print(\"Hello world..............................................!\")\n",
    "obj = Hello()\n",
    "obj.hello()"
   ]
  },
  {
   "cell_type": "code",
   "execution_count": 9,
   "id": "89debd95-c123-4a36-9c37-75807cf9ba87",
   "metadata": {},
   "outputs": [
    {
     "name": "stdin",
     "output_type": "stream",
     "text": [
      "enter the value l =  66\n",
      "enter the value b =  33\n"
     ]
    },
    {
     "name": "stdout",
     "output_type": "stream",
     "text": [
      "the area = 2178\n"
     ]
    }
   ],
   "source": [
    "class Cal:\n",
    "    def area(self):\n",
    "       l = int(input(\"enter the value l = \"))\n",
    "       b = int(input(\"enter the value b = \"))\n",
    "       a = l*b\n",
    "       print(\"the area =\",a)\n",
    "obj = Cal()\n",
    "obj.area()"
   ]
  },
  {
   "cell_type": "code",
   "execution_count": 10,
   "id": "2c972c42-4ce6-47b6-8d63-3682b24e731e",
   "metadata": {},
   "outputs": [
    {
     "name": "stdin",
     "output_type": "stream",
     "text": [
      "enter the value l =  7\n",
      "enter the value b =  8\n",
      "enter the value of h = 9\n"
     ]
    },
    {
     "name": "stdout",
     "output_type": "stream",
     "text": [
      "the volume  = 504\n"
     ]
    }
   ],
   "source": [
    "class Kalu:\n",
    "    def vol(self):\n",
    "       l = int(input(\"enter the value l = \"))\n",
    "       b = int(input(\"enter the value b = \"))\n",
    "       h = int(input(\"enter the value of h =\"))\n",
    "       v = l*b*h\n",
    "       print(\"the volume  =\",v)\n",
    "obj = Kalu()\n",
    "obj.vol()"
   ]
  },
  {
   "cell_type": "code",
   "execution_count": 14,
   "id": "3196f91e-a56e-4ea1-8634-0d9906b12cf3",
   "metadata": {},
   "outputs": [
    {
     "name": "stdin",
     "output_type": "stream",
     "text": [
      "enter height =  12\n",
      "enter the value l =  23\n",
      "enter the value b =  34\n"
     ]
    },
    {
     "name": "stdout",
     "output_type": "stream",
     "text": [
      "the volume = 9384\n"
     ]
    }
   ],
   "source": [
    "class Cal:\n",
    "    def vol(self,h):\n",
    "       l = int(input(\"enter the value l = \"))\n",
    "       b = int(input(\"enter the value b = \"))\n",
    "       v = l*b*h\n",
    "       print(\"the volume =\",v)\n",
    "obj = Cal()\n",
    "h = int(input(\"enter height = \"))\n",
    "obj.vol(h)"
   ]
  },
  {
   "cell_type": "code",
   "execution_count": 16,
   "id": "b653b149-f8d8-428f-933d-15d4ed8e3b27",
   "metadata": {},
   "outputs": [
    {
     "name": "stdin",
     "output_type": "stream",
     "text": [
      "enter height =  12\n",
      "enter the value l =  23\n",
      "enter the value b =  34\n"
     ]
    },
    {
     "name": "stdout",
     "output_type": "stream",
     "text": [
      "the volume = 9384\n"
     ]
    }
   ],
   "source": [
    "class Cal:\n",
    "    @staticmethod\n",
    "    def vol(h):\n",
    "       l = int(input(\"enter the value l = \"))\n",
    "       b = int(input(\"enter the value b = \"))\n",
    "       v = l*b*h\n",
    "       print(\"the volume =\",v)\n",
    "obj = Cal()\n",
    "h = int(input(\"enter height = \"))\n",
    "obj.vol(h)"
   ]
  },
  {
   "cell_type": "code",
   "execution_count": 22,
   "id": "2fe93e7f-3dad-45d4-9e03-7cebaaadd752",
   "metadata": {},
   "outputs": [
    {
     "name": "stdin",
     "output_type": "stream",
     "text": [
      "enter the value l =  67\n",
      "enter the value b =  77\n",
      "enter the value of h = 90\n"
     ]
    },
    {
     "name": "stdout",
     "output_type": "stream",
     "text": [
      "the volume = 464310\n"
     ]
    }
   ],
   "source": [
    "class Cal:\n",
    " def __init__(self):\n",
    "    self.l = int(input(\"enter the value l = \"))\n",
    "    self.b = int(input(\"enter the value b = \"))\n",
    "    self.h = int(input(\"enter the value of h =\")) \n",
    "    \n",
    " def vol(self):\n",
    "    \n",
    "       v = self.l*self.b*self.h\n",
    "       print(\"the volume =\",v)\n",
    "obj = Cal()\n",
    "obj.vol()"
   ]
  },
  {
   "cell_type": "code",
   "execution_count": 1,
   "id": "5907ee1a-6a3e-4ff1-8b38-89caf3edb2b7",
   "metadata": {},
   "outputs": [
    {
     "name": "stdin",
     "output_type": "stream",
     "text": [
      "name =  Pujya Ghimire\n",
      "age =  17\n",
      "address =  Mahalaxmi-9 (Lamatar , Lalitpur)\n"
     ]
    },
    {
     "name": "stdout",
     "output_type": "stream",
     "text": [
      "Pujya Ghimire Mahalaxmi-9 (Lamatar , Lalitpur)\n",
      "Hello world I am Pujya Ghimire . I am 17 years old , From Mahalaxmi-9 (Lamatar , Lalitpur)\n"
     ]
    }
   ],
   "source": [
    "class Info:\n",
    "    def __init__(self):\n",
    "        self.name = input(\"name = \")\n",
    "        self.age = int(input(\"age = \"))\n",
    "        self.add = input(\"address = \")\n",
    "    def data(self):\n",
    "        print(self.name,self.add)\n",
    "    def info(self):\n",
    "        print(f\"Hello world I am {self.name} . I am {self.age} years old , From {self.add}\")\n",
    "obj = Info()\n",
    "obj.data()\n",
    "obj.info()"
   ]
  },
  {
   "cell_type": "code",
   "execution_count": 7,
   "id": "efd30df7-0b34-4d99-816f-94b4613fbaef",
   "metadata": {},
   "outputs": [
    {
     "name": "stdin",
     "output_type": "stream",
     "text": [
      "name =  Narayan Gopal Shree Hari Parsad Junga Bahadur Rana Khaarel.\n",
      "age =  87\n",
      "address =  MAHALAXMI-9 (LAMATAR,LUBHOO,DHUGIN , LALITPUR, NEPAL)\n"
     ]
    },
    {
     "name": "stdout",
     "output_type": "stream",
     "text": [
      "Narayan Gopal Shree Hari Parsad Junga Bahadur Rana Khaarel. MAHALAXMI-9 (LAMATAR,LUBHOO,DHUGIN , LALITPUR, NEPAL)\n",
      "Hello world I am Narayan Gopal Shree Hari Parsad Junga Bahadur Rana Khaarel. . I am 87 years old , From MAHALAXMI-9 (LAMATAR,LUBHOO,DHUGIN , LALITPUR, NEPAL)\n"
     ]
    }
   ],
   "source": [
    "class Info:\n",
    "    def __init__(self,name,age,add):\n",
    "        self.n = name\n",
    "        self.a = age\n",
    "        self.ad = add\n",
    "    def data(self):\n",
    "        print(self.n,self.ad)\n",
    "    def info(self):\n",
    "        print(f\"Hello world I am {self.n} . I am {self.a} years old , From {self.ad}\")\n",
    "name = input(\"name = \")\n",
    "age = int(input(\"age = \"))\n",
    "add = input(\"address = \")\n",
    "\n",
    "obj = Info(name,age,add)\n",
    "obj.data()\n",
    "obj.info()"
   ]
  },
  {
   "cell_type": "code",
   "execution_count": null,
   "id": "d29f234c-db75-4739-bada-2f2907c63d50",
   "metadata": {},
   "outputs": [],
   "source": []
  }
 ],
 "metadata": {
  "kernelspec": {
   "display_name": "Python 3 (ipykernel)",
   "language": "python",
   "name": "python3"
  },
  "language_info": {
   "codemirror_mode": {
    "name": "ipython",
    "version": 3
   },
   "file_extension": ".py",
   "mimetype": "text/x-python",
   "name": "python",
   "nbconvert_exporter": "python",
   "pygments_lexer": "ipython3",
   "version": "3.11.7"
  }
 },
 "nbformat": 4,
 "nbformat_minor": 5
}
