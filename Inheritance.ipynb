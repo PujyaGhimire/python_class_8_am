{
 "cells": [
  {
   "cell_type": "code",
   "execution_count": 1,
   "id": "983e8104-e291-46ad-a724-4a819583bb06",
   "metadata": {},
   "outputs": [],
   "source": [
    "# class <class_name1>:\n",
    "#     <methods>\n",
    "\n",
    "# class <class_name2>(<class_name1):\n",
    "#     <methods>\n",
    "\n",
    "# obj = <class_name2>()"
   ]
  },
  {
   "cell_type": "code",
   "execution_count": 2,
   "id": "c9d1b87b-c949-46b0-a9d8-957194f8dcf3",
   "metadata": {},
   "outputs": [],
   "source": [
    "class A:   # parent class\n",
    "    pass\n",
    "class B(A):    # child class\n",
    "    pass\n",
    "obj = B()"
   ]
  },
  {
   "cell_type": "code",
   "execution_count": 3,
   "id": "1ef6f3a1-5ea6-4f93-a6cf-9095c6b856d9",
   "metadata": {},
   "outputs": [
    {
     "name": "stdout",
     "output_type": "stream",
     "text": [
      "Hello World I am ram . I am from kathmandu.I am 34 years old .\n",
      "ram 34 kathmandu\n"
     ]
    }
   ],
   "source": [
    "class Data:\n",
    "    def __init__(self):\n",
    "        self.name = \"ram\"\n",
    "        self.age = 34\n",
    "        self.add = \"kathmandu\"\n",
    "    def data(self):\n",
    "        print(self.name,self.age,self.add)\n",
    "\n",
    "class Info(Data):\n",
    "    def info(self):\n",
    "        print(f\"Hello World I am {self.name} . I am from {self.add}.I am {self.age} years old .\")\n",
    "obj = Info()\n",
    "obj.info()\n",
    "obj.data()\n",
    "        "
   ]
  },
  {
   "cell_type": "code",
   "execution_count": 4,
   "id": "8c2af6d1-6f73-4bf6-9c53-7bdaf6ea979c",
   "metadata": {},
   "outputs": [
    {
     "name": "stdout",
     "output_type": "stream",
     "text": [
      "ram 34 kathmandu\n",
      "Hello World I am ram . I am from kathmandu.I am 34 years old .\n"
     ]
    }
   ],
   "source": [
    "class Data:\n",
    "    def __init__(self):\n",
    "        self.name = \"ram\"\n",
    "        self.age = 34\n",
    "        self.add = \"kathmandu\"\n",
    "    def data(self):\n",
    "        print(self.name,self.age,self.add)\n",
    "\n",
    "class Info(Data):\n",
    "    def info(self):\n",
    "        print(f\"Hello World I am {self.name} . I am from {self.add}.I am {self.age} years old .\")\n",
    "obj = Info()\n",
    "obj.data()\n",
    "obj.info()\n",
    "        "
   ]
  },
  {
   "cell_type": "code",
   "execution_count": 7,
   "id": "aef558e4-00db-4b23-aad1-78012ea502d1",
   "metadata": {},
   "outputs": [
    {
     "name": "stdin",
     "output_type": "stream",
     "text": [
      "enter name = Pujya Ghimire\n",
      " enter age  =   17\n",
      " enter address =   Mahalaxmi-9\n"
     ]
    },
    {
     "name": "stdout",
     "output_type": "stream",
     "text": [
      "Hello World I am Pujya Ghimire . I am from Mahalaxmi-9.   I am 17 years old .\n",
      "Pujya Ghimire 17 Mahalaxmi-9\n"
     ]
    }
   ],
   "source": [
    "class Data:\n",
    "    def __init__(self,name,age,add):\n",
    "        self.name = name\n",
    "        self.age = age\n",
    "        self.add = add\n",
    "    def data(self):\n",
    "        print(self.name,self.age,self.add)\n",
    "\n",
    "class Info(Data):\n",
    "    def info(self):\n",
    "        print(f\"Hello World I am {self.name} . I am from {self.add}.   I am {self.age} years old .\")\n",
    "name = input(\"enter name =\")\n",
    "age = int(input(\" enter age  =  \"))\n",
    "add = input(\" enter address =  \")\n",
    "obj = Info(name,age,add)\n",
    "obj.info()\n",
    "obj.data()\n",
    "        "
   ]
  },
  {
   "cell_type": "code",
   "execution_count": 9,
   "id": "461739de-e5be-4e8a-bf26-236de28b9005",
   "metadata": {},
   "outputs": [
    {
     "name": "stdin",
     "output_type": "stream",
     "text": [
      "enter name = Ramesh Raj Rana \n",
      " enter age  =   100\n",
      " enter address =   Rani pokhara\n"
     ]
    },
    {
     "name": "stdout",
     "output_type": "stream",
     "text": [
      "Hello World I am Ramesh Raj Rana  . I am from Rani pokhara . I am 100 years old .\n",
      "Rani pokhara\n"
     ]
    }
   ],
   "source": [
    "class Data:\n",
    "    def __init__(self,add):\n",
    "        self.add = add\n",
    "        \n",
    "    def data(self):\n",
    "        print(self.add)\n",
    "\n",
    "class Info(Data):\n",
    "    def __init__(self,name,age,add):\n",
    "        self.name = name\n",
    "        self.age = age\n",
    "      \n",
    "        Data.__init__(self,add)\n",
    "   \n",
    "    def info(self):\n",
    "        print(f\"Hello World I am {self.name} . I am from {self.add} . I am {self.age} years old .\")\n",
    "name = input(\"enter name =\")\n",
    "age = int(input(\" enter age  =  \"))\n",
    "add = input(\" enter address =  \")\n",
    "obj = Info(name,age,add)\n",
    "obj.info()\n",
    "obj.data()\n",
    "        "
   ]
  },
  {
   "cell_type": "code",
   "execution_count": 11,
   "id": "61b22929-09b8-4c12-a099-ec0460358c5c",
   "metadata": {},
   "outputs": [],
   "source": [
    "# multilevel"
   ]
  },
  {
   "cell_type": "code",
   "execution_count": 15,
   "id": "141fea5c-7d15-46d9-aabe-c2cba33c281d",
   "metadata": {},
   "outputs": [],
   "source": [
    "# class A:\n",
    "#     pass  \n",
    "    \n",
    "# class B(A):\n",
    "#     pass\n",
    "\n",
    "\n",
    "# class C(A,B):\n",
    "#     pass \n",
    "\n",
    "\n",
    "# obj = C()"
   ]
  },
  {
   "cell_type": "code",
   "execution_count": 15,
   "id": "52060805-bb28-426b-a5ed-611a04b44eea",
   "metadata": {},
   "outputs": [],
   "source": [
    "# class A:\n",
    "#     pass  \n",
    "    \n",
    "# class B(A):\n",
    "#     pass\n",
    "\n",
    "\n",
    "# class C(A,B):\n",
    "#     pass \n",
    "\n",
    "\n",
    "# obj = C()"
   ]
  },
  {
   "cell_type": "code",
   "execution_count": 27,
   "id": "edd3389d-e67d-498f-94a1-47ab0d1dd551",
   "metadata": {},
   "outputs": [],
   "source": [
    "class A:\n",
    "    pass\n",
    "\n",
    "class B(A):\n",
    "    pass\n",
    "\n",
    "class C(B):\n",
    "    pass\n"
   ]
  },
  {
   "cell_type": "code",
   "execution_count": 26,
   "id": "740c8368-35d0-4ff3-ba95-5f0ffe0be73e",
   "metadata": {},
   "outputs": [
    {
     "name": "stdin",
     "output_type": "stream",
     "text": [
      "enter name = Jethalal Champak lal Gada\n",
      " enter age  =   43\n",
      " enter address =   Gokuldham society\n"
     ]
    },
    {
     "name": "stdout",
     "output_type": "stream",
     "text": [
      "Hello World I am Jethalal Champak lal Gada . I am from Gokuldham society . I am 43 years old .\n",
      "Gokuldham society\n",
      "43\n"
     ]
    }
   ],
   "source": [
    "class Age:\n",
    "    def __init__ (self,age):\n",
    "        self.age = age\n",
    "    def my_age(self):\n",
    "        print(self.age)\n",
    "class Data(Age):\n",
    "    \n",
    "    def __init__(self,age,add):\n",
    "        self.add = add\n",
    "        Age.__init__(self,age)\n",
    "        \n",
    "    def data(self):\n",
    "        print(self.add)\n",
    "\n",
    "class Info(Data):\n",
    "    def __init__(self,name,age,add):\n",
    "        self.name = name\n",
    "    \n",
    "      \n",
    "        Data.__init__(self,age,add)\n",
    "   \n",
    "    def info(self):\n",
    "        print(f\"Hello World I am {self.name} . I am from {self.add} . I am {self.age} years old .\")\n",
    "name = input(\"enter name =\")\n",
    "age = int(input(\" enter age  =  \"))\n",
    "add = input(\" enter address =  \")\n",
    "\n",
    "obj = Info(name,age,add)\n",
    "obj.info()\n",
    "obj.data()\n",
    "obj.my_age()       "
   ]
  },
  {
   "cell_type": "code",
   "execution_count": null,
   "id": "2ecc7239-f7f4-44d6-b0b5-686d743d6bbd",
   "metadata": {},
   "outputs": [],
   "source": []
  }
 ],
 "metadata": {
  "kernelspec": {
   "display_name": "Python 3 (ipykernel)",
   "language": "python",
   "name": "python3"
  },
  "language_info": {
   "codemirror_mode": {
    "name": "ipython",
    "version": 3
   },
   "file_extension": ".py",
   "mimetype": "text/x-python",
   "name": "python",
   "nbconvert_exporter": "python",
   "pygments_lexer": "ipython3",
   "version": "3.11.7"
  }
 },
 "nbformat": 4,
 "nbformat_minor": 5
}
