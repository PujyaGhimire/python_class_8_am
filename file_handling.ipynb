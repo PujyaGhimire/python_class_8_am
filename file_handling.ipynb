{
 "cells": [
  {
   "cell_type": "code",
   "execution_count": 1,
   "id": "99ced062-0799-4198-a2d5-90bd0110e893",
   "metadata": {},
   "outputs": [],
   "source": [
    "# file handing in python\n"
   ]
  },
  {
   "cell_type": "code",
   "execution_count": 2,
   "id": "2b5f6a41-be28-4348-93aa-af63ac61c3f0",
   "metadata": {},
   "outputs": [],
   "source": [
    "# file = open('<file_name>','mode')\n",
    "# with open('<file_name>','<mode>') as file:\n",
    "# <operations>"
   ]
  },
  {
   "cell_type": "code",
   "execution_count": 4,
   "id": "5076ce3a-5186-4391-be3d-bcd9e0c2126c",
   "metadata": {},
   "outputs": [],
   "source": [
    "# mode\n",
    "# r -> read\n",
    "# x -> create\n",
    "# w -> write\n",
    "# a -> append"
   ]
  },
  {
   "cell_type": "code",
   "execution_count": 5,
   "id": "958e45dc-c8de-425e-bf48-882fdfb67ed5",
   "metadata": {},
   "outputs": [],
   "source": [
    "# create file\n",
    "file = open('data.txt','x')\n",
    "file.close()"
   ]
  },
  {
   "cell_type": "code",
   "execution_count": 1,
   "id": "8eaf7cd4-093d-43e0-b821-27cd592f262e",
   "metadata": {},
   "outputs": [
    {
     "name": "stdout",
     "output_type": "stream",
     "text": [
      "1.hello wrold\n",
      "2.hello world\n",
      "3.hello world\n",
      "4.hello world\n",
      "5.hello world\n"
     ]
    }
   ],
   "source": [
    "# create file\n",
    "file = open('data.txt','r')\n",
    "content = file.read()\n",
    "print(content)\n",
    "file.close()"
   ]
  },
  {
   "cell_type": "code",
   "execution_count": 3,
   "id": "13888871-c6ba-4ee9-8515-e45630195537",
   "metadata": {},
   "outputs": [
    {
     "data": {
      "text/plain": [
       "['apple', 'ball', 'cat']"
      ]
     },
     "execution_count": 3,
     "metadata": {},
     "output_type": "execute_result"
    }
   ],
   "source": [
    "a = \"apple ball cat\"\n",
    "a.split()"
   ]
  },
  {
   "cell_type": "code",
   "execution_count": 5,
   "id": "75ae3a3a-26ec-4a70-99d6-4dacb4869f11",
   "metadata": {},
   "outputs": [
    {
     "data": {
      "text/plain": [
       "['apple', 'ball', 'cat']"
      ]
     },
     "execution_count": 5,
     "metadata": {},
     "output_type": "execute_result"
    }
   ],
   "source": [
    "a = \"apple_ball_cat\"\n",
    "a.split(\"_\")"
   ]
  },
  {
   "cell_type": "code",
   "execution_count": 6,
   "id": "0da23c24-513e-49ee-8776-0ac3c90864a0",
   "metadata": {},
   "outputs": [
    {
     "data": {
      "text/plain": [
       "'1.hello wrold\\n2.hello world\\n3.hello world\\n4.hello world\\n5.hello world'"
      ]
     },
     "execution_count": 6,
     "metadata": {},
     "output_type": "execute_result"
    }
   ],
   "source": [
    "content\n"
   ]
  },
  {
   "cell_type": "code",
   "execution_count": 8,
   "id": "41a2bc3d-a4a3-4346-8e5b-f2ce79a50668",
   "metadata": {},
   "outputs": [
    {
     "data": {
      "text/plain": [
       "['1.hello wrold',\n",
       " '2.hello world',\n",
       " '3.hello world',\n",
       " '4.hello world',\n",
       " '5.hello world']"
      ]
     },
     "execution_count": 8,
     "metadata": {},
     "output_type": "execute_result"
    }
   ],
   "source": [
    "content.split('\\n')"
   ]
  },
  {
   "cell_type": "code",
   "execution_count": 11,
   "id": "1badd190-9291-40ca-a821-6e1a01f713af",
   "metadata": {},
   "outputs": [
    {
     "data": {
      "text/plain": [
       "['1.hello wrold',\n",
       " '2.hello world',\n",
       " '3.hello world',\n",
       " '4.hello world',\n",
       " '5.hello world']"
      ]
     },
     "execution_count": 11,
     "metadata": {},
     "output_type": "execute_result"
    }
   ],
   "source": [
    "lines = content.split('\\n')\n",
    "lines"
   ]
  },
  {
   "cell_type": "code",
   "execution_count": 10,
   "id": "7b819d6a-629b-458c-becd-dc9225682aed",
   "metadata": {},
   "outputs": [
    {
     "name": "stdin",
     "output_type": "stream",
     "text": [
      "enter line no 1\n"
     ]
    },
    {
     "data": {
      "text/plain": [
       "'1.hello wrold'"
      ]
     },
     "execution_count": 10,
     "metadata": {},
     "output_type": "execute_result"
    }
   ],
   "source": [
    "lines = content.split('\\n')\n",
    "line_no = int(input(\"enter line no\"))\n",
    "lines[line_no-1]"
   ]
  },
  {
   "cell_type": "code",
   "execution_count": 12,
   "id": "50824423-fad0-4893-a521-c7688fad2ef5",
   "metadata": {},
   "outputs": [],
   "source": [
    "# write on file\n",
    "file = open('data1.txt','w')\n",
    "file.write('hello world')\n",
    "file.close()"
   ]
  },
  {
   "cell_type": "code",
   "execution_count": 27,
   "id": "0a114317-dce4-4646-9ae7-679509bbd6f6",
   "metadata": {},
   "outputs": [
    {
     "name": "stdin",
     "output_type": "stream",
     "text": [
      "enter the number of products in integer form =  2\n",
      "enter the name of that product =  apple\n",
      "enter the price of that product = 300\n",
      "enter the quantity in number = 4\n",
      "enter the name of that product =  banana\n",
      "enter the price of that product = 250\n",
      "enter the quantity in number = 1\n"
     ]
    },
    {
     "name": "stdout",
     "output_type": "stream",
     "text": [
      "********************** BILLING SYSTEM ************************\n",
      "  apple     300      4      1200\n",
      "  banana     250      1      250\n",
      "\n",
      "THE TOTAL COST TO THE TRANSACTION = 1450\n",
      "************** THANK YOU VISIT AGAIN **************\n"
     ]
    }
   ],
   "source": [
    "xyz =\"\"\n",
    "totalcost = 0\n",
    "n = int(input(\"enter the number of products in integer form = \"))\n",
    "for i in range(n):\n",
    "    name = input(\"enter the name of that product = \")\n",
    "    price = int(input(\"enter the price of that product =\"))\n",
    "    quantity = int(input(\"enter the quantity in number =\"))\n",
    "    total = (price*quantity)\n",
    "    totalcost = totalcost + total\n",
    "    xyz = xyz + f\"  {name}     {price}      {quantity}      {total}\\n\"\n",
    "print(\"********************** BILLING SYSTEM ************************\")\n",
    "print(xyz)\n",
    "print(\"THE TOTAL COST TO THE TRANSACTION =\",totalcost)\n",
    "print(\"************** THANK YOU VISIT AGAIN **************\")\n",
    "file = open('bill.txt','w')\n",
    "file.write(xyz)\n",
    "file.close()"
   ]
  },
  {
   "cell_type": "code",
   "execution_count": 28,
   "id": "f9e5aa6f-30a5-4c91-8236-a8741af838cd",
   "metadata": {},
   "outputs": [
    {
     "name": "stdout",
     "output_type": "stream",
     "text": [
      "  apple     300      4      1200\n",
      "  banana     250      1      250\n",
      "\n"
     ]
    }
   ],
   "source": [
    "file = open('bill.txt')\n",
    "content = file.read()\n",
    "print(content)\n",
    "file.close()"
   ]
  },
  {
   "cell_type": "code",
   "execution_count": 29,
   "id": "d25deba3-a91e-4ce2-a406-ce71e8f0849f",
   "metadata": {},
   "outputs": [
    {
     "data": {
      "text/plain": [
       "['  apple     300      4      1200', '  banana     250      1      250', '']"
      ]
     },
     "execution_count": 29,
     "metadata": {},
     "output_type": "execute_result"
    }
   ],
   "source": [
    "data = content.split('\\n')\n",
    "data"
   ]
  },
  {
   "cell_type": "code",
   "execution_count": 30,
   "id": "58f67752-7150-4baa-8cb7-b882471ff182",
   "metadata": {},
   "outputs": [
    {
     "data": {
      "text/plain": [
       "['  apple     300      4      1200', '  banana     250      1      250']"
      ]
     },
     "execution_count": 30,
     "metadata": {},
     "output_type": "execute_result"
    }
   ],
   "source": [
    "data = content.split('\\n')[:-1]\n",
    "data"
   ]
  },
  {
   "cell_type": "code",
   "execution_count": 23,
   "id": "0d95fd97-f69d-486b-a5ef-f61a8837d614",
   "metadata": {},
   "outputs": [
    {
     "name": "stdout",
     "output_type": "stream",
     "text": [
      "['banana', '400.0', '5.0', '2000.0']\n",
      "['apple', '560.0', '7.0', '3920.0']\n",
      "['old', 'durbar', '11000.0', '5.0', '55000.0']\n"
     ]
    }
   ],
   "source": [
    "for i in data:\n",
    "    print(i.split())"
   ]
  },
  {
   "cell_type": "code",
   "execution_count": 31,
   "id": "83e9fe8c-d66a-49dd-ae46-1d553fb554ec",
   "metadata": {},
   "outputs": [
    {
     "data": {
      "text/plain": [
       "[['apple', 300, 4, 1200], ['banana', 250, 1, 250]]"
      ]
     },
     "execution_count": 31,
     "metadata": {},
     "output_type": "execute_result"
    }
   ],
   "source": [
    "list_bill = []\n",
    "for i in data:\n",
    "    x = i.split()\n",
    "    x[1] = int(x[1])\n",
    "    x[2] = int(x[2])\n",
    "    x[3] = int(x[3])\n",
    "    list_bill.append(x)\n",
    "list_bill\n",
    "    "
   ]
  },
  {
   "cell_type": "code",
   "execution_count": 34,
   "id": "a0690c75-ee99-4ddb-8f9d-ed204a2bc6ca",
   "metadata": {},
   "outputs": [],
   "source": [
    "del list_bill[1]"
   ]
  },
  {
   "cell_type": "code",
   "execution_count": 35,
   "id": "f14e3188-dd5c-4cf6-97e4-a1df1d12b600",
   "metadata": {},
   "outputs": [],
   "source": [
    "import csv        # csv bhanney package use garara object banako\n",
    "file = open('bill1.txt','w')\n",
    "x = csv.writer(file)\n",
    "x.writerows(list_bill) # maathi ko rows lai write gar bhanya\n",
    "file.close()"
   ]
  },
  {
   "cell_type": "code",
   "execution_count": 36,
   "id": "50e9a311-c764-46d3-841d-8b24243313ce",
   "metadata": {},
   "outputs": [],
   "source": [
    "# append mode in file"
   ]
  },
  {
   "cell_type": "code",
   "execution_count": 37,
   "id": "7b686a60-6054-4882-ab1b-00f10efac8da",
   "metadata": {},
   "outputs": [],
   "source": [
    "file = open('append_bill.txt','a')\n"
   ]
  },
  {
   "cell_type": "code",
   "execution_count": 47,
   "id": "2a207368-7804-40f5-a83a-917745350a84",
   "metadata": {},
   "outputs": [
    {
     "name": "stdin",
     "output_type": "stream",
     "text": [
      "enter the value of n= 2\n",
      "enter name= ram\n",
      "enter age =  34\n",
      "address =  ktm\n",
      "enter name= shyam\n",
      "enter age =  54\n",
      "address =  bkt\n"
     ]
    }
   ],
   "source": [
    "file = open('append_bill.txt','a')\n",
    "info = str()\n",
    "n  =  int(input(\"enter the value of n=\"))\n",
    "for i in range(n):\n",
    "    name = input(\"enter name=\")\n",
    "    age = int(input(\"enter age = \"))\n",
    "    add = input(\"address = \")\n",
    "    info = info + f\"{name} {age} {add}\\n\"\n",
    "file.write(info)\n",
    "file.close()"
   ]
  },
  {
   "cell_type": "code",
   "execution_count": null,
   "id": "91470206-1907-4e87-96ed-9257b5505df7",
   "metadata": {},
   "outputs": [],
   "source": []
  }
 ],
 "metadata": {
  "kernelspec": {
   "display_name": "Python 3 (ipykernel)",
   "language": "python",
   "name": "python3"
  },
  "language_info": {
   "codemirror_mode": {
    "name": "ipython",
    "version": 3
   },
   "file_extension": ".py",
   "mimetype": "text/x-python",
   "name": "python",
   "nbconvert_exporter": "python",
   "pygments_lexer": "ipython3",
   "version": "3.11.7"
  }
 },
 "nbformat": 4,
 "nbformat_minor": 5
}
