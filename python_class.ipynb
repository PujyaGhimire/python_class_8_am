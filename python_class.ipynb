{
 "cells": [
  {
   "cell_type": "code",
   "execution_count": 10,
   "id": "6ea34947-fc56-43bf-be61-a6c4c0df49dc",
   "metadata": {},
   "outputs": [
    {
     "name": "stdout",
     "output_type": "stream",
     "text": [
      "277777\n"
     ]
    }
   ],
   "source": [
    "a = 555555\n",
    "b = 2\n",
    "print(a//b)"
   ]
  },
  {
   "cell_type": "code",
   "execution_count": 11,
   "id": "bbb4fd3e-13c5-4fa2-8bf9-a142512a80d5",
   "metadata": {},
   "outputs": [],
   "source": [
    "a = 36"
   ]
  },
  {
   "cell_type": "code",
   "execution_count": 15,
   "id": "3f479c80-6f1b-4b73-bf83-5a51a0557b5a",
   "metadata": {},
   "outputs": [
    {
     "name": "stdout",
     "output_type": "stream",
     "text": [
      "8\n"
     ]
    }
   ],
   "source": [
    "a = 35 \n",
    "b = a%3\n",
    "c = b**3\n",
    "print(c)"
   ]
  },
  {
   "cell_type": "code",
   "execution_count": 16,
   "id": "d539433d-ab4d-4416-bafa-8edec3d55e0d",
   "metadata": {},
   "outputs": [
    {
     "name": "stdin",
     "output_type": "stream",
     "text": [
      " 2332233 heee\n"
     ]
    },
    {
     "name": "stdout",
     "output_type": "stream",
     "text": [
      "2332233 heee\n"
     ]
    }
   ],
   "source": [
    " a = input()\n",
    "print(a)"
   ]
  },
  {
   "cell_type": "code",
   "execution_count": 18,
   "id": "58eaf2c1-7d4c-49e3-a07b-93448617d7cd",
   "metadata": {},
   "outputs": [
    {
     "name": "stdin",
     "output_type": "stream",
     "text": [
      "enter the value = 66\n"
     ]
    },
    {
     "name": "stdout",
     "output_type": "stream",
     "text": [
      "66\n"
     ]
    }
   ],
   "source": [
    "a = input(\"enter the value =\")\n",
    "print(a)"
   ]
  },
  {
   "cell_type": "code",
   "execution_count": 22,
   "id": "e2bcdbb9-7b5a-4eac-8215-d6b2664a96af",
   "metadata": {},
   "outputs": [
    {
     "name": "stdin",
     "output_type": "stream",
     "text": [
      "enter value = 1\n",
      "enter value= 1\n"
     ]
    },
    {
     "name": "stdout",
     "output_type": "stream",
     "text": [
      "2\n"
     ]
    }
   ],
   "source": [
    "a = int(input(\"enter value =\"))\n",
    "b = int(input(\"enter value=\"))\n",
    "c=a+b\n",
    "print(c)"
   ]
  },
  {
   "cell_type": "code",
   "execution_count": 23,
   "id": "0352b0da-c217-490e-bb55-b91d98b1846d",
   "metadata": {},
   "outputs": [
    {
     "name": "stdin",
     "output_type": "stream",
     "text": [
      "enter principal= 100000\n",
      "enter rate of intrest = 10\n",
      " enter time =  3\n"
     ]
    },
    {
     "name": "stdout",
     "output_type": "stream",
     "text": [
      "30000.0\n"
     ]
    }
   ],
   "source": [
    "p = int(input(\"enter principal=\"))\n",
    "t = int(input(\"enter rate of intrest =\"))\n",
    "r = int(input(\" enter time = \"))\n",
    "si = (p*t*r)/100\n",
    "print(si)"
   ]
  },
  {
   "cell_type": "code",
   "execution_count": 25,
   "id": "c309ca72-704d-4456-9b8b-a35459b2e3fe",
   "metadata": {},
   "outputs": [
    {
     "name": "stdin",
     "output_type": "stream",
     "text": [
      "enter length = 20\n",
      "enter breadth = 30\n",
      "enter the height of the room= 53\n"
     ]
    },
    {
     "name": "stdout",
     "output_type": "stream",
     "text": [
      "5300\n"
     ]
    }
   ],
   "source": [
    "l = int(input(\"enter length =\"))\n",
    "b = int(input(\"enter breadth =\"))\n",
    "h = int(input(\"enter the height of the room=\"))\n",
    "a = 2*h*(l+b)\n",
    "print(a)"
   ]
  },
  {
   "cell_type": "code",
   "execution_count": 26,
   "id": "d4b82800-a505-4502-a1b8-4323496aad72",
   "metadata": {},
   "outputs": [
    {
     "name": "stdin",
     "output_type": "stream",
     "text": [
      "enter length = 30500.55555\n",
      "enter breadth = 23224.42422\n",
      "enter the height of the room= 12311.34545\n"
     ]
    },
    {
     "name": "stdout",
     "output_type": "stream",
     "text": [
      "1322853570.4854634\n"
     ]
    }
   ],
   "source": [
    "l = float(input(\"enter length =\"))\n",
    "b = float(input(\"enter breadth =\"))\n",
    "h = float(input(\"enter the height of the room=\"))\n",
    "a = 2*h*(l+b)\n",
    "print(a)"
   ]
  },
  {
   "cell_type": "code",
   "execution_count": 29,
   "id": "490f82c6-0af2-486d-9d59-59be7e7d65f8",
   "metadata": {},
   "outputs": [
    {
     "name": "stdout",
     "output_type": "stream",
     "text": [
      "To calculate the area of four walls,follow the given instruction \n"
     ]
    },
    {
     "name": "stdin",
     "output_type": "stream",
     "text": [
      "enter length = 2323\n",
      "enter breadth = 2323\n",
      "enter the height of the room= 3232\n"
     ]
    },
    {
     "name": "stdout",
     "output_type": "stream",
     "text": [
      "30031744\n"
     ]
    }
   ],
   "source": [
    "print(\"To calculate the area of four walls,follow the given instruction \")\n",
    "l = int(input(\"enter length =\"))\n",
    "b = int(input(\"enter breadth =\"))\n",
    "h = int(input(\"enter the height of the room=\"))\n",
    "a = 2*h*(l+b)\n",
    "print(a)"
   ]
  },
  {
   "cell_type": "code",
   "execution_count": 30,
   "id": "890e792d-de3b-4ec0-a889-8842312b2492",
   "metadata": {},
   "outputs": [
    {
     "ename": "SyntaxError",
     "evalue": "invalid syntax (102996293.py, line 1)",
     "output_type": "error",
     "traceback": [
      "\u001b[1;36m  Cell \u001b[1;32mIn[30], line 1\u001b[1;36m\u001b[0m\n\u001b[1;33m    Wap to take subject marks from user and find total and percentage\u001b[0m\n\u001b[1;37m        ^\u001b[0m\n\u001b[1;31mSyntaxError\u001b[0m\u001b[1;31m:\u001b[0m invalid syntax\n"
     ]
    }
   ],
   "source": [
    "Wap to take subject marks from user and find total and percentage\n",
    "\n"
   ]
  },
  {
   "cell_type": "code",
   "execution_count": 2,
   "id": "aa3dbe42-b3a2-4ee0-8594-2a50cd3ebb0e",
   "metadata": {},
   "outputs": [
    {
     "name": "stdout",
     "output_type": "stream",
     "text": [
      "To calculate the total marks and percentage in seven different subjects\n"
     ]
    },
    {
     "name": "stdin",
     "output_type": "stream",
     "text": [
      "enter the marks in english = 93\n",
      "enter the marks in nepali = 83\n",
      "enter the marks in maths = 99\n",
      "enter the marks in science = 100\n",
      "enter the marks in social = 82\n",
      "enter the marks in optional I = 100\n",
      "enter the marks in optional II = 88\n"
     ]
    },
    {
     "name": "stdout",
     "output_type": "stream",
     "text": [
      "Your total marks is = 645\n",
      "The total percentage is =  92.14285714285714\n"
     ]
    }
   ],
   "source": [
    "print(\"To calculate the total marks and percentage in seven different subjects\")\n",
    "a = int(input(\"enter the marks in english =\"))\n",
    "b = int(input(\"enter the marks in nepali =\"))\n",
    "c = int(input(\"enter the marks in maths =\"))\n",
    "d = int(input(\"enter the marks in science =\"))\n",
    "e = int(input(\"enter the marks in social =\"))\n",
    "f = int(input(\"enter the marks in optional I =\"))\n",
    "g = int(input(\"enter the marks in optional II =\"))\n",
    "tm = (a+b+c+d+e+f+g)\n",
    "p = tm/7\n",
    "print(\"Your total marks is =\",tm)\n",
    "print(\"The total percentage is = \",p)\n"
   ]
  },
  {
   "cell_type": "code",
   "execution_count": 1,
   "id": "ffcbe447-6a98-4cdd-9651-b22888e64dc4",
   "metadata": {},
   "outputs": [
    {
     "name": "stdout",
     "output_type": "stream",
     "text": [
      "hello world hee\n"
     ]
    }
   ],
   "source": [
    "a = \"hello world \"\n",
    "b = \"hee\"\n",
    "c = a+b\n",
    "print(c)\n"
   ]
  },
  {
   "cell_type": "code",
   "execution_count": 3,
   "id": "91385e8c-b8f5-4287-b39e-c8de507f7c6a",
   "metadata": {},
   "outputs": [
    {
     "name": "stdout",
     "output_type": "stream",
     "text": [
      " heyyyyy\n",
      " html \n"
     ]
    }
   ],
   "source": [
    "a = \" heyyyyy\\n\"\n",
    "b = \" html \"\n",
    "c = a+b\n",
    "print(c)"
   ]
  },
  {
   "cell_type": "code",
   "execution_count": 4,
   "id": "3343fd10-b4c4-4a2d-ab1a-2c02e13e51d5",
   "metadata": {},
   "outputs": [
    {
     "name": "stdout",
     "output_type": "stream",
     "text": [
      " tree  tree \n"
     ]
    }
   ],
   "source": [
    "a = \" tree \"\n",
    "b = a*2\n",
    "print(b)"
   ]
  },
  {
   "cell_type": "code",
   "execution_count": 13,
   "id": "6755730d-fdf6-4cee-b586-d6a52c54608b",
   "metadata": {},
   "outputs": [
    {
     "name": "stdin",
     "output_type": "stream",
     "text": [
      " name      h\n",
      " age      4\n",
      "  address     w\n"
     ]
    },
    {
     "name": "stdout",
     "output_type": "stream",
     "text": [
      " hello hw4\n"
     ]
    }
   ],
   "source": [
    "name = input(\" name     \")\n",
    "age = int(input(\" age     \"))\n",
    "add = input(\"  address    \")\n",
    "info = \" hello \" + name + add + str(age)\n",
    "print(info)"
   ]
  },
  {
   "cell_type": "code",
   "execution_count": 14,
   "id": "1d1cfe85-c1a7-43ab-9989-04c94ae4fe57",
   "metadata": {},
   "outputs": [
    {
     "name": "stdin",
     "output_type": "stream",
     "text": [
      "name w\n",
      "age 33\n",
      " address qwqwq\n"
     ]
    },
    {
     "name": "stdout",
     "output_type": "stream",
     "text": [
      "hi world \n",
      "33w\n"
     ]
    }
   ],
   "source": [
    "n = input(\"name\")\n",
    "age = int(input(\"age\"))\n",
    "ad = input(\" address\")\n",
    "info = \"hi world \\n\" + str(age) + add\n",
    "print(info)"
   ]
  },
  {
   "cell_type": "code",
   "execution_count": 15,
   "id": "f53cbef7-5cf9-4bb8-a082-f685430ef506",
   "metadata": {},
   "outputs": [
    {
     "name": "stdout",
     "output_type": "stream",
     "text": [
      "1\n"
     ]
    }
   ],
   "source": [
    "a = True\n",
    "b = False\n",
    "c = a+b\n",
    "print(c)"
   ]
  },
  {
   "cell_type": "code",
   "execution_count": 16,
   "id": "db90d4b2-333a-4e38-a5fe-ae0e93d6375e",
   "metadata": {},
   "outputs": [
    {
     "name": "stdout",
     "output_type": "stream",
     "text": [
      "2\n"
     ]
    }
   ],
   "source": [
    "a = True\n",
    "b = True\n",
    "c = a+b\n",
    "print(c)"
   ]
  },
  {
   "cell_type": "code",
   "execution_count": 17,
   "id": "971be486-3b86-44a3-bfc0-851e6a7015f3",
   "metadata": {},
   "outputs": [
    {
     "name": "stdout",
     "output_type": "stream",
     "text": [
      "True\n"
     ]
    }
   ],
   "source": [
    "a = True\n",
    "b = False\n",
    "c = bool(a+b)\n",
    "print(c)"
   ]
  },
  {
   "cell_type": "code",
   "execution_count": 19,
   "id": "0e80c429-3c7c-4f81-9ba0-8f8dd67b6d2f",
   "metadata": {},
   "outputs": [
    {
     "name": "stdout",
     "output_type": "stream",
     "text": [
      "False\n"
     ]
    }
   ],
   "source": [
    "a = False\n",
    "b = False\n",
    "c = bool(a+b)\n",
    "print(c)"
   ]
  },
  {
   "cell_type": "code",
   "execution_count": 22,
   "id": "7aeafc97-2182-4f83-9426-a96063481c8e",
   "metadata": {},
   "outputs": [
    {
     "name": "stdout",
     "output_type": "stream",
     "text": [
      "False\n"
     ]
    }
   ],
   "source": [
    "a = True\n",
    "b = False\n",
    "c = bool(a*b)\n",
    "print(c)"
   ]
  },
  {
   "cell_type": "code",
   "execution_count": null,
   "id": "75314951-2e7a-441a-83b4-ab6b0c6cc625",
   "metadata": {},
   "outputs": [],
   "source": []
  }
 ],
 "metadata": {
  "kernelspec": {
   "display_name": "Python 3 (ipykernel)",
   "language": "python",
   "name": "python3"
  },
  "language_info": {
   "codemirror_mode": {
    "name": "ipython",
    "version": 3
   },
   "file_extension": ".py",
   "mimetype": "text/x-python",
   "name": "python",
   "nbconvert_exporter": "python",
   "pygments_lexer": "ipython3",
   "version": "3.11.7"
  }
 },
 "nbformat": 4,
 "nbformat_minor": 5
}
