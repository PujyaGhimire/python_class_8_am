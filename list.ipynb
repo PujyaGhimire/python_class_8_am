{
 "cells": [
  {
   "cell_type": "code",
   "execution_count": 1,
   "id": "a0b60313-0623-4515-a28b-a057673bb7b1",
   "metadata": {},
   "outputs": [],
   "source": [
    "#  python collection"
   ]
  },
  {
   "cell_type": "code",
   "execution_count": 2,
   "id": "fc885ed6-6596-4d12-9713-1e0caf160400",
   "metadata": {},
   "outputs": [],
   "source": [
    "# list\n",
    "# tuple\n",
    "# dict\n",
    "# set"
   ]
  },
  {
   "cell_type": "code",
   "execution_count": 3,
   "id": "ea95e149-e993-44de-b8b5-bc9dc5719fcc",
   "metadata": {},
   "outputs": [],
   "source": [
    "# list \n",
    "# multiple and duplicate data\n",
    "# indexing\n",
    "# ordered datatype ( jasto value define garyo tei print huney) \n",
    "# mutable data\n"
   ]
  },
  {
   "cell_type": "code",
   "execution_count": 4,
   "id": "6c2a1639-8043-4ed2-81da-5d9130ebcc2c",
   "metadata": {},
   "outputs": [],
   "source": [
    "a = list()"
   ]
  },
  {
   "cell_type": "code",
   "execution_count": 5,
   "id": "7782414c-2bdf-4761-b872-5f0648263ae7",
   "metadata": {},
   "outputs": [],
   "source": [
    "# a = list()\n",
    "# b = [ ] "
   ]
  },
  {
   "cell_type": "code",
   "execution_count": 6,
   "id": "eadeb44e-66fe-40bb-8d15-4386bf2ecfae",
   "metadata": {},
   "outputs": [
    {
     "name": "stdout",
     "output_type": "stream",
     "text": [
      "<class 'list'>\n",
      "<class 'list'>\n"
     ]
    }
   ],
   "source": [
    "a = [ \"apple\",\"ball\",\"cat\",\"doremon\"]\n",
    "b = [ 0,1,2,3,4,5,6,7,8,9 ]\n",
    "print(type(a))\n",
    "print(type(b))"
   ]
  },
  {
   "cell_type": "code",
   "execution_count": 13,
   "id": "c7c913ec-9ceb-4d11-bc2c-a8c96d84122d",
   "metadata": {},
   "outputs": [
    {
     "name": "stdout",
     "output_type": "stream",
     "text": [
      "['apple', 'ball', 'cat', 'doremon']\n",
      "apple\n",
      "['apple', 'cat']\n"
     ]
    }
   ],
   "source": [
    "a = [\"apple\",\"ball\",\"cat\",\"doremon\"]\n",
    "print(a)\n",
    "print(a[0])\n",
    "print(a[0:5:2])"
   ]
  },
  {
   "cell_type": "code",
   "execution_count": 1,
   "id": "980f9e4c-e7b0-42b9-8340-66746b051cee",
   "metadata": {},
   "outputs": [
    {
     "name": "stdout",
     "output_type": "stream",
     "text": [
      "[1, 2, 3, 4, 5, 6, 7, 'ramu', 'ramu ko budi']\n"
     ]
    }
   ],
   "source": [
    "a = [ 1,2,3,4,5,6,7] # concatenation\n",
    "b = [\"ramu\",\"ramu ko budi\"]\n",
    "c = a+b\n",
    "print(c)"
   ]
  },
  {
   "cell_type": "code",
   "execution_count": 15,
   "id": "fd925eae-cd8e-4b52-92c4-ce1661616c04",
   "metadata": {},
   "outputs": [
    {
     "name": "stdout",
     "output_type": "stream",
     "text": [
      "[1, 2, 3, 4, 5, 6, 77, 5, 1, 2, 3, 4, 5, 6, 77, 5]\n"
     ]
    }
   ],
   "source": [
    "a = [1,2,3,4,5,6,77,5] # enlarge\n",
    "print(a*2)"
   ]
  },
  {
   "cell_type": "code",
   "execution_count": 16,
   "id": "05de1c9c-08d5-455d-b6cf-10a0a060c275",
   "metadata": {},
   "outputs": [],
   "source": [
    "# append() insert() extend()"
   ]
  },
  {
   "cell_type": "code",
   "execution_count": 3,
   "id": "cc0f1be0-d644-4800-a94b-9c4a1329aadc",
   "metadata": {},
   "outputs": [
    {
     "name": "stdout",
     "output_type": "stream",
     "text": [
      "['apple', 'ball']\n"
     ]
    }
   ],
   "source": [
    "a =list() # append (multiple value rakhney)\n",
    "a.append(\"apple\")\n",
    "a.append(\"ball\")\n",
    "print(a)"
   ]
  },
  {
   "cell_type": "code",
   "execution_count": 1,
   "id": "7be44192-4bc9-49f8-aa5c-ad4c57bda576",
   "metadata": {},
   "outputs": [
    {
     "name": "stdin",
     "output_type": "stream",
     "text": [
      "enter the value of n = 3\n",
      "enter x= 23\n",
      "enter x= 11\n",
      "enter x= 45\n"
     ]
    },
    {
     "name": "stdout",
     "output_type": "stream",
     "text": [
      "[23, 11, 45]\n"
     ]
    }
   ],
   "source": [
    "l =[]\n",
    "n = int(input(\"enter the value of n =\"))\n",
    "for i in range(n):\n",
    "    x = int(input(\"enter x=\"))\n",
    "    l.append(x)\n",
    "print(l)"
   ]
  },
  {
   "cell_type": "code",
   "execution_count": 4,
   "id": "a7719f1a-ede8-437b-87a7-57c0fc4e064a",
   "metadata": {},
   "outputs": [
    {
     "name": "stdout",
     "output_type": "stream",
     "text": [
      "minimum value =  11\n",
      "maximum value =  45\n",
      "sum =  79\n",
      "[11, 23, 45]\n"
     ]
    }
   ],
   "source": [
    "print(\"minimum value = \" ,min(l))\n",
    "print(\"maximum value = \" ,max(l))\n",
    "print(\"sum = \",sum(l))\n",
    "l.sort()\n",
    "print(l) # print(l.sort()) mildaina"
   ]
  },
  {
   "cell_type": "code",
   "execution_count": 5,
   "id": "a18fcc0b-e64d-4944-9359-7a16d39a4731",
   "metadata": {},
   "outputs": [
    {
     "name": "stdout",
     "output_type": "stream",
     "text": [
      "minimum value =  11\n",
      "maximum value =  45\n",
      "sum =  79\n",
      "[45, 23, 11]\n"
     ]
    }
   ],
   "source": [
    "print(\"minimum value = \" ,min(l))\n",
    "print(\"maximum value = \" ,max(l))\n",
    "print(\"sum = \",sum(l))\n",
    "l.reverse()\n",
    "print(l)"
   ]
  },
  {
   "cell_type": "code",
   "execution_count": 28,
   "id": "36dc5750-f82d-49a6-b795-884f1babe20a",
   "metadata": {},
   "outputs": [
    {
     "name": "stdin",
     "output_type": "stream",
     "text": [
      "enter n =  2\n",
      "enter x= append\n",
      "enter x= extend\n"
     ]
    },
    {
     "name": "stdout",
     "output_type": "stream",
     "text": [
      "['append', 'extend']\n"
     ]
    }
   ],
   "source": [
    "l =[]\n",
    "n = int(input(\"enter n = \"))\n",
    "for i in range(n):\n",
    "        x = input(\"enter x=\")\n",
    "        l.append(x)\n",
    "print(l)\n"
   ]
  },
  {
   "cell_type": "code",
   "execution_count": 4,
   "id": "646aa5a2-ff37-47ca-825b-c3391b4e1dd3",
   "metadata": {},
   "outputs": [
    {
     "name": "stdout",
     "output_type": "stream",
     "text": [
      "['apple', 'ball']\n"
     ]
    }
   ],
   "source": [
    "l.sort()\n",
    "print(l)"
   ]
  },
  {
   "cell_type": "code",
   "execution_count": 1,
   "id": "1c09e723-eafd-47ad-942e-63ae16de2bb2",
   "metadata": {},
   "outputs": [
    {
     "name": "stdout",
     "output_type": "stream",
     "text": [
      "['gita', 'hari', 'shyam', 'krishna', 1, 2, 3, 4, 5]\n"
     ]
    }
   ],
   "source": [
    "a = ['gita','hari','shyam','krishna']\n",
    "b = [1,2,3,4,5]\n",
    "a.extend(b)\n",
    "print(a)"
   ]
  },
  {
   "cell_type": "code",
   "execution_count": 2,
   "id": "0a0377c4-fd39-4b98-984c-e1c207ae9d11",
   "metadata": {},
   "outputs": [
    {
     "data": {
      "text/plain": [
       "['gita', 'harry', 'hari', 'shyam', 'krishna']"
      ]
     },
     "execution_count": 2,
     "metadata": {},
     "output_type": "execute_result"
    }
   ],
   "source": [
    "a = ['gita','hari','shyam','krishna']\n",
    "a.insert(1,'harry')\n",
    "a"
   ]
  },
  {
   "cell_type": "code",
   "execution_count": 5,
   "id": "1818d9ad-4e2e-49b6-b16e-f873660e68f2",
   "metadata": {},
   "outputs": [
    {
     "data": {
      "text/plain": [
       "['nira', 'hari', 'shyam', 'krishna', 'nita', 'apple']"
      ]
     },
     "execution_count": 5,
     "metadata": {},
     "output_type": "execute_result"
    }
   ],
   "source": [
    "# update\n",
    "a = ['gita','hari','shyam','krishna','nita','apple']\n",
    "a[0] = 'nira'\n",
    "a"
   ]
  },
  {
   "cell_type": "code",
   "execution_count": 6,
   "id": "a9dcfde9-4676-43ca-9bc6-d538e1f0708b",
   "metadata": {},
   "outputs": [
    {
     "name": "stdout",
     "output_type": "stream",
     "text": [
      "['jack', 'jone', 'shyam', 'krishna', 'nita', 'apple']\n"
     ]
    }
   ],
   "source": [
    "a = ['gita','hari','shyam','krishna','nita','apple']\n",
    "a[0:2] = ['jack','jone']\n",
    "print(a)"
   ]
  },
  {
   "cell_type": "code",
   "execution_count": 9,
   "id": "6a8478e8-0f8f-4e67-b251-929fafdb7441",
   "metadata": {},
   "outputs": [
    {
     "name": "stdout",
     "output_type": "stream",
     "text": [
      "['steve', 'bill', 'hari', 'shyam', 'krishna', 'nita', 'apple']\n"
     ]
    }
   ],
   "source": [
    "# insert multiple value inside certain index\n",
    "a = ['gita','hari','shyam','krishna','nita','apple']\n",
    "a[0:1] = ['steve','bill']\n",
    "print(a)"
   ]
  },
  {
   "cell_type": "code",
   "execution_count": 10,
   "id": "eecf820f-5887-4c3c-8037-a2a5f7958004",
   "metadata": {},
   "outputs": [
    {
     "name": "stdout",
     "output_type": "stream",
     "text": [
      "['steve', 'bill', 'gita', 'hari', 'shyam', 'krishna', 'nita', 'apple']\n"
     ]
    }
   ],
   "source": [
    "a = ['gita','hari','shyam','krishna','nita','apple']\n",
    "a[0:0] = ['steve','bill']\n",
    "print(a)"
   ]
  },
  {
   "cell_type": "code",
   "execution_count": 11,
   "id": "9ff5bb5c-b476-4342-928e-73b247dd3db1",
   "metadata": {},
   "outputs": [
    {
     "name": "stdout",
     "output_type": "stream",
     "text": [
      "['gita', 'steve', 'bill', 'hari', 'shyam', 'krishna', 'nita', 'apple']\n"
     ]
    }
   ],
   "source": [
    "a = ['gita','hari','shyam','krishna','nita','apple']\n",
    "a[1:1] = ['steve','bill'] # aagadi ra paxadi same index aayo bhane add farak bhayo bhane change\n",
    "print(a)"
   ]
  },
  {
   "cell_type": "code",
   "execution_count": 13,
   "id": "ebb6638e-d259-4f3f-908f-3e477e38455f",
   "metadata": {},
   "outputs": [
    {
     "name": "stdout",
     "output_type": "stream",
     "text": [
      "['hari', 'shyam', 'krishna', 'nita', 'apple']\n"
     ]
    }
   ],
   "source": [
    "# for delete del remove() pop()\n",
    "a = ['gita','hari','shyam','krishna','nita','apple']\n",
    "del a[0]\n",
    "print(a)"
   ]
  },
  {
   "cell_type": "code",
   "execution_count": 4,
   "id": "00533849-a70c-4c26-8eb3-5f1e719f5f63",
   "metadata": {},
   "outputs": [
    {
     "name": "stdout",
     "output_type": "stream",
     "text": [
      "['hari', 'krishna', 'nita', 'apple']\n"
     ]
    }
   ],
   "source": [
    "a = ['gita','hari','shyam','krishna','nita','apple']\n",
    "del a[0:3:2]\n",
    "print(a)"
   ]
  },
  {
   "cell_type": "code",
   "execution_count": 18,
   "id": "34a590e6-3de6-4dd6-b5a4-96979c1705b3",
   "metadata": {},
   "outputs": [
    {
     "name": "stdout",
     "output_type": "stream",
     "text": [
      "['gita', 'hari', 'shyam', 'apple']\n"
     ]
    }
   ],
   "source": [
    "a = ['gita','hari','shyam','krishna','nita','apple']\n",
    "del a[3:5]\n",
    "print(a)"
   ]
  },
  {
   "cell_type": "code",
   "execution_count": 6,
   "id": "41493a69-da81-4409-9b48-79fa7193c313",
   "metadata": {},
   "outputs": [
    {
     "name": "stdout",
     "output_type": "stream",
     "text": [
      "['gita', 'shyam', 'krishna', 'nita', 'apple']\n"
     ]
    }
   ],
   "source": [
    "#  remove()\n",
    "a = ['gita','hari','shyam','krishna','nita','apple']\n",
    "a.remove(\"hari\")\n",
    "print(a)"
   ]
  },
  {
   "cell_type": "code",
   "execution_count": 20,
   "id": "41af79a9-b306-460c-a0b5-71e1a06bf48d",
   "metadata": {},
   "outputs": [
    {
     "name": "stdout",
     "output_type": "stream",
     "text": [
      "['gita', 'hari', 'shyam', 'krishna', 'nita']\n"
     ]
    }
   ],
   "source": [
    "a = ['gita','hari','shyam','krishna','nita','apple'] # empty rakhyo bhane last ko value janxa\n",
    "a.pop()\n",
    "print(a)"
   ]
  },
  {
   "cell_type": "code",
   "execution_count": 21,
   "id": "c9b2ac5a-2e23-49cf-a18c-2be8f0d66d6a",
   "metadata": {},
   "outputs": [
    {
     "name": "stdout",
     "output_type": "stream",
     "text": [
      "['gita', 'shyam', 'krishna', 'nita', 'apple']\n"
     ]
    }
   ],
   "source": [
    "a = ['gita','hari','shyam','krishna','nita','apple']\n",
    "a.pop(1)\n",
    "print(a)"
   ]
  },
  {
   "cell_type": "code",
   "execution_count": 20,
   "id": "fd763913-0a00-4dca-97e8-f6e4ff236ca8",
   "metadata": {},
   "outputs": [
    {
     "name": "stdout",
     "output_type": "stream",
     "text": [
      "hari\n"
     ]
    }
   ],
   "source": [
    "a = ['gita','hari','shyam','krishna','nita','apple']\n",
    "b = a.pop(1) # value move garxa pop() le\n",
    "print(b)"
   ]
  },
  {
   "cell_type": "code",
   "execution_count": 2,
   "id": "496c110e-c757-439f-93a0-94110e0f35b1",
   "metadata": {},
   "outputs": [
    {
     "name": "stdout",
     "output_type": "stream",
     "text": [
      "gita\n",
      "hari\n",
      "shyam\n",
      "krishna\n",
      "nita\n",
      "apple\n"
     ]
    }
   ],
   "source": [
    "a = ['gita','hari','shyam','krishna','nita','apple']\n",
    "for i in a:\n",
    "    print(i)"
   ]
  },
  {
   "cell_type": "code",
   "execution_count": 26,
   "id": "b435165c-1228-4da8-a942-e5c571a8d853",
   "metadata": {},
   "outputs": [
    {
     "name": "stdout",
     "output_type": "stream",
     "text": [
      "gita hari shyam krishna nita apple "
     ]
    }
   ],
   "source": [
    "a = ['gita','hari','shyam','krishna','nita','apple']\n",
    "for i in a:\n",
    "    print(i,end = \" \")"
   ]
  },
  {
   "cell_type": "code",
   "execution_count": 26,
   "id": "b9ef3f2f-0e1e-4f3d-8505-96fec745881e",
   "metadata": {},
   "outputs": [
    {
     "name": "stdout",
     "output_type": "stream",
     "text": [
      "6\n"
     ]
    }
   ],
   "source": [
    "a = ['gita','hari','shyam','krishna','nita','apple']\n",
    "l = len(a)\n",
    "print(l)"
   ]
  },
  {
   "cell_type": "code",
   "execution_count": 30,
   "id": "aeae8d03-1e30-4f15-8d0d-81d81cd31da7",
   "metadata": {},
   "outputs": [
    {
     "name": "stdout",
     "output_type": "stream",
     "text": [
      "gita   0\n",
      "hari   1\n",
      "shyam   2\n",
      "krishna   3\n",
      "nita   4\n",
      "apple   5\n"
     ]
    }
   ],
   "source": [
    "a = ['gita','hari','shyam','krishna','nita','apple']\n",
    "l = len(a)\n",
    "for i in range(l):\n",
    "    \n",
    "   print(a[i],\" \" ,i)"
   ]
  },
  {
   "cell_type": "code",
   "execution_count": 29,
   "id": "840b0df9-c6de-4b3e-ae80-ee916fa4a454",
   "metadata": {},
   "outputs": [],
   "source": [
    "# index form 0\n",
    "# count from 1"
   ]
  },
  {
   "cell_type": "code",
   "execution_count": 30,
   "id": "0e6403a2-d512-4fff-aa03-7519dcdde9e3",
   "metadata": {},
   "outputs": [
    {
     "name": "stdout",
     "output_type": "stream",
     "text": [
      "gita\n",
      "hari\n",
      "shyam\n",
      "krishna\n",
      "nita\n",
      "apple\n"
     ]
    }
   ],
   "source": [
    "i = 0\n",
    "a = ['gita','hari','shyam','krishna','nita','apple']\n",
    "l = len(a)\n",
    "while i<l:\n",
    "    print(a[i])\n",
    "    i = i+1"
   ]
  },
  {
   "cell_type": "code",
   "execution_count": 37,
   "id": "72004455-2f5a-4e5d-8c8c-e011a7653a2b",
   "metadata": {},
   "outputs": [
    {
     "name": "stdout",
     "output_type": "stream",
     "text": [
      "['gita', 'hari', 'shyam', 'krishna', 'nita', 'apple', 'ram']\n"
     ]
    }
   ],
   "source": [
    "# removing multiple values\n",
    "a = ['gita','ram','hari','shyam','krishna','nita','apple','ram']\n",
    "a.remove(\"ram\")\n",
    "print(a)"
   ]
  },
  {
   "cell_type": "code",
   "execution_count": 4,
   "id": "ff800dde-7773-41a8-81fa-8a1edde4e47b",
   "metadata": {},
   "outputs": [
    {
     "name": "stdout",
     "output_type": "stream",
     "text": [
      "['gita', 'hari', 'shyam', 'krishna', 'nita', 'apple', 'ram']\n",
      "['gita', 'hari', 'shyam', 'krishna', 'nita', 'apple']\n"
     ]
    }
   ],
   "source": [
    "a = ['gita','ram','hari','shyam','krishna','nita','apple','ram']\n",
    "c = a.count(\"ram\")\n",
    "for i in range(c):\n",
    "    a.remove('ram')\n",
    "    print(a)"
   ]
  },
  {
   "cell_type": "code",
   "execution_count": 48,
   "id": "6b70c355-72db-4ee9-b947-5cd7732d2036",
   "metadata": {},
   "outputs": [
    {
     "name": "stdout",
     "output_type": "stream",
     "text": [
      "yesssssssssssssss , there are  2 values anmed ram..\n"
     ]
    }
   ],
   "source": [
    "a = ['gita','ram','hari','shyam','krishna','nita','apple','ram']\n",
    "if \"ram\" in a:\n",
    "    print(\"yesssssssssssssss , there are \",a.count('ram') , \"values anmed ram..\")\n",
    "else:\n",
    "    print(\"noooooooooooooooooooooooooooooooooooooooooooooooooooooooooooooo\")"
   ]
  },
  {
   "cell_type": "code",
   "execution_count": 31,
   "id": "3b014eb4-857b-4baf-8ace-c5ab5b64a802",
   "metadata": {},
   "outputs": [
    {
     "data": {
      "text/plain": [
       "1"
      ]
     },
     "execution_count": 31,
     "metadata": {},
     "output_type": "execute_result"
    }
   ],
   "source": [
    "a = ['gita','ram','hari','shyam','krishna','nita','apple','ram']\n",
    "a.index('ram')"
   ]
  },
  {
   "cell_type": "code",
   "execution_count": 32,
   "id": "7a4a0fef-0a50-41dd-bdc2-90ba25a227d8",
   "metadata": {},
   "outputs": [
    {
     "name": "stdout",
     "output_type": "stream",
     "text": [
      "ram\n",
      "ram\n"
     ]
    }
   ],
   "source": [
    "a = ['gita','ram','hari','shyam','krishna','nita','apple','ram']\n",
    "l =len(a)\n",
    "for i in range(l): \n",
    "    if a[i] == 'ram':\n",
    "       print(a[i])"
   ]
  },
  {
   "cell_type": "code",
   "execution_count": 54,
   "id": "60414444-d6f1-4549-b839-85f2a7309ecf",
   "metadata": {},
   "outputs": [
    {
     "name": "stdout",
     "output_type": "stream",
     "text": [
      "1\n",
      "7\n"
     ]
    }
   ],
   "source": [
    "a = ['gita','ram','hari','shyam','krishna','nita','apple','ram']\n",
    "l =len(a)\n",
    "for i in range(l): \n",
    "    if a[i] == 'ram':\n",
    "       print(i)"
   ]
  },
  {
   "cell_type": "code",
   "execution_count": 55,
   "id": "2adf9312-df4f-4752-b8e0-754450050314",
   "metadata": {},
   "outputs": [],
   "source": [
    "#  .lower() list ma hudaina"
   ]
  },
  {
   "cell_type": "code",
   "execution_count": 57,
   "id": "1c721b37-5df1-46ac-96e4-88ce100af754",
   "metadata": {},
   "outputs": [
    {
     "name": "stdin",
     "output_type": "stream",
     "text": [
      "enter name =  RaM\n"
     ]
    },
    {
     "name": "stdout",
     "output_type": "stream",
     "text": [
      "1\n",
      "7\n"
     ]
    }
   ],
   "source": [
    "a = ['Gita','Ram','Hari','Shyam','Krishna','Nita','Apple','Ram']\n",
    "name = input(\"enter name = \")\n",
    "l =len(a)\n",
    "for i in range(l): \n",
    "    if a[i].lower() == name.lower():\n",
    "       print(i)"
   ]
  },
  {
   "cell_type": "code",
   "execution_count": 1,
   "id": "e5aab34a-7a98-4ce8-9b06-4b5cb097d854",
   "metadata": {},
   "outputs": [],
   "source": [
    "# remove ra search use garda case insensative"
   ]
  },
  {
   "cell_type": "code",
   "execution_count": 5,
   "id": "2d689634-a089-4a55-b16d-20a1fae72823",
   "metadata": {},
   "outputs": [],
   "source": [
    "# nested list (list inside list )\n"
   ]
  },
  {
   "cell_type": "code",
   "execution_count": 8,
   "id": "20f47af6-bd07-4608-aec5-4da68b11e123",
   "metadata": {},
   "outputs": [
    {
     "name": "stdout",
     "output_type": "stream",
     "text": [
      "[[1, 2, 3, 4], [3, 4, 5, 6], [444, 444, 444]]\n"
     ]
    }
   ],
   "source": [
    "a = [[1,2,3,4],\n",
    "     [3,4,5,6,],\n",
    "     [444,444,444]]\n",
    "print(a)"
   ]
  },
  {
   "cell_type": "code",
   "execution_count": 12,
   "id": "f259c020-0ba2-46b7-9beb-eb8a29cf1f6e",
   "metadata": {},
   "outputs": [
    {
     "name": "stdout",
     "output_type": "stream",
     "text": [
      "[['ram', '34', 'ktm'], ['shyam', '67', 'ktm'], ['hari', '69', 'laitpur']]\n",
      "3\n"
     ]
    }
   ],
   "source": [
    "info = [['ram','34','ktm'],\n",
    "        ['shyam','67','ktm'],\n",
    "        ['hari','69','laitpur']]\n",
    "print(info)\n",
    "print(len(info))"
   ]
  },
  {
   "cell_type": "code",
   "execution_count": 11,
   "id": "c188626d-4199-4bba-a153-324c9cd29954",
   "metadata": {},
   "outputs": [
    {
     "data": {
      "text/plain": [
       "['ram', '34', 'ktm']"
      ]
     },
     "execution_count": 11,
     "metadata": {},
     "output_type": "execute_result"
    }
   ],
   "source": [
    "info[0]"
   ]
  },
  {
   "cell_type": "code",
   "execution_count": 13,
   "id": "0d1ee52a-40d5-400e-9749-b2db53dc8f39",
   "metadata": {},
   "outputs": [
    {
     "data": {
      "text/plain": [
       "'ram'"
      ]
     },
     "execution_count": 13,
     "metadata": {},
     "output_type": "execute_result"
    }
   ],
   "source": [
    "info[0][0]"
   ]
  },
  {
   "cell_type": "code",
   "execution_count": 1,
   "id": "69a0859e-d68d-4cd0-8185-f7464bdb1707",
   "metadata": {},
   "outputs": [
    {
     "name": "stdin",
     "output_type": "stream",
     "text": [
      "enter the value of n = 1\n",
      "enter name= Rameshwor Kafle\n",
      "enter age = 65\n",
      "enter address =  Kathmandu Nepal\n"
     ]
    },
    {
     "name": "stdout",
     "output_type": "stream",
     "text": [
      "[['Rameshwor Kafle', 65, 'Kathmandu Nepal']]\n"
     ]
    }
   ],
   "source": [
    "info = list()\n",
    "n = int(input(\"enter the value of n =\"))\n",
    "for i in range(n):\n",
    "    name = input(\"enter name=\")\n",
    "    age = int(input(\"enter age =\"))\n",
    "    add = input(\"enter address = \")\n",
    "    x = [name,age,add]\n",
    "    info.append(x)\n",
    "print(info)\n"
   ]
  },
  {
   "cell_type": "code",
   "execution_count": 3,
   "id": "7a5ccd11-fbfa-4f13-93f0-43e806151d61",
   "metadata": {},
   "outputs": [
    {
     "name": "stdout",
     "output_type": "stream",
     "text": [
      "[['Rameshwor Kafle', 65, 'Kathmandu Nepal'], ['hari', 34, 'bhaktapur'], ['hari', 34, 'bhaktapur']]\n"
     ]
    }
   ],
   "source": [
    "info.append(['hari',34,'bhaktapur'])\n",
    "print(info)"
   ]
  },
  {
   "cell_type": "code",
   "execution_count": 7,
   "id": "a5106dc3-391d-4412-97b3-4cf9f539e4d1",
   "metadata": {},
   "outputs": [
    {
     "name": "stdout",
     "output_type": "stream",
     "text": [
      "[['hee', 33, 'eeccvvbb'], ['shyam', '67', 'ktm']]\n"
     ]
    }
   ],
   "source": [
    "info = [['ram','34','ktm'],\n",
    "        ['shyam','67','ktm']]\n",
    "info[0] = ['hee',33,'eeccvvbb']\n",
    "print(info)"
   ]
  },
  {
   "cell_type": "code",
   "execution_count": 21,
   "id": "ab26a458-af5f-4cb0-bc42-20e48a95dd2e",
   "metadata": {},
   "outputs": [
    {
     "data": {
      "text/plain": [
       "[['ram', 22, 'ktm'], ['shyam', 34, 'ktm'], ['hari', 34, 'bhaktapur']]"
      ]
     },
     "execution_count": 21,
     "metadata": {},
     "output_type": "execute_result"
    }
   ],
   "source": [
    "# update\n",
    "info"
   ]
  },
  {
   "cell_type": "code",
   "execution_count": 22,
   "id": "93b9080c-c8e8-44ed-b125-342718eccd29",
   "metadata": {},
   "outputs": [],
   "source": [
    "info[0] = ['rama','88','kl']"
   ]
  },
  {
   "cell_type": "code",
   "execution_count": 23,
   "id": "e409a35c-c091-408d-b768-61619280e22f",
   "metadata": {},
   "outputs": [
    {
     "name": "stdout",
     "output_type": "stream",
     "text": [
      "[['rama', '88', 'kl'], ['shyam', 34, 'ktm'], ['hari', 34, 'bhaktapur']]\n"
     ]
    }
   ],
   "source": [
    "print(info)"
   ]
  },
  {
   "cell_type": "code",
   "execution_count": 24,
   "id": "87057430-8e19-4d00-b875-68546a8c0bb6",
   "metadata": {},
   "outputs": [
    {
     "name": "stdout",
     "output_type": "stream",
     "text": [
      "[['rama', '88', ['rama']], ['shyam', 34, 'ktm'], ['hari', 34, 'bhaktapur']]\n"
     ]
    }
   ],
   "source": [
    "info[0][2] = ['rama']\n",
    "print(info)"
   ]
  },
  {
   "cell_type": "code",
   "execution_count": 25,
   "id": "7fc4e15e-5eba-431d-a80f-e5349803026b",
   "metadata": {},
   "outputs": [
    {
     "data": {
      "text/plain": [
       "[[3, 4, 5, 6], [444, 444, 444]]"
      ]
     },
     "execution_count": 25,
     "metadata": {},
     "output_type": "execute_result"
    }
   ],
   "source": [
    "del a[0]\n",
    "a"
   ]
  },
  {
   "cell_type": "code",
   "execution_count": 28,
   "id": "027ee888-af00-4082-a4c8-b0068c14bb19",
   "metadata": {},
   "outputs": [
    {
     "name": "stdout",
     "output_type": "stream",
     "text": [
      "[['ram', 34, 'ramesh'], ['see', 43, 'saw']]\n",
      "['sasa', 23, 'ddd']\n"
     ]
    }
   ],
   "source": [
    "a = [['ram',34,'ramesh'],['see',43,'saw'],['sasa',23,'ddd']]\n",
    "b = a.pop()\n",
    "print(a)\n",
    "print(b)"
   ]
  },
  {
   "cell_type": "code",
   "execution_count": 39,
   "id": "88e0a148-08f8-49ff-b2f2-eed5429bd7f4",
   "metadata": {},
   "outputs": [
    {
     "name": "stdin",
     "output_type": "stream",
     "text": [
      "enter name = ram\n"
     ]
    },
    {
     "name": "stdout",
     "output_type": "stream",
     "text": [
      "['ram', 34, 'ramesh']\n"
     ]
    }
   ],
   "source": [
    "a = [['ram',34,'ramesh'],['see',43,'saw'],['sasa',23,'ddd']]\n",
    "name = input(\"enter name =\")\n",
    "for i in a:\n",
    "    if name in i:\n",
    "       print(i)"
   ]
  },
  {
   "cell_type": "code",
   "execution_count": 10,
   "id": "1e5ab714-df56-4295-a060-d61154944ff5",
   "metadata": {},
   "outputs": [
    {
     "name": "stdin",
     "output_type": "stream",
     "text": [
      "enter name = ram\n"
     ]
    },
    {
     "name": "stdout",
     "output_type": "stream",
     "text": [
      "0\n",
      "3\n"
     ]
    }
   ],
   "source": [
    "a = [['ram',34,'ramesh'],['see',43,'saw'],['sasa',23,'ddd'],['ram',34,'ktm']]\n",
    "name = input(\"enter name =\")\n",
    "l = len(a)\n",
    "for i in range(l):\n",
    "    if name in a[i]:\n",
    "       print(i)"
   ]
  },
  {
   "cell_type": "code",
   "execution_count": 3,
   "id": "48342cc0-83bc-4b75-a6e7-9b94838107df",
   "metadata": {},
   "outputs": [],
   "source": [
    "# row,colum,x"
   ]
  },
  {
   "cell_type": "code",
   "execution_count": 3,
   "id": "bfd44969-cabf-4bf2-b5c9-70c37e8577cd",
   "metadata": {},
   "outputs": [
    {
     "name": "stdin",
     "output_type": "stream",
     "text": [
      "enter the value of r = 5\n",
      "enter c = 1\n",
      "enter value of x= 2\n",
      "enter value of x= 3\n",
      "enter value of x= 4\n",
      "enter value of x= 5\n",
      "enter value of x= 6\n"
     ]
    },
    {
     "name": "stdout",
     "output_type": "stream",
     "text": [
      "[[2], [3], [4], [5], [6]]\n"
     ]
    }
   ],
   "source": [
    "m = []\n",
    "r = int(input(\"enter the value of r =\"))\n",
    "c = int(input(\"enter c =\"))\n",
    "for i in range(r):\n",
    "    y = []\n",
    "    for j in range(c):\n",
    "     x = int(input(\"enter value of x=\"))\n",
    "     y.append(x)\n",
    "    m.append(y)\n",
    "print(m)"
   ]
  },
  {
   "cell_type": "code",
   "execution_count": 1,
   "id": "f1a276b1-8afc-455f-999c-ed734943f140",
   "metadata": {},
   "outputs": [],
   "source": [
    "# dictionary\n",
    "#  dict(),{}\n",
    "\n"
   ]
  },
  {
   "cell_type": "code",
   "execution_count": 2,
   "id": "f1b2635a-d527-4489-9a5f-af7f7e8810e7",
   "metadata": {},
   "outputs": [
    {
     "name": "stdout",
     "output_type": "stream",
     "text": [
      "<class 'dict'>\n"
     ]
    }
   ],
   "source": [
    "# #  indexing\n",
    "# multiple and duplicate data\n",
    "# ordered\n",
    "# mutable\n",
    "d = {}\n",
    "d =dict()\n",
    "print(type(d))"
   ]
  },
  {
   "cell_type": "code",
   "execution_count": 9,
   "id": "0c3ff701-3d17-4697-ae96-86234718c91e",
   "metadata": {},
   "outputs": [],
   "source": [
    "# d = {<key>:<value>,<key>:<value>  (no concatination)\n",
    "#      d = {'a':'Apple,'b':Ball}"
   ]
  },
  {
   "cell_type": "code",
   "execution_count": 8,
   "id": "bd991160-6e2d-4759-99af-3ca029b537db",
   "metadata": {},
   "outputs": [
    {
     "name": "stdout",
     "output_type": "stream",
     "text": [
      "Apple\n",
      "Ball\n",
      "{'a': 'Apple', 'b': 'Ball'}\n"
     ]
    }
   ],
   "source": [
    "d = {'a':'Apple','b':'Ball'}\n",
    "print(d['a'])\n",
    "print(d['b'])\n",
    "print(d)"
   ]
  },
  {
   "cell_type": "code",
   "execution_count": 11,
   "id": "32733231-4a8c-488c-b809-aca149ba633c",
   "metadata": {},
   "outputs": [
    {
     "name": "stdout",
     "output_type": "stream",
     "text": [
      "{'a': 'app', 'b': 'ball', 'c': 'cat'}\n"
     ]
    }
   ],
   "source": [
    "a = {} # can also be defined as dict()\n",
    "a['a'] = \"app\"\n",
    "a['b'] = \"ball\"\n",
    "a['c'] = \"cat\"\n",
    "print(a)"
   ]
  },
  {
   "cell_type": "code",
   "execution_count": 2,
   "id": "7b22a84f-c480-440d-85ef-07c14c7d5bc3",
   "metadata": {},
   "outputs": [
    {
     "name": "stdin",
     "output_type": "stream",
     "text": [
      "enter value of n = 2\n",
      "enter name = ram\n",
      "enter phone number= 9878789870\n",
      "enter name = shyam ko kanxi budi\n",
      "enter phone number= 4453621738\n"
     ]
    },
    {
     "name": "stdout",
     "output_type": "stream",
     "text": [
      "{'ram': 9878789870, 'shyam ko kanxi budi': 4453621738}\n"
     ]
    }
   ],
   "source": [
    "a = {}\n",
    "n = int(input(\"enter value of n =\"))\n",
    "for i in range(n):\n",
    "    name = input(\"enter name =\")\n",
    "    \n",
    "    ph = int(input(\"enter phone number=\"))\n",
    "    a[name] = ph\n",
    "print(a)\n",
    "    "
   ]
  },
  {
   "cell_type": "raw",
   "id": "e4805827-e4ff-4064-b3f3-8e4a4d6b6fb0",
   "metadata": {},
   "source": [
    "a = {}\n",
    "a['a'] = \"app\"\n",
    "a['b'] = \"ball\"\n",
    "a['c'] = \"cat\"\n",
    "a['d'] = \"dog\"\n",
    "a['a'] = \"ramm\" # key unique hunu parxa natra value update hunxa , value chai duplicate huna sakxa\n",
    "print(a)\n"
   ]
  },
  {
   "cell_type": "code",
   "execution_count": 3,
   "id": "3a533592-8ed5-473f-b6f1-16aa786c76a5",
   "metadata": {},
   "outputs": [
    {
     "name": "stdout",
     "output_type": "stream",
     "text": [
      "{'a': 'ramm', 'b': 'ball', 'c': 'cat', 'd': 'dog'}\n"
     ]
    }
   ],
   "source": [
    "a = {}\n",
    "a['a'] = \"app\"\n",
    "a['b'] = \"ball\"\n",
    "a['c'] = \"cat\"\n",
    "a['d'] = \"dog\"\n",
    "a['a'] = \"ramm\" # key unique hunu parxa natra value update hunxa , value chai duplicate huna sakxa\n",
    "print(a)\n"
   ]
  },
  {
   "cell_type": "code",
   "execution_count": 18,
   "id": "ebb01731-aedd-4f26-88f4-f7a7f27fb249",
   "metadata": {},
   "outputs": [
    {
     "name": "stdout",
     "output_type": "stream",
     "text": [
      "ram\n",
      "shyam\n",
      "hari\n"
     ]
    }
   ],
   "source": [
    "a = {'ram':6789,'shyam':2345678,'hari':3456789}\n",
    "for i in a:\n",
    "    print(i)"
   ]
  },
  {
   "cell_type": "code",
   "execution_count": 19,
   "id": "57f649e6-64d1-4ae4-a31c-11dd1d647ad8",
   "metadata": {},
   "outputs": [
    {
     "name": "stdout",
     "output_type": "stream",
     "text": [
      "6789\n",
      "2345678\n",
      "3456789\n"
     ]
    }
   ],
   "source": [
    "a = {'ram':6789,'shyam':2345678,'hari':3456789}\n",
    "for i in a.values():\n",
    "    print(i)"
   ]
  },
  {
   "cell_type": "code",
   "execution_count": 20,
   "id": "a0378397-3505-46ce-b51a-b63dad139ecf",
   "metadata": {},
   "outputs": [
    {
     "name": "stdout",
     "output_type": "stream",
     "text": [
      "('ram', 6789)\n",
      "('shyam', 2345678)\n",
      "('hari', 3456789)\n"
     ]
    }
   ],
   "source": [
    "a = {'ram':6789,'shyam':2345678,'hari':3456789,'gopal':567898765}\n",
    "for i in a.items():\n",
    "    print(i)"
   ]
  },
  {
   "cell_type": "code",
   "execution_count": 25,
   "id": "e56aed52-dc16-4794-98e2-5cfb35ca7908",
   "metadata": {},
   "outputs": [
    {
     "data": {
      "text/plain": [
       "{'ram': 9767657967,\n",
       " 'shyam': 2345678,\n",
       " 'hari': 3456789,\n",
       " 'gopal': 567898765,\n",
       " 'rrr': 987654321}"
      ]
     },
     "execution_count": 25,
     "metadata": {},
     "output_type": "execute_result"
    }
   ],
   "source": [
    "a = {'ram':6789,'shyam':2345678,'hari':3456789,'gopal':567898765}\n",
    "a['ram']=9767657967\n",
    "a\n",
    "a['rrr'] = 987654321\n",
    "a"
   ]
  },
  {
   "cell_type": "code",
   "execution_count": 28,
   "id": "711c2fa1-3ff6-461b-a6aa-4baf910acf87",
   "metadata": {},
   "outputs": [
    {
     "name": "stdout",
     "output_type": "stream",
     "text": [
      "{'ram': 6789, 'shyam': 2345678, 'hari': 3456789, 'gopal': 567898765, 'sita': 8888888888888, 'nabin': 987654345678}\n"
     ]
    }
   ],
   "source": [
    "a = {'ram':6789,'shyam':2345678,'hari':3456789,'gopal':567898765}\n",
    "b = {'sita':8888888888888,'nabin':987654345678}\n",
    "a.update(b)\n",
    "print(a)"
   ]
  },
  {
   "cell_type": "code",
   "execution_count": 29,
   "id": "d685ba91-73fe-4774-91da-53c371d7a4d0",
   "metadata": {},
   "outputs": [],
   "source": [
    "# delete in dict\n",
    "# del,pop"
   ]
  },
  {
   "cell_type": "code",
   "execution_count": 30,
   "id": "9ddf19b8-6b8d-4588-aa94-93bbf89a7513",
   "metadata": {},
   "outputs": [
    {
     "name": "stdout",
     "output_type": "stream",
     "text": [
      "{'shyam': 2345678, 'hari': 3456789, 'gopal': 567898765}\n"
     ]
    }
   ],
   "source": [
    "a = {'ram':6789,'shyam':2345678,'hari':3456789,'gopal':567898765}\n",
    "del a['ram']\n",
    "print(a)"
   ]
  },
  {
   "cell_type": "code",
   "execution_count": 34,
   "id": "d48053d2-430f-4223-b380-0609551bc1db",
   "metadata": {},
   "outputs": [
    {
     "name": "stdout",
     "output_type": "stream",
     "text": [
      "{'ram': 6789, 'hari': 3456789, 'gopal': 567898765}\n",
      "2345678\n"
     ]
    }
   ],
   "source": [
    "a = {'ram':6789,'shyam':2345678,'hari':3456789,'gopal':567898765}\n",
    "b = a.pop('shyam')\n",
    "print(a)\n",
    "print(b)"
   ]
  },
  {
   "cell_type": "code",
   "execution_count": 35,
   "id": "357836cd-eab1-4aa0-80cc-3f7f2b60739d",
   "metadata": {},
   "outputs": [],
   "source": [
    "#  yeuta key ma mmultiple value\n",
    "# list inside dictionary use garney"
   ]
  },
  {
   "cell_type": "code",
   "execution_count": 39,
   "id": "7bc63b94-9c28-41ae-8321-b4413c60f0fd",
   "metadata": {},
   "outputs": [
    {
     "name": "stdout",
     "output_type": "stream",
     "text": [
      "[67892345, 456789]\n",
      "[3456789, 98765456789]\n"
     ]
    }
   ],
   "source": [
    "a = {'ram':[67892345,456789],'shyam':[2345678,8765434567876543456],'hari':[3456789,98765456789],'gopal':[567898765,987654345678]}\n",
    "print(a['ram'])\n",
    "print(a['hari'])"
   ]
  },
  {
   "cell_type": "code",
   "execution_count": 40,
   "id": "bac52590-fc55-4bf6-b17b-7317919ec002",
   "metadata": {},
   "outputs": [
    {
     "name": "stdout",
     "output_type": "stream",
     "text": [
      "{'name': ['ram', 'shyam', 'hari'], 'age': [23, 45, 61], 'add': ['ktm', 'bkt', 'ssmp']}\n"
     ]
    }
   ],
   "source": [
    "a = {'name':['ram','shyam','hari'],'age':[23,45,61],'add':[\"ktm\",\"bkt\",\"ssmp\"]}\n",
    "print(a)"
   ]
  },
  {
   "cell_type": "code",
   "execution_count": 42,
   "id": "24de6a41-5842-41b2-a8d0-700cd233a077",
   "metadata": {},
   "outputs": [
    {
     "name": "stdin",
     "output_type": "stream",
     "text": [
      "enter the value of n =  2\n",
      "name= pujya\n",
      "ntc number =  9767657867\n",
      "enter n cell number =  98989898888\n",
      "name= ramey\n",
      "ntc number =  2345678\n",
      "enter n cell number =  8765432\n"
     ]
    },
    {
     "name": "stdout",
     "output_type": "stream",
     "text": [
      "{'pujya': [9767657867, 98989898888], 'ramey': [2345678, 8765432]}\n"
     ]
    }
   ],
   "source": [
    "a = dict()\n",
    "n = int(input(\"enter the value of n = \"))\n",
    "for i in range(n):\n",
    "  name = input(\"name=\")\n",
    "  ntc_num = int(input(\"ntc number = \"))\n",
    "  ncell_num = int(input(\"enter n cell number = \"))\n",
    "  a[name] = [ntc_num , ncell_num]\n",
    "print(a)"
   ]
  },
  {
   "cell_type": "code",
   "execution_count": 48,
   "id": "012fb044-1336-4f76-b320-d818d2140e6f",
   "metadata": {},
   "outputs": [
    {
     "name": "stdin",
     "output_type": "stream",
     "text": [
      "enter the value of n =  3\n",
      "name= ram\n",
      "age in number =  22\n",
      "enter address =  ee\n",
      "name= shyam\n",
      "age in number =  33\n",
      "enter address =  ff\n",
      "name= hari\n",
      "age in number =  44\n",
      "enter address =  gg\n"
     ]
    },
    {
     "name": "stdout",
     "output_type": "stream",
     "text": [
      "{'name': ['ram', 'shyam', 'hari'], 'age': [22, 33, 44], 'add': ['ee', 'ff', 'gg']}\n"
     ]
    }
   ],
   "source": [
    "a = {'name':[],'age':[],'add':[]}\n",
    "n = int(input(\"enter the value of n = \"))\n",
    "for i in range(n):\n",
    "  name = input(\"name=\")\n",
    "  age = int(input(\"age in number = \"))\n",
    "  add = input(\"enter address = \")\n",
    "  a['name'].append(name)\n",
    "  a['age'].append(age)\n",
    "  a['add'].append(add)\n",
    "print(a)"
   ]
  },
  {
   "cell_type": "code",
   "execution_count": 51,
   "id": "a1c10c51-4bde-416b-a39c-4fb2ac531236",
   "metadata": {},
   "outputs": [
    {
     "name": "stdout",
     "output_type": "stream",
     "text": [
      "name is =  ram\n",
      "age is =  22\n"
     ]
    }
   ],
   "source": [
    "a = {'name': ['ram', 'shyam', 'hari'], 'age': [22, 33, 44], 'add': ['ee', 'ff', 'gg']}\n",
    "print(\"name is = \",a['name'][0])\n",
    "print(\"age is = \",a['age'][0])"
   ]
  },
  {
   "cell_type": "code",
   "execution_count": 52,
   "id": "a36ae9ad-1936-4a01-b8a3-309fe3e33255",
   "metadata": {},
   "outputs": [
    {
     "name": "stdout",
     "output_type": "stream",
     "text": [
      "{'name': ['ram', 'shyam', 'hari'], 'age': [33, 33, 44], 'add': ['ee', 'ff', 'gg']}\n"
     ]
    }
   ],
   "source": [
    "a = {'name': ['ram', 'shyam', 'hari'], 'age': [22, 33, 44], 'add': ['ee', 'ff', 'gg']}\n",
    "a['age'][0] = 33\n",
    "print(a)"
   ]
  },
  {
   "cell_type": "code",
   "execution_count": 53,
   "id": "5e7f4763-17f3-44f4-805d-5ed3fda20d21",
   "metadata": {},
   "outputs": [
    {
     "name": "stdout",
     "output_type": "stream",
     "text": [
      "{'name': ['shyam', 'hari'], 'age': [33, 44], 'add': ['ff', 'gg']}\n"
     ]
    }
   ],
   "source": [
    "a = {'name': ['ram', 'shyam', 'hari'], 'age': [22, 33, 44], 'add': ['ee', 'ff', 'gg']}\n",
    "del a['name'][0]\n",
    "del a['age'][0]\n",
    "del a['add'][0]\n",
    "print(a)"
   ]
  },
  {
   "cell_type": "code",
   "execution_count": 54,
   "id": "5e4a5a89-6a9f-44cc-9371-a56715c8c7be",
   "metadata": {},
   "outputs": [
    {
     "data": {
      "text/plain": [
       "dict_keys(['name', 'age', 'add'])"
      ]
     },
     "execution_count": 54,
     "metadata": {},
     "output_type": "execute_result"
    }
   ],
   "source": [
    "a = {'name': ['ram', 'shyam', 'hari'], 'age': [22, 33, 44], 'add': ['ee', 'ff', 'gg']}\n",
    "a.keys()"
   ]
  },
  {
   "cell_type": "code",
   "execution_count": 8,
   "id": "4ce3a82a-96a5-45e7-89d0-dd8f76dedfa0",
   "metadata": {},
   "outputs": [
    {
     "name": "stdin",
     "output_type": "stream",
     "text": [
      "enter index =  0\n"
     ]
    },
    {
     "name": "stdout",
     "output_type": "stream",
     "text": [
      "{'name': ['shyam', 'hari'], 'age': [33, 44], 'add': ['ff', 'gg']}\n"
     ]
    }
   ],
   "source": [
    "a = {'name': ['ram', 'shyam', 'hari'], 'age': [22, 33, 44], 'add': ['ee', 'ff', 'gg']}\n",
    "k = list(a.keys()) # list ma convert garya\n",
    "index = int(input(\"enter index = \"))\n",
    "for i in a:\n",
    "    del a[i][index]\n",
    "\n",
    "print(a)"
   ]
  },
  {
   "cell_type": "code",
   "execution_count": 60,
   "id": "36deee45-6b29-4907-9710-443313528c6e",
   "metadata": {},
   "outputs": [
    {
     "name": "stdout",
     "output_type": "stream",
     "text": [
      "['name', 'age', 'add']\n"
     ]
    },
    {
     "name": "stdin",
     "output_type": "stream",
     "text": [
      "enter index =  0\n"
     ]
    },
    {
     "name": "stdout",
     "output_type": "stream",
     "text": [
      "{'name': ['shyam', 'hari'], 'age': [33, 44], 'add': ['ff', 'gg']}\n"
     ]
    }
   ],
   "source": [
    "a = {'name': ['ram', 'shyam', 'hari'], 'age': [22, 33, 44], 'add': ['ee', 'ff', 'gg']}\n",
    "k = list(a.keys()) # list ma convert garya\n",
    "print(k)\n",
    "index = int(input(\"enter index = \"))\n",
    "for i in a:\n",
    "    del a[i][index]\n",
    "\n",
    "print(a)"
   ]
  },
  {
   "cell_type": "code",
   "execution_count": 62,
   "id": "a45286c2-db39-4ac8-bc01-022f1220640e",
   "metadata": {},
   "outputs": [
    {
     "name": "stdin",
     "output_type": "stream",
     "text": [
      "enter index =  0\n",
      "entername rama\n",
      "enterage 22\n",
      "enteradd lalitpur\n"
     ]
    },
    {
     "name": "stdout",
     "output_type": "stream",
     "text": [
      "{'name': ['rama', 'shyam', 'hari'], 'age': ['22', 33, 44], 'add': ['lalitpur', 'ff', 'gg']}\n"
     ]
    }
   ],
   "source": [
    "a = {'name': ['ram', 'shyam', 'hari'], 'age': [22, 33, 44], 'add': ['ee', 'ff', 'gg']}\n",
    "\n",
    "index = int(input(\"enter index = \"))\n",
    "for i in a:\n",
    "    x = input(f\"enter{i}\")\n",
    "    a[i] [index] = x\n",
    "\n",
    "print(a)"
   ]
  },
  {
   "cell_type": "code",
   "execution_count": 1,
   "id": "99441982-6b9f-4025-8387-ce083b15e27f",
   "metadata": {},
   "outputs": [],
   "source": [
    "# dict inside list\n"
   ]
  },
  {
   "cell_type": "code",
   "execution_count": 2,
   "id": "52938bfc-9b4f-48d2-954f-de0e68bf444c",
   "metadata": {},
   "outputs": [
    {
     "data": {
      "text/plain": [
       "[{'name': 'Ram', 'age': 23, 'add': 'Kathmandu'},\n",
       " {'name': 'Shyam', 'age': 33, 'add': 'Bhaktapur'},\n",
       " {'name': 'Hari', 'age': 43, 'add': 'Lalitpur'}]"
      ]
     },
     "execution_count": 2,
     "metadata": {},
     "output_type": "execute_result"
    }
   ],
   "source": [
    "l = [{'name':'Ram','age':23,'add':\"Kathmandu\"},{'name':'Shyam','age':33,'add':\"Bhaktapur\"},{'name':'Hari','age':43,'add':\"Lalitpur\"}]\n",
    "l\n"
   ]
  },
  {
   "cell_type": "code",
   "execution_count": 3,
   "id": "720e58c4-48b9-428a-9ec8-e0568bc00ecd",
   "metadata": {},
   "outputs": [
    {
     "name": "stdin",
     "output_type": "stream",
     "text": [
      "enter the value of n = 2\n",
      "name =  ram\n",
      "enter age =  1\n",
      "address =  www\n",
      "name =  shyam\n",
      "enter age =  2\n",
      "address =  eeee\n"
     ]
    },
    {
     "name": "stdout",
     "output_type": "stream",
     "text": [
      "[{'name': 'ram', 'age': 1, 'add': 'www'}, {'name': 'shyam', 'age': 2, 'add': 'eeee'}]\n"
     ]
    }
   ],
   "source": [
    "l = []\n",
    "n = int(input(\"enter the value of n =\"))\n",
    "for i in range(n):\n",
    "    name = input(\"name = \")\n",
    "    age = int(input(\"enter age = \"))\n",
    "    add = input(\"address = \")\n",
    "    d = {'name':name,'age':age,'add':add}\n",
    "    l.append(d)\n",
    "print(l)"
   ]
  },
  {
   "cell_type": "code",
   "execution_count": 4,
   "id": "ce7a4d07-0ec6-4bfa-a887-a933fbe3a79f",
   "metadata": {},
   "outputs": [],
   "source": [
    "# WAP to update , delete , read to the program"
   ]
  },
  {
   "cell_type": "code",
   "execution_count": 5,
   "id": "6c55f69a-8b04-4471-8f40-fffdd9a23b1e",
   "metadata": {},
   "outputs": [],
   "source": [
    "# dict inside dict"
   ]
  },
  {
   "cell_type": "code",
   "execution_count": 6,
   "id": "e3580ba5-d53a-4e5b-a6ef-a6db46649ad7",
   "metadata": {},
   "outputs": [],
   "source": [
    "d = {1:{\"name\":\"ram\",\"age\":34,\"add\":\"kathmandu\"},2:{\"name\":\"shyam\",\"age\":94,\"add\":\"bhaktapur\"},3:{\"name\":\"gopal\",\"age\":43,\"add\":\"lalitpur\"}}\n",
    "    "
   ]
  },
  {
   "cell_type": "code",
   "execution_count": 11,
   "id": "66cea3f8-9f5d-4e72-8124-d47bdf38e4ce",
   "metadata": {},
   "outputs": [
    {
     "name": "stdin",
     "output_type": "stream",
     "text": [
      "enter the value of n = 2\n",
      "name =  shyam\n",
      "enter age =  22\n",
      "address =  ww\n",
      "name =  ram\n",
      "enter age =  22\n",
      "address =  ssa\n"
     ]
    },
    {
     "name": "stdout",
     "output_type": "stream",
     "text": [
      "{1: {'name': 'shyam', 'age': 22, 'add': 'ww'}, 2: {'name': 'ram', 'age': 22, 'add': 'ssa'}}\n"
     ]
    }
   ],
   "source": [
    "info = {}\n",
    "n = int(input(\"enter the value of n =\"))\n",
    "for i in range(1,n+1):\n",
    "    name = input(\"name = \")\n",
    "    age = int(input(\"enter age = \"))\n",
    "    add = input(\"address = \")\n",
    "    info[i] = {'name':name,'age':age,\"add\":add}\n",
    "    \n",
    "print(info)"
   ]
  },
  {
   "cell_type": "code",
   "execution_count": 13,
   "id": "3f595422-c444-459c-9b4d-14e469e58641",
   "metadata": {},
   "outputs": [],
   "source": [
    "# WAP to add,update , delete , read to the program"
   ]
  },
  {
   "cell_type": "code",
   "execution_count": null,
   "id": "e44e8238-dab5-40f4-836e-b4b40361f186",
   "metadata": {},
   "outputs": [],
   "source": []
  }
 ],
 "metadata": {
  "kernelspec": {
   "display_name": "Python 3 (ipykernel)",
   "language": "python",
   "name": "python3"
  },
  "language_info": {
   "codemirror_mode": {
    "name": "ipython",
    "version": 3
   },
   "file_extension": ".py",
   "mimetype": "text/x-python",
   "name": "python",
   "nbconvert_exporter": "python",
   "pygments_lexer": "ipython3",
   "version": "3.11.7"
  }
 },
 "nbformat": 4,
 "nbformat_minor": 5
}
