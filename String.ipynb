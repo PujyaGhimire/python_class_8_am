{
 "cells": [
  {
   "cell_type": "code",
   "execution_count": 1,
   "id": "296acce9-6fe0-4257-9d21-47dffa636301",
   "metadata": {},
   "outputs": [],
   "source": [
    "#  strings\n"
   ]
  },
  {
   "cell_type": "code",
   "execution_count": 2,
   "id": "860aea9c-cd3c-4d9b-aa4d-3d5ce1c7556e",
   "metadata": {},
   "outputs": [
    {
     "name": "stdout",
     "output_type": "stream",
     "text": [
      "hello world\n",
      "hello world\n",
      "\n"
     ]
    }
   ],
   "source": [
    "a = \"hello world\\n\"\n",
    "print(a*2)"
   ]
  },
  {
   "cell_type": "code",
   "execution_count": 4,
   "id": "bd801478-bbbe-448e-aea3-a3316c373c79",
   "metadata": {},
   "outputs": [
    {
     "name": "stdout",
     "output_type": "stream",
     "text": [
      "mesiiiiiiiiiiiiiiiiiiiiiii"
     ]
    }
   ],
   "source": [
    "a = \"mesiiiiiiiiiiiiiiiiiiiiiii\"\n",
    "for i in a:\n",
    "    print(i,end=\"\")"
   ]
  },
  {
   "cell_type": "code",
   "execution_count": 5,
   "id": "53110d79-ee55-4267-b380-6a02831ab276",
   "metadata": {},
   "outputs": [
    {
     "name": "stdout",
     "output_type": "stream",
     "text": [
      "h\n"
     ]
    }
   ],
   "source": [
    "a = \"heloooo\"\n",
    "print(a[0])"
   ]
  },
  {
   "cell_type": "code",
   "execution_count": 6,
   "id": "62db4a96-5eac-4104-b7c8-e5ecc5b1181f",
   "metadata": {},
   "outputs": [
    {
     "name": "stdout",
     "output_type": "stream",
     "text": [
      "h\n",
      "heloo\n"
     ]
    }
   ],
   "source": [
    "a = \"heloooo\"\n",
    "print(a[0])\n",
    "print(a[0:5])"
   ]
  },
  {
   "cell_type": "code",
   "execution_count": 12,
   "id": "2ccab3cd-0925-49ee-91a9-298e34703ae6",
   "metadata": {},
   "outputs": [
    {
     "name": "stdout",
     "output_type": "stream",
     "text": [
      "hloo\n"
     ]
    }
   ],
   "source": [
    "a = \"heloooo\"\n",
    "print(a[0:10:2])"
   ]
  },
  {
   "cell_type": "code",
   "execution_count": 14,
   "id": "a62a0e2e-ed26-4ff7-971f-f22f9bc26fb5",
   "metadata": {},
   "outputs": [
    {
     "name": "stdout",
     "output_type": "stream",
     "text": [
      "oo\n"
     ]
    }
   ],
   "source": [
    "a = \"heloooo\" # 5 bata sabai\n",
    "print(a[5:])"
   ]
  },
  {
   "cell_type": "code",
   "execution_count": 16,
   "id": "9396bc9b-5449-4650-aa7c-b4d0c8fb3166",
   "metadata": {},
   "outputs": [
    {
     "name": "stdout",
     "output_type": "stream",
     "text": [
      "d\n"
     ]
    }
   ],
   "source": [
    "a = \"helooooddd\"\n",
    "print(a[-1])"
   ]
  },
  {
   "cell_type": "code",
   "execution_count": 19,
   "id": "81e9de37-c5ae-4603-8e2e-888346a736b5",
   "metadata": {},
   "outputs": [
    {
     "data": {
      "text/plain": [
       "'AYJUP'"
      ]
     },
     "execution_count": 19,
     "metadata": {},
     "output_type": "execute_result"
    }
   ],
   "source": [
    "a = \"PUJYA\"\n",
    "a[-1:-11:-1]"
   ]
  },
  {
   "cell_type": "code",
   "execution_count": 20,
   "id": "c12a640e-c7a7-4cac-bb9f-f498a928bde4",
   "metadata": {},
   "outputs": [
    {
     "name": "stdout",
     "output_type": "stream",
     "text": [
      "AYJUP\n"
     ]
    }
   ],
   "source": [
    "a = \"PUJYA\"\n",
    "print(a[::-1])"
   ]
  },
  {
   "cell_type": "code",
   "execution_count": 10,
   "id": "7f96aa1a-3168-435e-9cf7-58316d2dac98",
   "metadata": {},
   "outputs": [
    {
     "name": "stdout",
     "output_type": "stream",
     "text": [
      "11\n",
      "h\n",
      "e\n",
      "l\n",
      "l\n",
      "o\n",
      " \n",
      "w\n",
      "o\n",
      "r\n",
      "l\n",
      "d\n"
     ]
    }
   ],
   "source": [
    "a = \"hello world\"\n",
    "l = len(a)\n",
    "print(l)\n",
    "for i in range(11):\n",
    "    print(a[i])"
   ]
  },
  {
   "cell_type": "code",
   "execution_count": 24,
   "id": "0c506be5-d619-476d-b7ad-d8112cc873dc",
   "metadata": {},
   "outputs": [
    {
     "name": "stdout",
     "output_type": "stream",
     "text": [
      "11\n",
      "h\n",
      "e\n",
      "l\n",
      "l\n",
      "o\n",
      " \n",
      "w\n",
      "o\n",
      "r\n",
      "l\n",
      "d\n"
     ]
    }
   ],
   "source": [
    "a = \"hello world\"\n",
    "l = len(a)\n",
    "print(l)\n",
    "for i in range(l):\n",
    "    print(a[i])"
   ]
  },
  {
   "cell_type": "code",
   "execution_count": 25,
   "id": "c51d8ead-e0e7-487d-a8a6-469b3f5cf346",
   "metadata": {},
   "outputs": [
    {
     "name": "stdout",
     "output_type": "stream",
     "text": [
      "h\n",
      "e\n",
      "l\n",
      "l\n",
      "o\n",
      " \n",
      "w\n",
      "o\n",
      "r\n",
      "l\n",
      "d\n"
     ]
    }
   ],
   "source": [
    "i = 0 \n",
    "l = len(a)\n",
    "while i<l:\n",
    "    print(a[i])\n",
    "    i = i+1"
   ]
  },
  {
   "cell_type": "code",
   "execution_count": 26,
   "id": "cef60660-6178-4117-9604-01f6835a6a85",
   "metadata": {},
   "outputs": [],
   "source": [
    "# string formatting"
   ]
  },
  {
   "cell_type": "code",
   "execution_count": 27,
   "id": "9a9c3e28-5c38-493d-839b-6c077b0b39c8",
   "metadata": {},
   "outputs": [
    {
     "name": "stdout",
     "output_type": "stream",
     "text": [
      "ramey10ktm\n"
     ]
    }
   ],
   "source": [
    "name = \"ramey\"\n",
    "age = 10\n",
    "add = \"ktm\"\n",
    "info = name + \"\" + str(age) + \"\" + add\n",
    "print(info)"
   ]
  },
  {
   "cell_type": "code",
   "execution_count": 30,
   "id": "d34a664b-fefc-47e5-a773-37436bdc77af",
   "metadata": {},
   "outputs": [
    {
     "name": "stdout",
     "output_type": "stream",
     "text": [
      "hello world i am ramey fom ktm and age is 10...\n"
     ]
    }
   ],
   "source": [
    "#  string formatting\n",
    "name = \"ramey\"\n",
    "age = 10\n",
    "add = \"ktm\"\n",
    "info = f\"hello world i am {name} fom {add} and age is {age}...\"\n",
    "print(info)"
   ]
  },
  {
   "cell_type": "code",
   "execution_count": 36,
   "id": "450f9d19-aab7-449c-a5f9-bbd277aa5137",
   "metadata": {},
   "outputs": [
    {
     "name": "stdin",
     "output_type": "stream",
     "text": [
      "enter the number of products in integer form =  2\n",
      "enter the name of that product =  lays\n",
      "enter the price of that product = 200\n",
      "enter the quantity in number = 5\n",
      "enter the name of that product =  coke\n",
      "enter the price of that product = 210\n",
      "enter the quantity in number = 3\n"
     ]
    },
    {
     "name": "stdout",
     "output_type": "stream",
     "text": [
      "********************** BILLING SYSTEM ************************\n",
      "lays         200.0          5.0        1000.0 \n",
      "coke         210.0          3.0        630.0 \n",
      "\n",
      "THE TOTAL COST TO THE TRANSACTION = 1630.0\n",
      "************** THANK YOU VISIT AGAIN **************\n"
     ]
    }
   ],
   "source": [
    "xyz =\"\"\n",
    "totalcost = 0\n",
    "n = int(input(\"enter the number of products in integer form = \"))\n",
    "for i in range(n):\n",
    "    name = input(\"enter the name of that product = \")\n",
    "    price = float(input(\"enter the price of that product =\"))\n",
    "    quantity = float(input(\"enter the quantity in number =\"))\n",
    "    total = (price*quantity)\n",
    "    totalcost = totalcost + total\n",
    "    xyz = xyz + f\"{ name}         {price }          {quantity}        {total} \\n\"\n",
    "print(\"********************** BILLING SYSTEM ************************\")\n",
    "print(xyz)\n",
    "print(\"THE TOTAL COST TO THE TRANSACTION =\",totalcost)\n",
    "print(\"************** THANK YOU VISIT AGAIN **************\")"
   ]
  },
  {
   "cell_type": "code",
   "execution_count": 39,
   "id": "7b84f309-6302-4a4f-ad9e-0802c229cda2",
   "metadata": {},
   "outputs": [
    {
     "name": "stdout",
     "output_type": "stream",
     "text": [
      "Yess\n"
     ]
    }
   ],
   "source": [
    "a = \"ram shyam hari gopal krishna\"\n",
    "search = \"ram\"\n",
    "if search in a:\n",
    "    print(\"Yess\")\n",
    "else:\n",
    "    print(\"Nooooooo\")"
   ]
  },
  {
   "cell_type": "code",
   "execution_count": 41,
   "id": "8a805b0b-ce42-415b-9792-c90641e39077",
   "metadata": {},
   "outputs": [
    {
     "name": "stdin",
     "output_type": "stream",
     "text": [
      "enter name = ram\n"
     ]
    },
    {
     "name": "stdout",
     "output_type": "stream",
     "text": [
      "Yess 1\n"
     ]
    }
   ],
   "source": [
    "a = \"ram shyam hari gopal krishna\"\n",
    "search = input(\"enter name =\")\n",
    "if search in a:\n",
    "    print(\"Yess\",a.count(search))\n",
    "else:\n",
    "    print(\"Nooooooo\")"
   ]
  },
  {
   "cell_type": "code",
   "execution_count": 42,
   "id": "ac7e0704-5e06-4bb1-b9b4-591a93b82808",
   "metadata": {},
   "outputs": [
    {
     "name": "stdout",
     "output_type": "stream",
     "text": [
      "ram shyam hari gopal krishna\n",
      "RAM SHYAM HARI GOPAL KRISHNA\n"
     ]
    }
   ],
   "source": [
    "print(a.lower())\n",
    "print(a.upper())"
   ]
  },
  {
   "cell_type": "code",
   "execution_count": 44,
   "id": "00e53140-0c95-48db-bee1-32e0ae3a27d6",
   "metadata": {},
   "outputs": [],
   "source": [
    "# a. lower() and a.upper are functions"
   ]
  },
  {
   "cell_type": "code",
   "execution_count": 45,
   "id": "1b8a6b6a-27fa-4b9a-8635-21ae565ddc9f",
   "metadata": {},
   "outputs": [
    {
     "name": "stdin",
     "output_type": "stream",
     "text": [
      "enter name ram\n"
     ]
    },
    {
     "name": "stdout",
     "output_type": "stream",
     "text": [
      "yes 1\n"
     ]
    }
   ],
   "source": [
    "a = \"Ram Sayam\".lower()\n",
    "search = input(\"enter name\").lower()\n",
    "if search in a:\n",
    "    print(\"yes\",a.count(search))\n",
    "else:\n",
    "    print(\"no\")"
   ]
  },
  {
   "cell_type": "code",
   "execution_count": 46,
   "id": "ad68d4d9-b376-49a7-bbf4-559fc0c5d254",
   "metadata": {},
   "outputs": [],
   "source": [
    "# string are immutable data type (force fully change garna parney)"
   ]
  },
  {
   "cell_type": "code",
   "execution_count": 48,
   "id": "3580853e-31c8-4c1a-93b2-c75f4367639f",
   "metadata": {},
   "outputs": [
    {
     "name": "stdout",
     "output_type": "stream",
     "text": [
      "ram shyam hari\n",
      "RAM SHYAM HARI\n",
      "Ram Shyam Hari\n"
     ]
    }
   ],
   "source": [
    "a = \"Ram Shyam Hari\"\n",
    "print(a.lower())\n",
    "print(a.upper())\n",
    "print(a)"
   ]
  },
  {
   "cell_type": "code",
   "execution_count": 3,
   "id": "4e618ef5-768a-47ab-9622-05cc3fbc4896",
   "metadata": {},
   "outputs": [
    {
     "name": "stdout",
     "output_type": "stream",
     "text": [
      "yes\n"
     ]
    }
   ],
   "source": [
    "a = \"Ram Shyam Hari GOpal\".lower()\n",
    "if \"ram\" not in a:\n",
    "    print(\"No\")\n",
    "else:\n",
    "    print(\"yes\")"
   ]
  },
  {
   "cell_type": "code",
   "execution_count": 51,
   "id": "7dfbb9c2-e522-4679-8c72-ff891d55860d",
   "metadata": {},
   "outputs": [
    {
     "name": "stdout",
     "output_type": "stream",
     "text": [
      "Ram Shyam Hari Gita\n"
     ]
    }
   ],
   "source": [
    "a = \"ram shyam hari gita\"\n",
    "print(a.title())"
   ]
  },
  {
   "cell_type": "code",
   "execution_count": 52,
   "id": "fe62578a-5af6-4759-8b2a-838a80453d38",
   "metadata": {},
   "outputs": [],
   "source": [
    "# space paxidi ko word lai capital ma convert .title()"
   ]
  },
  {
   "cell_type": "code",
   "execution_count": 53,
   "id": "1189d4d8-ab24-433e-bad7-8fef1f924a0c",
   "metadata": {},
   "outputs": [
    {
     "name": "stdout",
     "output_type": "stream",
     "text": [
      "False\n",
      "True\n"
     ]
    }
   ],
   "source": [
    "a = \"ram shyam hari gopal \"\n",
    "print(a.isupper())\n",
    "print(a.islower())"
   ]
  },
  {
   "cell_type": "code",
   "execution_count": 57,
   "id": "118b33c6-4015-4d68-9eca-255af2afcefd",
   "metadata": {},
   "outputs": [
    {
     "name": "stdout",
     "output_type": "stream",
     "text": [
      "True\n"
     ]
    }
   ],
   "source": [
    "a = \"Ram\"\n",
    "print(a[0].isupper())"
   ]
  },
  {
   "cell_type": "code",
   "execution_count": 58,
   "id": "91b913c0-dd2d-4831-bd45-89e9bae49582",
   "metadata": {},
   "outputs": [],
   "source": [
    "#  replace function\n",
    "# yeuta value lai aako le replace"
   ]
  },
  {
   "cell_type": "code",
   "execution_count": 62,
   "id": "bcce7099-e2ad-49c0-a510-461f39b07cd0",
   "metadata": {},
   "outputs": [
    {
     "name": "stdout",
     "output_type": "stream",
     "text": [
      "ram shyam hari gopal sita\n"
     ]
    }
   ],
   "source": [
    "a = \"ram shyam hari gopal sita\"\n",
    "a.replace('ram','Ramesh')\n",
    "print(a)"
   ]
  },
  {
   "cell_type": "code",
   "execution_count": 63,
   "id": "0c9e9c26-3ba0-40eb-8f66-1a2f11ac44f6",
   "metadata": {},
   "outputs": [
    {
     "name": "stdout",
     "output_type": "stream",
     "text": [
      "Ramesh shyam hari gopal sita\n"
     ]
    }
   ],
   "source": [
    "a = \"ram shyam hari gopal sita\"\n",
    "a = a.replace('ram','Ramesh')\n",
    "print(a)"
   ]
  },
  {
   "cell_type": "code",
   "execution_count": 66,
   "id": "aee68b4d-f082-479e-ac13-a0c89680cc19",
   "metadata": {},
   "outputs": [
    {
     "name": "stdout",
     "output_type": "stream",
     "text": [
      "Ramesh shyam hari gopal sita\n"
     ]
    }
   ],
   "source": [
    "a = \"ram shyam hari gopal sita\".replace('ram','Ramesh')\n",
    "print(a)"
   ]
  },
  {
   "cell_type": "code",
   "execution_count": 67,
   "id": "87a83e90-3a17-4f1f-b681-a6b273b91818",
   "metadata": {},
   "outputs": [
    {
     "name": "stdout",
     "output_type": "stream",
     "text": [
      " shyam hari gopal sita\n"
     ]
    }
   ],
   "source": [
    "a = \"ram shyam hari gopal sita\"\n",
    "a = a.replace('ram','')\n",
    "print(a)"
   ]
  },
  {
   "cell_type": "code",
   "execution_count": 68,
   "id": "3ea0b4ca-8628-493e-afc3-06a6d133e83e",
   "metadata": {},
   "outputs": [],
   "source": [
    "# wap to check palindrome or not\n"
   ]
  },
  {
   "cell_type": "code",
   "execution_count": 8,
   "id": "d59c59ab-de85-49e5-b466-8dc509d23ec2",
   "metadata": {},
   "outputs": [
    {
     "name": "stdin",
     "output_type": "stream",
     "text": [
      "enter a word = madam\n"
     ]
    },
    {
     "name": "stdout",
     "output_type": "stream",
     "text": [
      "palindrome\n"
     ]
    }
   ],
   "source": [
    "a = input(\"enter a word =\")\n",
    "b = (a[::-1])\n",
    "if a ==b:\n",
    "    print(\"palindrome\")\n",
    "else:\n",
    "    print(\"not palindrome\")"
   ]
  },
  {
   "cell_type": "code",
   "execution_count": null,
   "id": "5c49a300-625e-40dc-bcfc-68f88df5a47a",
   "metadata": {},
   "outputs": [],
   "source": []
  }
 ],
 "metadata": {
  "kernelspec": {
   "display_name": "Python 3 (ipykernel)",
   "language": "python",
   "name": "python3"
  },
  "language_info": {
   "codemirror_mode": {
    "name": "ipython",
    "version": 3
   },
   "file_extension": ".py",
   "mimetype": "text/x-python",
   "name": "python",
   "nbconvert_exporter": "python",
   "pygments_lexer": "ipython3",
   "version": "3.11.7"
  }
 },
 "nbformat": 4,
 "nbformat_minor": 5
}
