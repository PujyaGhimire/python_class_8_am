{
 "cells": [
  {
   "cell_type": "code",
   "execution_count": 1,
   "id": "07eab104-33fc-4d22-96f9-a30aa69c3105",
   "metadata": {},
   "outputs": [],
   "source": [
    "# public , protected , private"
   ]
  },
  {
   "cell_type": "code",
   "execution_count": 4,
   "id": "ac2e26b2-d4c4-44f0-944e-bcdc868df5c4",
   "metadata": {},
   "outputs": [
    {
     "name": "stdout",
     "output_type": "stream",
     "text": [
      "ram\n",
      "19\n",
      "ktm\n"
     ]
    }
   ],
   "source": [
    "class Info:\n",
    "    def __init__(self):\n",
    "        self.name = \"ram\"\n",
    "        self.age = 19\n",
    "        self.add = \"ktm\"\n",
    "obj = Info()\n",
    "print(obj.name)\n",
    "print(obj.age)\n",
    "print(obj.add)"
   ]
  },
  {
   "cell_type": "code",
   "execution_count": 5,
   "id": "23bc9403-44ee-4428-8687-995fbc7d32b3",
   "metadata": {},
   "outputs": [
    {
     "name": "stdout",
     "output_type": "stream",
     "text": [
      "ram\n",
      "19\n",
      "ktm\n"
     ]
    }
   ],
   "source": [
    "class Info:\n",
    "    def __init__(self):\n",
    "        self._name = \"ram\"\n",
    "        self._age = 19\n",
    "        self._add = \"ktm\"\n",
    "obj = Info()\n",
    "print(obj._name)\n",
    "print(obj._age)\n",
    "print(obj._add)"
   ]
  },
  {
   "cell_type": "code",
   "execution_count": 6,
   "id": "23f8918c-9121-440a-a226-5ace1a9bad22",
   "metadata": {},
   "outputs": [],
   "source": [
    "# private members\n"
   ]
  },
  {
   "cell_type": "code",
   "execution_count": 9,
   "id": "27bc3a74-b691-428a-9a0e-7c90ebabe8db",
   "metadata": {},
   "outputs": [],
   "source": [
    "# class Info:   \n",
    "#     def __init__(self):\n",
    "#         self.__name = \"ram\"\n",
    "#         self.__age = 19\n",
    "#         self.__add = \"ktm\"\n",
    "# obj = Info()\n",
    "# print(obj.__name)\n",
    "# print(obj.__age)\n",
    "# print(obj.__add)\n"
   ]
  },
  {
   "cell_type": "code",
   "execution_count": 17,
   "id": "eb6fc0f0-2896-4c13-80ad-fe8d55cb0c27",
   "metadata": {},
   "outputs": [
    {
     "name": "stdout",
     "output_type": "stream",
     "text": [
      "Hello World I am ram . I am 19\n",
      "Hello World I am ram . I am 19 From ktm\n",
      "ram\n"
     ]
    }
   ],
   "source": [
    "class Data:\n",
    "    def __init__(self):\n",
    "        self.name = \"ram\"       # public\n",
    "        self._age = 19          # protected\n",
    "        self.__add = \"ktm\"       # private\n",
    "    def ddtx(self):\n",
    "         print(f\"Hello World I am {self.name} . I am {self._age} From {self.__add}\")\n",
    "class Info(Data):\n",
    "    def info(self):\n",
    "       print(f\"Hello World I am {self.name} . I am {self._age}\")\n",
    "obj = Info()\n",
    "obj.info()\n",
    "obj.ddtx()\n",
    "print(obj.name)\n"
   ]
  },
  {
   "cell_type": "code",
   "execution_count": 26,
   "id": "49e59f38-2e39-4650-b311-8fcb9b2d7ce2",
   "metadata": {},
   "outputs": [
    {
     "name": "stdout",
     "output_type": "stream",
     "text": [
      "Hello World I am ram . I am 19 , From ktm\n",
      "Hello World I am ram . I am 19 From ktm\n",
      "ram\n"
     ]
    }
   ],
   "source": [
    "class Data:\n",
    "    def __init__(self):\n",
    "        self.name = \"ram\"       # public\n",
    "        self._age = 19          # protected\n",
    "        self.__add = \"ktm\"       # private\n",
    "    def my_add(self):\n",
    "         return self.__add\n",
    "    def data1(self):\n",
    "         print(f\"Hello World I am {self.name} . I am {self._age} From {self.__add}\")\n",
    "class Info(Data):\n",
    "    def info(self):\n",
    "       print(f\"Hello World I am {self.name} . I am {self._age} , From {super().my_add()}\")\n",
    "       # super().my_add()\n",
    "obj = Info()\n",
    "obj.info()\n",
    "obj.data1()\n",
    "print(obj.name)\n"
   ]
  },
  {
   "cell_type": "code",
   "execution_count": 27,
   "id": "4875cb42-460a-405b-b939-87e02b93076a",
   "metadata": {},
   "outputs": [],
   "source": [
    "# polymorphism"
   ]
  },
  {
   "cell_type": "code",
   "execution_count": 29,
   "id": "92ce2113-752b-467e-b4c1-19b39f660278",
   "metadata": {},
   "outputs": [
    {
     "name": "stdout",
     "output_type": "stream",
     "text": [
      "Parrot can fly\n",
      "Penguin can't fly\n"
     ]
    }
   ],
   "source": [
    "class Parrot:\n",
    "    def fly(self):\n",
    "        print(\"Parrot can fly\")\n",
    "    def swim(self):\n",
    "        print(\"Parrot can't swim\")\n",
    "class Penguin:\n",
    "    def fly(self):\n",
    "        print(\"Penguin can't fly\")\n",
    "    def swim(self):\n",
    "        print(\"Penguin can swim\")\n",
    "\n",
    "def flying_test(bird):\n",
    "    bird.fly()\n",
    "\n",
    "blu = Parrot()\n",
    "peggy = Penguin()\n",
    "flying_test(blu)\n",
    "flying_test(peggy)       "
   ]
  },
  {
   "cell_type": "code",
   "execution_count": 30,
   "id": "a0e67719-b925-4f7a-bac1-adbbbcf5d757",
   "metadata": {},
   "outputs": [
    {
     "name": "stdout",
     "output_type": "stream",
     "text": [
      "Parrot can fly\n",
      "Penguin can't fly\n",
      "Parrot can't swim\n",
      "Penguin can swim\n"
     ]
    }
   ],
   "source": [
    "class Parrot:\n",
    "    def fly(self):\n",
    "        print(\"Parrot can fly\")\n",
    "    def swim(self):\n",
    "        print(\"Parrot can't swim\")\n",
    "class Penguin:\n",
    "    def fly(self):\n",
    "        print(\"Penguin can't fly\")\n",
    "    def swim(self):\n",
    "        print(\"Penguin can swim\")\n",
    "\n",
    "def flying_test(bird):\n",
    "    bird.fly()\n",
    "def swim_test(bird):\n",
    "    bird.swim()\n",
    "\n",
    "blu = Parrot()\n",
    "peggy = Penguin()\n",
    "flying_test(blu)\n",
    "flying_test(peggy) \n",
    "swim_test(blu)\n",
    "swim_test(peggy)"
   ]
  },
  {
   "cell_type": "code",
   "execution_count": 33,
   "id": "70afa769-ba0a-456b-bb1c-6b1b9d38657f",
   "metadata": {},
   "outputs": [],
   "source": [
    "# str method \n"
   ]
  },
  {
   "cell_type": "code",
   "execution_count": 37,
   "id": "fe903e03-e174-4d52-bbb1-10596ef8dbc8",
   "metadata": {},
   "outputs": [
    {
     "name": "stdout",
     "output_type": "stream",
     "text": [
      "Narayan Gopal Shree Hari Parsad Kuwar\n"
     ]
    }
   ],
   "source": [
    "class Info:\n",
    "    def __init__(self):\n",
    "        self.name = \"Narayan Gopal Shree Hari Parsad Kuwar\"\n",
    "        self.age = 99\n",
    "        self.add = \"Kathmandu,Bhaktapur,Lalitpur\"\n",
    "    def __str__(self):    # only returns string\n",
    "        return self.name\n",
    "obj = Info()\n",
    "print(obj)"
   ]
  },
  {
   "cell_type": "code",
   "execution_count": 42,
   "id": "0722bc04-faf1-4ef0-a1bc-0c53c73549d2",
   "metadata": {},
   "outputs": [],
   "source": [
    "# b = \"shyam\"\n",
    "# a = obj + b\n",
    "\n",
    "# print(a)   : ERROR ERROR ERROR ERROR ERROR ERROR ERROR ERROR ERROR"
   ]
  },
  {
   "cell_type": "code",
   "execution_count": 40,
   "id": "383112f2-9593-4bcb-88c9-264feb0b0d6f",
   "metadata": {},
   "outputs": [
    {
     "data": {
      "text/plain": [
       "__main__.Info"
      ]
     },
     "execution_count": 40,
     "metadata": {},
     "output_type": "execute_result"
    }
   ],
   "source": [
    "type(obj)"
   ]
  },
  {
   "cell_type": "code",
   "execution_count": 45,
   "id": "544134eb-e11d-4028-a3e7-6aeb79eb1d63",
   "metadata": {},
   "outputs": [
    {
     "name": "stdout",
     "output_type": "stream",
     "text": [
      "Narayan Gopal Shree Hari Parsad Kuwar\n",
      "Narayan Gopal Shree Hari Parsad Kuwar\n",
      "Narayan Gopal Shree Hari Parsad Kuwar\n"
     ]
    }
   ],
   "source": [
    "class Info:\n",
    "    def __init__(self):\n",
    "        self.name = \"Narayan Gopal Shree Hari Parsad Kuwar\"\n",
    "        self.age = 99\n",
    "        self.add = \"Kathmandu,Bhaktapur,Lalitpur\"\n",
    "    def __str__(self):    # only returns string\n",
    "        return str(self.name)\n",
    "obj = Info()\n",
    "print(obj)\n",
    "print(str(obj))\n",
    "print(obj.__str__())"
   ]
  },
  {
   "cell_type": "code",
   "execution_count": 47,
   "id": "bfdde9e8-fa1d-4e8e-856e-a47e7f89442e",
   "metadata": {},
   "outputs": [],
   "source": [
    "# operator overloading\n"
   ]
  },
  {
   "cell_type": "code",
   "execution_count": 48,
   "id": "f515d881-e48a-4deb-84a7-b5248738e283",
   "metadata": {},
   "outputs": [
    {
     "name": "stdout",
     "output_type": "stream",
     "text": [
      "(1,5)\n"
     ]
    }
   ],
   "source": [
    "class Point:\n",
    "    def __init__(self,x=0,y=0):\n",
    "        self.x = x\n",
    "        self.y = y\n",
    "    def __str__(self):\n",
    "        return\"({0},{1})\".format(self.x,self.y)\n",
    "    def __add__(self,other):\n",
    "        x = self.x + other.x\n",
    "        y = self.y + other.y\n",
    "        return Point(x,y)\n",
    "p1 = Point(2,3)\n",
    "p2 = Point(-1,2)\n",
    "print(p1 + p2)"
   ]
  },
  {
   "cell_type": "code",
   "execution_count": 49,
   "id": "34f8997a-fe1a-4f3f-a563-978742c5ae45",
   "metadata": {},
   "outputs": [
    {
     "name": "stdout",
     "output_type": "stream",
     "text": [
      "1,5\n"
     ]
    }
   ],
   "source": [
    "class Point:\n",
    "    def __init__(self,x=0,y=0):\n",
    "        self.x = x\n",
    "        self.y = y\n",
    "    def __str__(self):\n",
    "        return f\"{self.x},{self.y}\"\n",
    "    def __add__(self,other):\n",
    "        x = self.x + other.x\n",
    "        y = self.y + other.y\n",
    "        return Point(x,y)\n",
    "p1 = Point(2,3)\n",
    "p2 = Point(-1,2)\n",
    "print(p1 + p2)"
   ]
  },
  {
   "cell_type": "code",
   "execution_count": 51,
   "id": "2b8d23a5-e334-4bdf-882e-53c7aa37e940",
   "metadata": {},
   "outputs": [],
   "source": [
    "# vdo"
   ]
  },
  {
   "cell_type": "code",
   "execution_count": 1,
   "id": "3e8dc49f-8432-4f82-82c6-962adb17a49c",
   "metadata": {},
   "outputs": [
    {
     "data": {
      "text/plain": [
       "'C:\\\\Users\\\\ghimi\\\\Downloads'"
      ]
     },
     "execution_count": 1,
     "metadata": {},
     "output_type": "execute_result"
    }
   ],
   "source": [
    "pwd\n"
   ]
  },
  {
   "cell_type": "code",
   "execution_count": null,
   "id": "575f4558-3062-4103-8280-69c2556ea368",
   "metadata": {},
   "outputs": [],
   "source": []
  }
 ],
 "metadata": {
  "kernelspec": {
   "display_name": "Python 3 (ipykernel)",
   "language": "python",
   "name": "python3"
  },
  "language_info": {
   "codemirror_mode": {
    "name": "ipython",
    "version": 3
   },
   "file_extension": ".py",
   "mimetype": "text/x-python",
   "name": "python",
   "nbconvert_exporter": "python",
   "pygments_lexer": "ipython3",
   "version": "3.11.7"
  }
 },
 "nbformat": 4,
 "nbformat_minor": 5
}
